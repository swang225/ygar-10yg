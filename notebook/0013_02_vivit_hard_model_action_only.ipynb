{
 "cells": [
  {
   "cell_type": "code",
   "execution_count": 1,
   "id": "877c05a0-1873-4c2a-8632-f6e34eeb24cc",
   "metadata": {
    "tags": []
   },
   "outputs": [
    {
     "name": "stderr",
     "output_type": "stream",
     "text": [
      "2023-04-20 23:23:45.608557: I tensorflow/core/util/port.cc:110] oneDNN custom operations are on. You may see slightly different numerical results due to floating-point round-off errors from different computation orders. To turn them off, set the environment variable `TF_ENABLE_ONEDNN_OPTS=0`.\n",
      "2023-04-20 23:23:45.610474: I tensorflow/tsl/cuda/cudart_stub.cc:28] Could not find cuda drivers on your machine, GPU will not be used.\n",
      "2023-04-20 23:23:45.645849: I tensorflow/tsl/cuda/cudart_stub.cc:28] Could not find cuda drivers on your machine, GPU will not be used.\n",
      "2023-04-20 23:23:45.646691: I tensorflow/core/platform/cpu_feature_guard.cc:182] This TensorFlow binary is optimized to use available CPU instructions in performance-critical operations.\n",
      "To enable the following instructions: AVX2 AVX512F AVX512_VNNI FMA, in other operations, rebuild TensorFlow with the appropriate compiler flags.\n",
      "2023-04-20 23:23:46.163903: W tensorflow/compiler/tf2tensorrt/utils/py_utils.cc:38] TF-TRT Warning: Could not find TensorRT\n"
     ]
    }
   ],
   "source": [
    "import os\n",
    "import io\n",
    "import imageio\n",
    "import ipywidgets\n",
    "import numpy as np\n",
    "import tensorflow as tf\n",
    "from tensorflow import keras\n",
    "from tensorflow.keras import layers\n",
    "import matplotlib.pyplot as plt\n",
    "\n",
    "from nebula.common import to_scale_one, write_pickle, read_pickle, display, display_color\n",
    "from nebula.data.yg_ar.setup_data_image_hard import split_ar_anim_df"
   ]
  },
  {
   "cell_type": "code",
   "execution_count": 2,
   "id": "3549cc6a-bb4c-4e9f-a0f0-7edffe661ae7",
   "metadata": {
    "tags": []
   },
   "outputs": [],
   "source": [
    "v5f_pickle_path = '/home/ubuntu/data/yg_ar/v5f_hard_df.pkl'\n",
    "save_model_path = './transformer_hard_action_only.h5'"
   ]
  },
  {
   "cell_type": "code",
   "execution_count": 3,
   "id": "a41e7f14-4c3e-4103-a314-97fec258e161",
   "metadata": {
    "tags": []
   },
   "outputs": [],
   "source": [
    "# Setting seed for reproducibility\n",
    "SEED = 42\n",
    "os.environ[\"TF_CUDNN_DETERMINISTIC\"] = \"1\"\n",
    "keras.utils.set_random_seed(SEED)"
   ]
  },
  {
   "cell_type": "code",
   "execution_count": 24,
   "id": "903f8d5a-ad3e-4004-98cf-7978fd1e586b",
   "metadata": {
    "tags": []
   },
   "outputs": [],
   "source": [
    "# DATA\n",
    "BATCH_SIZE = 8\n",
    "AUTO = tf.data.AUTOTUNE\n",
    "INPUT_SHAPE = (5, 156, 156, 1)\n",
    "NUM_CLASSES = 10\n",
    "\n",
    "# OPTIMIZER\n",
    "LEARNING_RATE = 1e-4\n",
    "WEIGHT_DECAY = 1e-5\n",
    "\n",
    "# TRAINING\n",
    "EPOCHS = 60\n",
    "\n",
    "# TUBELET EMBEDDING\n",
    "PATCH_SIZE = (2, 16, 16)\n",
    "NUM_PATCHES = (INPUT_SHAPE[0] // PATCH_SIZE[0]) ** 2\n",
    "\n",
    "# ViViT ARCHITECTURE\n",
    "LAYER_NORM_EPS = 1e-6\n",
    "PROJECTION_DIM = 128\n",
    "NUM_HEADS = 8\n",
    "NUM_LAYERS = 8"
   ]
  },
  {
   "cell_type": "code",
   "execution_count": 25,
   "id": "4f1d4192-951c-4716-81f1-d3de0151c42f",
   "metadata": {
    "tags": []
   },
   "outputs": [],
   "source": [
    "def create_label_map(labels):\n",
    "    label_set = set()\n",
    "    for lt in labels:\n",
    "        label_set.add(lt)\n",
    "        \n",
    "    label_set = list(label_set)\n",
    "    label_set.sort()\n",
    "\n",
    "    label_map = {}\n",
    "    count = 0\n",
    "    for l in label_set:\n",
    "        label_map[l] = count\n",
    "        count += 1\n",
    "        \n",
    "    return label_map"
   ]
  },
  {
   "cell_type": "code",
   "execution_count": 26,
   "id": "24b85953-600c-4916-954c-bafe99228969",
   "metadata": {
    "tags": []
   },
   "outputs": [],
   "source": [
    "df = read_pickle(v5f_pickle_path)"
   ]
  },
  {
   "cell_type": "code",
   "execution_count": 27,
   "id": "7f50db3f-41dc-4ce0-8324-f2e0933e00f5",
   "metadata": {
    "tags": []
   },
   "outputs": [],
   "source": [
    "random_seed = 1\n",
    "train_df, test_df, valid_df = split_ar_anim_df(df, random_seed)\n",
    "train_df = train_df.sample(frac=1, random_state=random_seed)  # randomize train_df"
   ]
  },
  {
   "cell_type": "code",
   "execution_count": 28,
   "id": "dbfcb337-dea5-43e0-88fa-8cd72ae0b8f4",
   "metadata": {
    "tags": []
   },
   "outputs": [],
   "source": [
    "label_map_a = create_label_map(df[\"label_a\"])\n",
    "label_map_at = create_label_map(df[\"label_at\"])"
   ]
  },
  {
   "cell_type": "code",
   "execution_count": 29,
   "id": "7576412e-ceca-42d3-bb75-2b2ed483390a",
   "metadata": {
    "tags": []
   },
   "outputs": [],
   "source": [
    "train_videos = np.array(train_df[\"images\"].to_list())"
   ]
  },
  {
   "cell_type": "code",
   "execution_count": 30,
   "id": "14bfd3a4-d195-4e59-b220-33f03430a37b",
   "metadata": {
    "tags": []
   },
   "outputs": [],
   "source": [
    "train_labels = train_df[\"label_a\"].map(label_map_a).to_list()\n",
    "# train_labels = train_df[\"label_at\"].map(label_map_at).to_list()"
   ]
  },
  {
   "cell_type": "code",
   "execution_count": 31,
   "id": "53bd1c4d-f131-420e-a50c-6414735961be",
   "metadata": {
    "tags": []
   },
   "outputs": [],
   "source": [
    "valid_videos = np.array(valid_df[\"images\"].to_list())\n",
    "valid_labels = valid_df[\"label_a\"].map(label_map_a).to_list()\n",
    "# valid_labels = valid_df[\"label_at\"].map(label_map_at).to_list()"
   ]
  },
  {
   "cell_type": "code",
   "execution_count": 32,
   "id": "13407c4b-c452-4dfe-bc95-4d891e0a2d7e",
   "metadata": {
    "tags": []
   },
   "outputs": [],
   "source": [
    "test_videos = np.array(test_df[\"images\"].to_list())\n",
    "test_labels = test_df[\"label_a\"].map(label_map_a).to_list()\n",
    "# test_labels = test_df[\"label_at\"].map(label_map_at).to_list()"
   ]
  },
  {
   "cell_type": "code",
   "execution_count": 33,
   "id": "c2d97b1d-a548-46c2-a353-86e9f09c7459",
   "metadata": {
    "tags": []
   },
   "outputs": [
    {
     "data": {
      "text/plain": [
       "array([0, 1, 2, 3, 4, 5, 6, 7, 8, 9])"
      ]
     },
     "execution_count": 33,
     "metadata": {},
     "output_type": "execute_result"
    }
   ],
   "source": [
    "np.unique(train_labels)"
   ]
  },
  {
   "cell_type": "code",
   "execution_count": 34,
   "id": "368334ff-67a6-4d7f-a0b5-fd23af8c51cd",
   "metadata": {
    "tags": []
   },
   "outputs": [
    {
     "data": {
      "text/plain": [
       "(16080, 5, 156, 156)"
      ]
     },
     "execution_count": 34,
     "metadata": {},
     "output_type": "execute_result"
    }
   ],
   "source": [
    "train_videos.shape"
   ]
  },
  {
   "cell_type": "code",
   "execution_count": 35,
   "id": "78bce7ec-a2ca-4fa3-9e94-67c0c1341ecd",
   "metadata": {
    "tags": []
   },
   "outputs": [
    {
     "data": {
      "text/plain": [
       "(156, 156)"
      ]
     },
     "execution_count": 35,
     "metadata": {},
     "output_type": "execute_result"
    }
   ],
   "source": [
    "train_videos[0][0,:,:].shape"
   ]
  },
  {
   "cell_type": "code",
   "execution_count": 36,
   "id": "47598cb5-d78b-463c-aaf5-82cbfab9f674",
   "metadata": {
    "tags": []
   },
   "outputs": [
    {
     "data": {
      "text/plain": [
       "<matplotlib.image.AxesImage at 0x7f7c0e6782e0>"
      ]
     },
     "execution_count": 36,
     "metadata": {},
     "output_type": "execute_result"
    },
    {
     "data": {
      "image/png": "[encoded data removed]",
      "text/plain": [
       "<Figure size 432x288 with 1 Axes>"
      ]
     },
     "metadata": {
      "needs_background": "light"
     },
     "output_type": "display_data"
    }
   ],
   "source": [
    "plt.imshow(train_videos[0][2,:,:], cmap=plt.cm.gray)"
   ]
  },
  {
   "cell_type": "code",
   "execution_count": 37,
   "id": "7b1d0ece-b949-4041-b820-040ee3ff5dd1",
   "metadata": {
    "tags": []
   },
   "outputs": [],
   "source": [
    "@tf.function\n",
    "def preprocess(frames: tf.Tensor, label: tf.Tensor):\n",
    "    \"\"\"Preprocess the frames tensors and parse the labels.\"\"\"\n",
    "    # Preprocess images\n",
    "    frames = tf.image.convert_image_dtype(\n",
    "        frames[\n",
    "            ..., tf.newaxis\n",
    "        ],  # The new axis is to help for further processing with Conv3D layers\n",
    "        tf.float32,\n",
    "    )\n",
    "    # Parse label\n",
    "    label = tf.cast(label, tf.float32)\n",
    "    return frames, label\n",
    "\n",
    "\n",
    "def prepare_dataloader(\n",
    "    videos: np.ndarray,\n",
    "    labels: np.ndarray,\n",
    "    loader_type: str = \"train\",\n",
    "    batch_size: int = BATCH_SIZE,\n",
    "):\n",
    "    \"\"\"Utility function to prepare the dataloader.\"\"\"\n",
    "    dataset = tf.data.Dataset.from_tensor_slices((videos, labels))\n",
    "\n",
    "    if loader_type == \"train\":\n",
    "        dataset = dataset.shuffle(BATCH_SIZE * 2)\n",
    "\n",
    "    dataloader = (\n",
    "        dataset.map(preprocess, num_parallel_calls=tf.data.AUTOTUNE)\n",
    "        .batch(batch_size)\n",
    "        .prefetch(tf.data.AUTOTUNE)\n",
    "    )\n",
    "    return dataloader\n",
    "\n",
    "\n",
    "trainloader = prepare_dataloader(train_videos, train_labels, \"train\")\n",
    "validloader = prepare_dataloader(valid_videos, valid_labels, \"valid\")\n",
    "testloader = prepare_dataloader(test_videos, test_labels, \"test\")"
   ]
  },
  {
   "cell_type": "code",
   "execution_count": 38,
   "id": "a225376e-4d22-41f4-97e0-11669dd1b377",
   "metadata": {
    "tags": []
   },
   "outputs": [],
   "source": [
    "class TubletProjection(layers.Layer):\n",
    "    def __init__(self, embed_dim, patch_size, **kwargs):\n",
    "        super().__init__(**kwargs)\n",
    "        self.projection = layers.Conv3D(\n",
    "            filters=embed_dim,\n",
    "            kernel_size=patch_size,\n",
    "            strides=patch_size,\n",
    "            padding=\"VALID\",\n",
    "        )\n",
    "\n",
    "    def call(self, videos):\n",
    "        projected_patches = self.projection(videos)\n",
    "        return projected_patches\n",
    "\n",
    "class TubeletEmbedding(layers.Layer):\n",
    "    def __init__(self, embed_dim, **kwargs):\n",
    "        super().__init__(**kwargs)\n",
    "        self.flatten = layers.Reshape(target_shape=(-1, embed_dim))\n",
    "\n",
    "    def call(self, projected_patches):\n",
    "        flattened_patches = self.flatten(projected_patches)\n",
    "        return flattened_patches"
   ]
  },
  {
   "cell_type": "code",
   "execution_count": 39,
   "id": "07a70344-e721-4d3b-a171-f18510319237",
   "metadata": {
    "tags": []
   },
   "outputs": [],
   "source": [
    "class PositionalEncoder(layers.Layer):\n",
    "    def __init__(self, embed_dim, **kwargs):\n",
    "        super().__init__(**kwargs)\n",
    "        self.embed_dim = embed_dim\n",
    "\n",
    "    def build(self, input_shape):\n",
    "        _, num_tokens, _ = input_shape\n",
    "        self.position_embedding = layers.Embedding(\n",
    "            input_dim=num_tokens, output_dim=self.embed_dim\n",
    "        )\n",
    "        self.positions = tf.range(start=0, limit=num_tokens, delta=1)\n",
    "\n",
    "    def call(self, encoded_tokens):\n",
    "        # Encode the positions and add it to the encoded tokens\n",
    "        encoded_positions = self.position_embedding(self.positions)\n",
    "        encoded_tokens = encoded_tokens + encoded_positions\n",
    "        return encoded_tokens"
   ]
  },
  {
   "cell_type": "code",
   "execution_count": 40,
   "id": "bb3d5042-1188-4079-bbf3-134c6a1608bf",
   "metadata": {
    "tags": []
   },
   "outputs": [],
   "source": [
    "def create_vivit_classifier(\n",
    "    tubelet_projector,\n",
    "    tubelet_embedder,\n",
    "    positional_encoder,\n",
    "    input_shape=INPUT_SHAPE,\n",
    "    transformer_layers=NUM_LAYERS,\n",
    "    num_heads=NUM_HEADS,\n",
    "    embed_dim=PROJECTION_DIM,\n",
    "    layer_norm_eps=LAYER_NORM_EPS,\n",
    "    num_classes=NUM_CLASSES,\n",
    "):\n",
    "    # Get the input layer\n",
    "    inputs = layers.Input(shape=input_shape)\n",
    "    # Create patches.\n",
    "    projected_patches = tubelet_projector(inputs)\n",
    "    patches = tubelet_embedder(projected_patches)\n",
    "    # Encode patches.\n",
    "    encoded_patches = positional_encoder(patches)\n",
    "\n",
    "    # Create multiple layers of the Transformer block.\n",
    "    for _ in range(transformer_layers):\n",
    "        # Layer normalization and MHSA\n",
    "        x1 = layers.LayerNormalization(epsilon=1e-6)(encoded_patches)\n",
    "        attention_output = layers.MultiHeadAttention(\n",
    "            num_heads=num_heads, key_dim=embed_dim // num_heads, dropout=0.1\n",
    "        )(x1, x1)\n",
    "\n",
    "        # Skip connection\n",
    "        x2 = layers.Add()([attention_output, encoded_patches])\n",
    "\n",
    "        # Layer Normalization and MLP\n",
    "        x3 = layers.LayerNormalization(epsilon=1e-6)(x2)\n",
    "        x3 = keras.Sequential(\n",
    "            [\n",
    "                layers.Dense(units=embed_dim * 4, activation=tf.nn.gelu),\n",
    "                layers.Dense(units=embed_dim, activation=tf.nn.gelu),\n",
    "            ]\n",
    "        )(x3)\n",
    "\n",
    "        # Skip connection\n",
    "        encoded_patches = layers.Add()([x3, x2])\n",
    "\n",
    "    # Layer normalization and Global average pooling.\n",
    "    representation = layers.LayerNormalization(epsilon=layer_norm_eps)(encoded_patches)\n",
    "    representation = layers.GlobalAvgPool1D()(representation)\n",
    "\n",
    "    # Classify outputs.\n",
    "    outputs = layers.Dense(units=num_classes, activation=\"softmax\")(representation)\n",
    "\n",
    "    # Create the Keras model.\n",
    "    model = keras.Model(inputs=inputs, outputs=outputs)\n",
    "    return model"
   ]
  },
  {
   "cell_type": "code",
   "execution_count": 41,
   "id": "cdae6e8d-d516-4aa7-81e8-752e0f1d894d",
   "metadata": {
    "tags": []
   },
   "outputs": [],
   "source": [
    "model = create_vivit_classifier(\n",
    "        tubelet_projector = TubletProjection(\n",
    "            embed_dim=PROJECTION_DIM, patch_size=PATCH_SIZE\n",
    "        ),\n",
    "        tubelet_embedder=TubeletEmbedding(embed_dim=PROJECTION_DIM),\n",
    "        positional_encoder=PositionalEncoder(embed_dim=PROJECTION_DIM),\n",
    "    )"
   ]
  },
  {
   "cell_type": "code",
   "execution_count": 42,
   "id": "c66e0cd8-2ad4-4e2a-a044-6dd76b9696e9",
   "metadata": {
    "tags": []
   },
   "outputs": [
    {
     "name": "stdout",
     "output_type": "stream",
     "text": [
      "Model: \"model_1\"\n",
      "__________________________________________________________________________________________________\n",
      " Layer (type)                   Output Shape         Param #     Connected to                     \n",
      "==================================================================================================\n",
      " input_2 (InputLayer)           [(None, 5, 156, 156  0           []                               \n",
      "                                , 1)]                                                             \n",
      "                                                                                                  \n",
      " tublet_projection_1 (TubletPro  (None, 2, 9, 9, 128  65664      ['input_2[0][0]']                \n",
      " jection)                       )                                                                 \n",
      "                                                                                                  \n",
      " tubelet_embedding_1 (TubeletEm  (None, 162, 128)    0           ['tublet_projection_1[0][0]']    \n",
      " bedding)                                                                                         \n",
      "                                                                                                  \n",
      " positional_encoder_1 (Position  (None, 162, 128)    20736       ['tubelet_embedding_1[0][0]']    \n",
      " alEncoder)                                                                                       \n",
      "                                                                                                  \n",
      " layer_normalization_17 (LayerN  (None, 162, 128)    256         ['positional_encoder_1[0][0]']   \n",
      " ormalization)                                                                                    \n",
      "                                                                                                  \n",
      " multi_head_attention_8 (MultiH  (None, 162, 128)    66048       ['layer_normalization_17[0][0]', \n",
      " eadAttention)                                                    'layer_normalization_17[0][0]'] \n",
      "                                                                                                  \n",
      " add_16 (Add)                   (None, 162, 128)     0           ['multi_head_attention_8[0][0]', \n",
      "                                                                  'positional_encoder_1[0][0]']   \n",
      "                                                                                                  \n",
      " layer_normalization_18 (LayerN  (None, 162, 128)    256         ['add_16[0][0]']                 \n",
      " ormalization)                                                                                    \n",
      "                                                                                                  \n",
      " sequential_8 (Sequential)      (None, 162, 128)     131712      ['layer_normalization_18[0][0]'] \n",
      "                                                                                                  \n",
      " add_17 (Add)                   (None, 162, 128)     0           ['sequential_8[0][0]',           \n",
      "                                                                  'add_16[0][0]']                 \n",
      "                                                                                                  \n",
      " layer_normalization_19 (LayerN  (None, 162, 128)    256         ['add_17[0][0]']                 \n",
      " ormalization)                                                                                    \n",
      "                                                                                                  \n",
      " multi_head_attention_9 (MultiH  (None, 162, 128)    66048       ['layer_normalization_19[0][0]', \n",
      " eadAttention)                                                    'layer_normalization_19[0][0]'] \n",
      "                                                                                                  \n",
      " add_18 (Add)                   (None, 162, 128)     0           ['multi_head_attention_9[0][0]', \n",
      "                                                                  'add_17[0][0]']                 \n",
      "                                                                                                  \n",
      " layer_normalization_20 (LayerN  (None, 162, 128)    256         ['add_18[0][0]']                 \n",
      " ormalization)                                                                                    \n",
      "                                                                                                  \n",
      " sequential_9 (Sequential)      (None, 162, 128)     131712      ['layer_normalization_20[0][0]'] \n",
      "                                                                                                  \n",
      " add_19 (Add)                   (None, 162, 128)     0           ['sequential_9[0][0]',           \n",
      "                                                                  'add_18[0][0]']                 \n",
      "                                                                                                  \n",
      " layer_normalization_21 (LayerN  (None, 162, 128)    256         ['add_19[0][0]']                 \n",
      " ormalization)                                                                                    \n",
      "                                                                                                  \n",
      " multi_head_attention_10 (Multi  (None, 162, 128)    66048       ['layer_normalization_21[0][0]', \n",
      " HeadAttention)                                                   'layer_normalization_21[0][0]'] \n",
      "                                                                                                  \n",
      " add_20 (Add)                   (None, 162, 128)     0           ['multi_head_attention_10[0][0]',\n",
      "                                                                  'add_19[0][0]']                 \n",
      "                                                                                                  \n",
      " layer_normalization_22 (LayerN  (None, 162, 128)    256         ['add_20[0][0]']                 \n",
      " ormalization)                                                                                    \n",
      "                                                                                                  \n",
      " sequential_10 (Sequential)     (None, 162, 128)     131712      ['layer_normalization_22[0][0]'] \n",
      "                                                                                                  \n",
      " add_21 (Add)                   (None, 162, 128)     0           ['sequential_10[0][0]',          \n",
      "                                                                  'add_20[0][0]']                 \n",
      "                                                                                                  \n",
      " layer_normalization_23 (LayerN  (None, 162, 128)    256         ['add_21[0][0]']                 \n",
      " ormalization)                                                                                    \n",
      "                                                                                                  \n",
      " multi_head_attention_11 (Multi  (None, 162, 128)    66048       ['layer_normalization_23[0][0]', \n",
      " HeadAttention)                                                   'layer_normalization_23[0][0]'] \n",
      "                                                                                                  \n",
      " add_22 (Add)                   (None, 162, 128)     0           ['multi_head_attention_11[0][0]',\n",
      "                                                                  'add_21[0][0]']                 \n",
      "                                                                                                  \n",
      " layer_normalization_24 (LayerN  (None, 162, 128)    256         ['add_22[0][0]']                 \n",
      " ormalization)                                                                                    \n",
      "                                                                                                  \n",
      " sequential_11 (Sequential)     (None, 162, 128)     131712      ['layer_normalization_24[0][0]'] \n",
      "                                                                                                  \n",
      " add_23 (Add)                   (None, 162, 128)     0           ['sequential_11[0][0]',          \n",
      "                                                                  'add_22[0][0]']                 \n",
      "                                                                                                  \n",
      " layer_normalization_25 (LayerN  (None, 162, 128)    256         ['add_23[0][0]']                 \n",
      " ormalization)                                                                                    \n",
      "                                                                                                  \n",
      " multi_head_attention_12 (Multi  (None, 162, 128)    66048       ['layer_normalization_25[0][0]', \n",
      " HeadAttention)                                                   'layer_normalization_25[0][0]'] \n",
      "                                                                                                  \n",
      " add_24 (Add)                   (None, 162, 128)     0           ['multi_head_attention_12[0][0]',\n",
      "                                                                  'add_23[0][0]']                 \n",
      "                                                                                                  \n",
      " layer_normalization_26 (LayerN  (None, 162, 128)    256         ['add_24[0][0]']                 \n",
      " ormalization)                                                                                    \n",
      "                                                                                                  \n",
      " sequential_12 (Sequential)     (None, 162, 128)     131712      ['layer_normalization_26[0][0]'] \n",
      "                                                                                                  \n",
      " add_25 (Add)                   (None, 162, 128)     0           ['sequential_12[0][0]',          \n",
      "                                                                  'add_24[0][0]']                 \n",
      "                                                                                                  \n",
      " layer_normalization_27 (LayerN  (None, 162, 128)    256         ['add_25[0][0]']                 \n",
      " ormalization)                                                                                    \n",
      "                                                                                                  \n",
      " multi_head_attention_13 (Multi  (None, 162, 128)    66048       ['layer_normalization_27[0][0]', \n",
      " HeadAttention)                                                   'layer_normalization_27[0][0]'] \n",
      "                                                                                                  \n",
      " add_26 (Add)                   (None, 162, 128)     0           ['multi_head_attention_13[0][0]',\n",
      "                                                                  'add_25[0][0]']                 \n",
      "                                                                                                  \n",
      " layer_normalization_28 (LayerN  (None, 162, 128)    256         ['add_26[0][0]']                 \n",
      " ormalization)                                                                                    \n",
      "                                                                                                  \n",
      " sequential_13 (Sequential)     (None, 162, 128)     131712      ['layer_normalization_28[0][0]'] \n",
      "                                                                                                  \n",
      " add_27 (Add)                   (None, 162, 128)     0           ['sequential_13[0][0]',          \n",
      "                                                                  'add_26[0][0]']                 \n",
      "                                                                                                  \n",
      " layer_normalization_29 (LayerN  (None, 162, 128)    256         ['add_27[0][0]']                 \n",
      " ormalization)                                                                                    \n",
      "                                                                                                  \n",
      " multi_head_attention_14 (Multi  (None, 162, 128)    66048       ['layer_normalization_29[0][0]', \n",
      " HeadAttention)                                                   'layer_normalization_29[0][0]'] \n",
      "                                                                                                  \n",
      " add_28 (Add)                   (None, 162, 128)     0           ['multi_head_attention_14[0][0]',\n",
      "                                                                  'add_27[0][0]']                 \n",
      "                                                                                                  \n",
      " layer_normalization_30 (LayerN  (None, 162, 128)    256         ['add_28[0][0]']                 \n",
      " ormalization)                                                                                    \n",
      "                                                                                                  \n",
      " sequential_14 (Sequential)     (None, 162, 128)     131712      ['layer_normalization_30[0][0]'] \n",
      "                                                                                                  \n",
      " add_29 (Add)                   (None, 162, 128)     0           ['sequential_14[0][0]',          \n",
      "                                                                  'add_28[0][0]']                 \n",
      "                                                                                                  \n",
      " layer_normalization_31 (LayerN  (None, 162, 128)    256         ['add_29[0][0]']                 \n",
      " ormalization)                                                                                    \n",
      "                                                                                                  \n",
      " multi_head_attention_15 (Multi  (None, 162, 128)    66048       ['layer_normalization_31[0][0]', \n",
      " HeadAttention)                                                   'layer_normalization_31[0][0]'] \n",
      "                                                                                                  \n",
      " add_30 (Add)                   (None, 162, 128)     0           ['multi_head_attention_15[0][0]',\n",
      "                                                                  'add_29[0][0]']                 \n",
      "                                                                                                  \n",
      " layer_normalization_32 (LayerN  (None, 162, 128)    256         ['add_30[0][0]']                 \n",
      " ormalization)                                                                                    \n",
      "                                                                                                  \n",
      " sequential_15 (Sequential)     (None, 162, 128)     131712      ['layer_normalization_32[0][0]'] \n",
      "                                                                                                  \n",
      " add_31 (Add)                   (None, 162, 128)     0           ['sequential_15[0][0]',          \n",
      "                                                                  'add_30[0][0]']                 \n",
      "                                                                                                  \n",
      " layer_normalization_33 (LayerN  (None, 162, 128)    256         ['add_31[0][0]']                 \n",
      " ormalization)                                                                                    \n",
      "                                                                                                  \n",
      " global_average_pooling1d_1 (Gl  (None, 128)         0           ['layer_normalization_33[0][0]'] \n",
      " obalAveragePooling1D)                                                                            \n",
      "                                                                                                  \n",
      " dense_33 (Dense)               (None, 10)           1290        ['global_average_pooling1d_1[0][0\n",
      "                                                                 ]']                              \n",
      "                                                                                                  \n",
      "==================================================================================================\n",
      "Total params: 1,674,122\n",
      "Trainable params: 1,674,122\n",
      "Non-trainable params: 0\n",
      "__________________________________________________________________________________________________\n"
     ]
    }
   ],
   "source": [
    "model.summary()"
   ]
  },
  {
   "cell_type": "code",
   "execution_count": 43,
   "id": "f0c10d4d-90eb-4f7c-b929-56b9a84aa01d",
   "metadata": {
    "tags": []
   },
   "outputs": [
    {
     "name": "stdout",
     "output_type": "stream",
     "text": [
      "Epoch 1/60\n"
     ]
    },
    {
     "name": "stderr",
     "output_type": "stream",
     "text": [
      "2023-04-20 23:24:42.409613: I tensorflow/core/common_runtime/executor.cc:1197] [/device:CPU:0] (DEBUG INFO) Executor start aborting (this does not indicate an error and you can ignore this message): INVALID_ARGUMENT: You must feed a value for placeholder tensor 'Placeholder/_0' with dtype uint8 and shape [16080,5,156,156]\n",
      "\t [[{{node Placeholder/_0}}]]\n",
      "2023-04-20 23:24:42.409879: I tensorflow/core/common_runtime/executor.cc:1197] [/device:CPU:0] (DEBUG INFO) Executor start aborting (this does not indicate an error and you can ignore this message): INVALID_ARGUMENT: You must feed a value for placeholder tensor 'Placeholder/_0' with dtype uint8 and shape [16080,5,156,156]\n",
      "\t [[{{node Placeholder/_0}}]]\n"
     ]
    },
    {
     "name": "stdout",
     "output_type": "stream",
     "text": [
      "2010/2010 [==============================] - ETA: 0s - loss: 2.3436 - accuracy: 0.0973 - top-5-accuracy: 0.4947"
     ]
    },
    {
     "name": "stderr",
     "output_type": "stream",
     "text": [
      "2023-04-20 23:30:55.232567: I tensorflow/core/common_runtime/executor.cc:1197] [/device:CPU:0] (DEBUG INFO) Executor start aborting (this does not indicate an error and you can ignore this message): INVALID_ARGUMENT: You must feed a value for placeholder tensor 'Placeholder/_1' with dtype int32 and shape [1760]\n",
      "\t [[{{node Placeholder/_1}}]]\n",
      "2023-04-20 23:30:55.232818: I tensorflow/core/common_runtime/executor.cc:1197] [/device:CPU:0] (DEBUG INFO) Executor start aborting (this does not indicate an error and you can ignore this message): INVALID_ARGUMENT: You must feed a value for placeholder tensor 'Placeholder/_1' with dtype int32 and shape [1760]\n",
      "\t [[{{node Placeholder/_1}}]]\n"
     ]
    },
    {
     "name": "stdout",
     "output_type": "stream",
     "text": [
      "2010/2010 [==============================] - 387s 188ms/step - loss: 2.3436 - accuracy: 0.0973 - top-5-accuracy: 0.4947 - val_loss: 2.3123 - val_accuracy: 0.1000 - val_top-5-accuracy: 0.5000\n",
      "Epoch 2/60\n",
      "2010/2010 [==============================] - 378s 188ms/step - loss: 2.3199 - accuracy: 0.0984 - top-5-accuracy: 0.4935 - val_loss: 2.3119 - val_accuracy: 0.1006 - val_top-5-accuracy: 0.5000\n",
      "Epoch 3/60\n",
      "2010/2010 [==============================] - 377s 187ms/step - loss: 2.3152 - accuracy: 0.1006 - top-5-accuracy: 0.4902 - val_loss: 2.3093 - val_accuracy: 0.1011 - val_top-5-accuracy: 0.5000\n",
      "Epoch 4/60\n",
      "2010/2010 [==============================] - 377s 187ms/step - loss: 2.3112 - accuracy: 0.0997 - top-5-accuracy: 0.4978 - val_loss: 2.3053 - val_accuracy: 0.1176 - val_top-5-accuracy: 0.5091\n",
      "Epoch 5/60\n",
      "2010/2010 [==============================] - 377s 187ms/step - loss: 2.2207 - accuracy: 0.1432 - top-5-accuracy: 0.5987 - val_loss: 2.0466 - val_accuracy: 0.1920 - val_top-5-accuracy: 0.7216\n",
      "Epoch 6/60\n",
      "2010/2010 [==============================] - 377s 188ms/step - loss: 2.0186 - accuracy: 0.2150 - top-5-accuracy: 0.7525 - val_loss: 1.9254 - val_accuracy: 0.2392 - val_top-5-accuracy: 0.8017\n",
      "Epoch 7/60\n",
      "2010/2010 [==============================] - 377s 188ms/step - loss: 1.8332 - accuracy: 0.2876 - top-5-accuracy: 0.8487 - val_loss: 1.6284 - val_accuracy: 0.3614 - val_top-5-accuracy: 0.9273\n",
      "Epoch 8/60\n",
      "2010/2010 [==============================] - 377s 187ms/step - loss: 1.4736 - accuracy: 0.4228 - top-5-accuracy: 0.9456 - val_loss: 1.2814 - val_accuracy: 0.4898 - val_top-5-accuracy: 0.9682\n",
      "Epoch 9/60\n",
      "2010/2010 [==============================] - 377s 188ms/step - loss: 1.1930 - accuracy: 0.5415 - top-5-accuracy: 0.9724 - val_loss: 1.0393 - val_accuracy: 0.6051 - val_top-5-accuracy: 0.9778\n",
      "Epoch 10/60\n",
      "2010/2010 [==============================] - 378s 188ms/step - loss: 1.0228 - accuracy: 0.6088 - top-5-accuracy: 0.9827 - val_loss: 1.1453 - val_accuracy: 0.5648 - val_top-5-accuracy: 0.9722\n",
      "Epoch 11/60\n",
      "2010/2010 [==============================] - 378s 188ms/step - loss: 0.9187 - accuracy: 0.6524 - top-5-accuracy: 0.9864 - val_loss: 0.8920 - val_accuracy: 0.6631 - val_top-5-accuracy: 0.9886\n",
      "Epoch 12/60\n",
      "2010/2010 [==============================] - 377s 187ms/step - loss: 0.8154 - accuracy: 0.6894 - top-5-accuracy: 0.9910 - val_loss: 0.8713 - val_accuracy: 0.6790 - val_top-5-accuracy: 0.9869\n",
      "Epoch 13/60\n",
      "2010/2010 [==============================] - 376s 187ms/step - loss: 0.7317 - accuracy: 0.7175 - top-5-accuracy: 0.9923 - val_loss: 0.8007 - val_accuracy: 0.7000 - val_top-5-accuracy: 0.9898\n",
      "Epoch 14/60\n",
      "2010/2010 [==============================] - 376s 187ms/step - loss: 0.6868 - accuracy: 0.7361 - top-5-accuracy: 0.9940 - val_loss: 0.6923 - val_accuracy: 0.7415 - val_top-5-accuracy: 0.9926\n",
      "Epoch 15/60\n",
      "2010/2010 [==============================] - 376s 187ms/step - loss: 0.6316 - accuracy: 0.7571 - top-5-accuracy: 0.9955 - val_loss: 0.6585 - val_accuracy: 0.7523 - val_top-5-accuracy: 0.9943\n",
      "Epoch 16/60\n",
      "2010/2010 [==============================] - 376s 187ms/step - loss: 0.5959 - accuracy: 0.7711 - top-5-accuracy: 0.9972 - val_loss: 0.7806 - val_accuracy: 0.7222 - val_top-5-accuracy: 0.9903\n",
      "Epoch 17/60\n",
      "2010/2010 [==============================] - 376s 187ms/step - loss: 0.5599 - accuracy: 0.7856 - top-5-accuracy: 0.9968 - val_loss: 0.6879 - val_accuracy: 0.7517 - val_top-5-accuracy: 0.9932\n",
      "Epoch 18/60\n",
      "2010/2010 [==============================] - 376s 187ms/step - loss: 0.5186 - accuracy: 0.8029 - top-5-accuracy: 0.9971 - val_loss: 0.6024 - val_accuracy: 0.7744 - val_top-5-accuracy: 0.9932\n",
      "Epoch 19/60\n",
      "2010/2010 [==============================] - 376s 187ms/step - loss: 0.4774 - accuracy: 0.8183 - top-5-accuracy: 0.9979 - val_loss: 0.5879 - val_accuracy: 0.7920 - val_top-5-accuracy: 0.9926\n",
      "Epoch 20/60\n",
      "2010/2010 [==============================] - 376s 187ms/step - loss: 0.4664 - accuracy: 0.8256 - top-5-accuracy: 0.9985 - val_loss: 0.5695 - val_accuracy: 0.7915 - val_top-5-accuracy: 0.9943\n",
      "Epoch 21/60\n",
      "2010/2010 [==============================] - 376s 187ms/step - loss: 0.4326 - accuracy: 0.8380 - top-5-accuracy: 0.9987 - val_loss: 0.5956 - val_accuracy: 0.7903 - val_top-5-accuracy: 0.9920\n",
      "Epoch 22/60\n",
      "2010/2010 [==============================] - 376s 187ms/step - loss: 0.4055 - accuracy: 0.8466 - top-5-accuracy: 0.9990 - val_loss: 0.5962 - val_accuracy: 0.7915 - val_top-5-accuracy: 0.9955\n",
      "Epoch 23/60\n",
      "2010/2010 [==============================] - 376s 187ms/step - loss: 0.3743 - accuracy: 0.8590 - top-5-accuracy: 0.9991 - val_loss: 0.6192 - val_accuracy: 0.7767 - val_top-5-accuracy: 0.9932\n",
      "Epoch 24/60\n",
      "2010/2010 [==============================] - 376s 187ms/step - loss: 0.3451 - accuracy: 0.8701 - top-5-accuracy: 0.9991 - val_loss: 0.6588 - val_accuracy: 0.7739 - val_top-5-accuracy: 0.9937\n",
      "Epoch 25/60\n",
      "2010/2010 [==============================] - 376s 187ms/step - loss: 0.3320 - accuracy: 0.8761 - top-5-accuracy: 0.9992 - val_loss: 0.6860 - val_accuracy: 0.7864 - val_top-5-accuracy: 0.9920\n",
      "Epoch 26/60\n",
      "2010/2010 [==============================] - 376s 187ms/step - loss: 0.3023 - accuracy: 0.8886 - top-5-accuracy: 0.9991 - val_loss: 0.6000 - val_accuracy: 0.8091 - val_top-5-accuracy: 0.9920\n",
      "Epoch 27/60\n",
      "2010/2010 [==============================] - 377s 188ms/step - loss: 0.2885 - accuracy: 0.8943 - top-5-accuracy: 0.9998 - val_loss: 0.7166 - val_accuracy: 0.7659 - val_top-5-accuracy: 0.9915\n",
      "Epoch 28/60\n",
      "2010/2010 [==============================] - 377s 188ms/step - loss: 0.2621 - accuracy: 0.9019 - top-5-accuracy: 0.9995 - val_loss: 0.6808 - val_accuracy: 0.8023 - val_top-5-accuracy: 0.9932\n",
      "Epoch 29/60\n",
      "2010/2010 [==============================] - 377s 187ms/step - loss: 0.2422 - accuracy: 0.9096 - top-5-accuracy: 0.9999 - val_loss: 0.6842 - val_accuracy: 0.7972 - val_top-5-accuracy: 0.9915\n",
      "Epoch 30/60\n",
      "2010/2010 [==============================] - 377s 187ms/step - loss: 0.2319 - accuracy: 0.9141 - top-5-accuracy: 0.9998 - val_loss: 0.6464 - val_accuracy: 0.8165 - val_top-5-accuracy: 0.9920\n",
      "Epoch 31/60\n",
      "2010/2010 [==============================] - 376s 187ms/step - loss: 0.2068 - accuracy: 0.9260 - top-5-accuracy: 0.9998 - val_loss: 0.6508 - val_accuracy: 0.8131 - val_top-5-accuracy: 0.9920\n",
      "Epoch 32/60\n",
      "2010/2010 [==============================] - 376s 187ms/step - loss: 0.2031 - accuracy: 0.9257 - top-5-accuracy: 0.9998 - val_loss: 0.6958 - val_accuracy: 0.8006 - val_top-5-accuracy: 0.9920\n",
      "Epoch 33/60\n",
      "2010/2010 [==============================] - 377s 187ms/step - loss: 0.1887 - accuracy: 0.9334 - top-5-accuracy: 0.9995 - val_loss: 0.7627 - val_accuracy: 0.7756 - val_top-5-accuracy: 0.9909\n",
      "Epoch 34/60\n",
      "2010/2010 [==============================] - 377s 188ms/step - loss: 0.1713 - accuracy: 0.9373 - top-5-accuracy: 0.9999 - val_loss: 0.7211 - val_accuracy: 0.8028 - val_top-5-accuracy: 0.9915\n",
      "Epoch 35/60\n",
      "2010/2010 [==============================] - 377s 187ms/step - loss: 0.1604 - accuracy: 0.9406 - top-5-accuracy: 0.9999 - val_loss: 0.7362 - val_accuracy: 0.7983 - val_top-5-accuracy: 0.9909\n",
      "Epoch 36/60\n",
      "2010/2010 [==============================] - 377s 187ms/step - loss: 0.1644 - accuracy: 0.9405 - top-5-accuracy: 0.9999 - val_loss: 0.6717 - val_accuracy: 0.8142 - val_top-5-accuracy: 0.9909\n",
      "Epoch 37/60\n",
      "2010/2010 [==============================] - 376s 187ms/step - loss: 0.1419 - accuracy: 0.9490 - top-5-accuracy: 1.0000 - val_loss: 0.7450 - val_accuracy: 0.8119 - val_top-5-accuracy: 0.9886\n",
      "Epoch 38/60\n",
      "2010/2010 [==============================] - 376s 187ms/step - loss: 0.1452 - accuracy: 0.9496 - top-5-accuracy: 1.0000 - val_loss: 0.7004 - val_accuracy: 0.8125 - val_top-5-accuracy: 0.9898\n",
      "Epoch 39/60\n",
      "2010/2010 [==============================] - 376s 187ms/step - loss: 0.1295 - accuracy: 0.9517 - top-5-accuracy: 1.0000 - val_loss: 0.7602 - val_accuracy: 0.8176 - val_top-5-accuracy: 0.9920\n",
      "Epoch 40/60\n",
      "2010/2010 [==============================] - 376s 187ms/step - loss: 0.1303 - accuracy: 0.9528 - top-5-accuracy: 0.9999 - val_loss: 0.6316 - val_accuracy: 0.8330 - val_top-5-accuracy: 0.9915\n",
      "Epoch 41/60\n",
      "2010/2010 [==============================] - 376s 187ms/step - loss: 0.1157 - accuracy: 0.9570 - top-5-accuracy: 1.0000 - val_loss: 0.6809 - val_accuracy: 0.8375 - val_top-5-accuracy: 0.9943\n",
      "Epoch 42/60\n",
      "2010/2010 [==============================] - 376s 187ms/step - loss: 0.1211 - accuracy: 0.9575 - top-5-accuracy: 0.9999 - val_loss: 0.7086 - val_accuracy: 0.8205 - val_top-5-accuracy: 0.9915\n",
      "Epoch 43/60\n",
      "2010/2010 [==============================] - 376s 187ms/step - loss: 0.1063 - accuracy: 0.9634 - top-5-accuracy: 1.0000 - val_loss: 0.8415 - val_accuracy: 0.8011 - val_top-5-accuracy: 0.9892\n",
      "Epoch 44/60\n",
      "2010/2010 [==============================] - 376s 187ms/step - loss: 0.1075 - accuracy: 0.9612 - top-5-accuracy: 0.9999 - val_loss: 0.7059 - val_accuracy: 0.8199 - val_top-5-accuracy: 0.9937\n",
      "Epoch 45/60\n",
      "2010/2010 [==============================] - 376s 187ms/step - loss: 0.1019 - accuracy: 0.9627 - top-5-accuracy: 0.9999 - val_loss: 0.6563 - val_accuracy: 0.8318 - val_top-5-accuracy: 0.9915\n",
      "Epoch 46/60\n",
      "2010/2010 [==============================] - 376s 187ms/step - loss: 0.0935 - accuracy: 0.9659 - top-5-accuracy: 1.0000 - val_loss: 0.7985 - val_accuracy: 0.8080 - val_top-5-accuracy: 0.9886\n",
      "Epoch 47/60\n",
      "2010/2010 [==============================] - 376s 187ms/step - loss: 0.0931 - accuracy: 0.9647 - top-5-accuracy: 0.9999 - val_loss: 0.7265 - val_accuracy: 0.8182 - val_top-5-accuracy: 0.9898\n",
      "Epoch 48/60\n",
      "2010/2010 [==============================] - 376s 187ms/step - loss: 0.0901 - accuracy: 0.9690 - top-5-accuracy: 0.9999 - val_loss: 0.7550 - val_accuracy: 0.8165 - val_top-5-accuracy: 0.9909\n",
      "Epoch 49/60\n",
      "2010/2010 [==============================] - 376s 187ms/step - loss: 0.0838 - accuracy: 0.9714 - top-5-accuracy: 0.9999 - val_loss: 0.6274 - val_accuracy: 0.8483 - val_top-5-accuracy: 0.9909\n",
      "Epoch 50/60\n",
      "2010/2010 [==============================] - 376s 187ms/step - loss: 0.0840 - accuracy: 0.9706 - top-5-accuracy: 1.0000 - val_loss: 0.6825 - val_accuracy: 0.8386 - val_top-5-accuracy: 0.9903\n",
      "Epoch 51/60\n",
      "2010/2010 [==============================] - 376s 187ms/step - loss: 0.0780 - accuracy: 0.9716 - top-5-accuracy: 1.0000 - val_loss: 0.9609 - val_accuracy: 0.7903 - val_top-5-accuracy: 0.9869\n",
      "Epoch 52/60\n",
      "2010/2010 [==============================] - 376s 187ms/step - loss: 0.0734 - accuracy: 0.9757 - top-5-accuracy: 1.0000 - val_loss: 0.6936 - val_accuracy: 0.8307 - val_top-5-accuracy: 0.9915\n",
      "Epoch 53/60\n",
      "2010/2010 [==============================] - 376s 187ms/step - loss: 0.0806 - accuracy: 0.9721 - top-5-accuracy: 1.0000 - val_loss: 0.6554 - val_accuracy: 0.8443 - val_top-5-accuracy: 0.9926\n",
      "Epoch 54/60\n",
      "2010/2010 [==============================] - 376s 187ms/step - loss: 0.0760 - accuracy: 0.9734 - top-5-accuracy: 1.0000 - val_loss: 0.7902 - val_accuracy: 0.8205 - val_top-5-accuracy: 0.9915\n",
      "Epoch 55/60\n",
      "2010/2010 [==============================] - 377s 187ms/step - loss: 0.0737 - accuracy: 0.9754 - top-5-accuracy: 1.0000 - val_loss: 0.8323 - val_accuracy: 0.8142 - val_top-5-accuracy: 0.9932\n",
      "Epoch 56/60\n",
      "2010/2010 [==============================] - 376s 187ms/step - loss: 0.0689 - accuracy: 0.9760 - top-5-accuracy: 1.0000 - val_loss: 0.6275 - val_accuracy: 0.8506 - val_top-5-accuracy: 0.9932\n",
      "Epoch 57/60\n",
      "2010/2010 [==============================] - 376s 187ms/step - loss: 0.0658 - accuracy: 0.9768 - top-5-accuracy: 0.9999 - val_loss: 0.6697 - val_accuracy: 0.8409 - val_top-5-accuracy: 0.9932\n",
      "Epoch 58/60\n",
      "2010/2010 [==============================] - 376s 187ms/step - loss: 0.0663 - accuracy: 0.9766 - top-5-accuracy: 0.9999 - val_loss: 0.6311 - val_accuracy: 0.8489 - val_top-5-accuracy: 0.9915\n",
      "Epoch 59/60\n",
      "2010/2010 [==============================] - 376s 187ms/step - loss: 0.0700 - accuracy: 0.9757 - top-5-accuracy: 0.9999 - val_loss: 0.7157 - val_accuracy: 0.8381 - val_top-5-accuracy: 0.9892\n",
      "Epoch 60/60\n",
      "2010/2010 [==============================] - 376s 187ms/step - loss: 0.0673 - accuracy: 0.9780 - top-5-accuracy: 1.0000 - val_loss: 0.7726 - val_accuracy: 0.8182 - val_top-5-accuracy: 0.9909\n",
      "  2/270 [..............................] - ETA: 17s - loss: 1.1991 - accuracy: 0.6875 - top-5-accuracy: 1.0000"
     ]
    },
    {
     "name": "stderr",
     "output_type": "stream",
     "text": [
      "2023-04-21 05:41:15.113217: I tensorflow/core/common_runtime/executor.cc:1197] [/device:CPU:0] (DEBUG INFO) Executor start aborting (this does not indicate an error and you can ignore this message): INVALID_ARGUMENT: You must feed a value for placeholder tensor 'Placeholder/_1' with dtype int32 and shape [2160]\n",
      "\t [[{{node Placeholder/_1}}]]\n",
      "2023-04-21 05:41:15.113447: I tensorflow/core/common_runtime/executor.cc:1197] [/device:CPU:0] (DEBUG INFO) Executor start aborting (this does not indicate an error and you can ignore this message): INVALID_ARGUMENT: You must feed a value for placeholder tensor 'Placeholder/_1' with dtype int32 and shape [2160]\n",
      "\t [[{{node Placeholder/_1}}]]\n"
     ]
    },
    {
     "name": "stdout",
     "output_type": "stream",
     "text": [
      "270/270 [==============================] - 17s 62ms/step - loss: 0.7721 - accuracy: 0.8292 - top-5-accuracy: 0.9940\n",
      "Test accuracy: 82.92%\n",
      "Test top 5 accuracy: 99.4%\n"
     ]
    }
   ],
   "source": [
    "def run_experiment(model):\n",
    "    # Compile the model with the optimizer, loss function\n",
    "    # and the metrics.\n",
    "    optimizer = keras.optimizers.Adam(learning_rate=LEARNING_RATE)\n",
    "    model.compile(\n",
    "        optimizer=optimizer,\n",
    "        loss=\"sparse_categorical_crossentropy\",\n",
    "        metrics=[\n",
    "            keras.metrics.SparseCategoricalAccuracy(name=\"accuracy\"),\n",
    "            keras.metrics.SparseTopKCategoricalAccuracy(5, name=\"top-5-accuracy\"),\n",
    "        ],\n",
    "    )\n",
    "\n",
    "    # Train the model.\n",
    "    _ = model.fit(trainloader, epochs=EPOCHS, validation_data=validloader)\n",
    "\n",
    "    _, accuracy, top_5_accuracy = model.evaluate(testloader)\n",
    "    print(f\"Test accuracy: {round(accuracy * 100, 2)}%\")\n",
    "    print(f\"Test top 5 accuracy: {round(top_5_accuracy * 100, 2)}%\")\n",
    "\n",
    "    return model\n",
    "\n",
    "\n",
    "model = run_experiment(model)"
   ]
  },
  {
   "cell_type": "code",
   "execution_count": 44,
   "id": "9c803624-fc39-48a6-854d-c18d50e18706",
   "metadata": {},
   "outputs": [],
   "source": [
    "model.save(save_model_path)"
   ]
  },
  {
   "cell_type": "code",
   "execution_count": null,
   "id": "7036877f-fc72-4456-adc2-3d625229919b",
   "metadata": {},
   "outputs": [],
   "source": []
  }
 ],
 "metadata": {
  "kernelspec": {
   "display_name": "Python 3 (ipykernel)",
   "language": "python",
   "name": "python3"
  },
  "language_info": {
   "codemirror_mode": {
    "name": "ipython",
    "version": 3
   },
   "file_extension": ".py",
   "mimetype": "text/x-python",
   "name": "python",
   "nbconvert_exporter": "python",
   "pygments_lexer": "ipython3",
   "version": "3.9.1"
  }
 },
 "nbformat": 4,
 "nbformat_minor": 5
}
