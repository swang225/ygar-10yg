{
 "cells": [
  {
   "cell_type": "code",
   "execution_count": 13,
   "id": "b7abc878-b8c4-4887-868e-3de74c198cb0",
   "metadata": {},
   "outputs": [],
   "source": [
    "import cv2\n",
    "import os\n",
    "import os.path as osp\n",
    "import matplotlib.pyplot as plt\n",
    "import numpy as np\n",
    "import pickle\n",
    "import pandas as pd\n",
    "\n",
    "from datetime import datetime\n",
    "\n",
    "from skimage.morphology import skeletonize\n",
    "from skimage.morphology import thin\n",
    "from skimage import data\n",
    "from skimage.util import invert\n",
    "from skimage.color import rgb2gray\n",
    "from skimage.feature import hog\n",
    "from skimage.transform import resize"
   ]
  },
  {
   "cell_type": "code",
   "execution_count": 14,
   "id": "d7549dbb-2acd-4985-a638-a1211b0cc062",
   "metadata": {},
   "outputs": [],
   "source": [
    "def get_hog_features(in_img):\n",
    "\n",
    "    MAX_ROW_SIZE = 100\n",
    "    \n",
    "    # first resize the image\n",
    "    if in_img.shape[0] > MAX_ROW_SIZE:\n",
    "        resized_img = resize(\n",
    "            in_img, \n",
    "            (\n",
    "                MAX_ROW_SIZE, \n",
    "                int( ((1.0*MAX_ROW_SIZE)/in_img.shape[0]) * in_img.shape[1] )  \n",
    "            )\n",
    "        )\n",
    "    else:\n",
    "        resized_img = in_img\n",
    "        \n",
    "    fd, hog_image = hog(\n",
    "        resized_img, \n",
    "        orientations=9, \n",
    "        pixels_per_cell=(2, 2),\n",
    "        cells_per_block=(2, 2), \n",
    "        visualize=True\n",
    "    )\n",
    "    \n",
    "    return hog_image\n",
    "\n",
    "\n",
    "def flatten_hog_version(frames):\n",
    "    return [get_hog_features(f).flatten() for f in frames]\n",
    "\n",
    "\n",
    "def flatten_objSeg_version(frames):\n",
    "    return [get_hog_features(f).flatten() for f in frames]"
   ]
  },
  {
   "cell_type": "code",
   "execution_count": 15,
   "id": "83c06792-063e-4686-8588-90530f34468a",
   "metadata": {},
   "outputs": [],
   "source": [
    "def to_df_hog_only(\n",
    "    df,\n",
    "    save_path\n",
    "):\n",
    "    df = df.copy()\n",
    "    \n",
    "    i = 0\n",
    "    prev_progress = 0\n",
    "    size = len(df)\n",
    "    \n",
    "    res = []\n",
    "    for index, row in df.iterrows():\n",
    "        \n",
    "        hog = get_hog_features(row[\"image\"])\n",
    "        res.append(hog)\n",
    "\n",
    "        i += 1\n",
    "        cur_progress = int((i+1)*100/size)\n",
    "        if cur_progress >= prev_progress + 2:\n",
    "            print(f\"progress: {cur_progress}%\")\n",
    "            print(f\"processing {index} at {datetime.now()}\")\n",
    "            prev_progress = cur_progress\n",
    "            \n",
    "    df[\"image\"] = res\n",
    "    df.to_pickle(save_path)\n",
    "\n",
    "    return df"
   ]
  },
  {
   "cell_type": "code",
   "execution_count": 16,
   "id": "76c69a78-b73b-46a7-a2ca-b079e0284d3b",
   "metadata": {},
   "outputs": [],
   "source": [
    "from nebula.common import write_pickle, read_pickle, display"
   ]
  },
  {
   "cell_type": "code",
   "execution_count": 17,
   "id": "1395e649-ba39-4b0b-8140-3c39e1ccd7ce",
   "metadata": {},
   "outputs": [],
   "source": [
    "image_pickle_path = 'C:/Users/aphri/Documents/t0002/pycharm/data/yg_ar/image_medium_df.pkl'\n",
    "hog_pickle_path = 'C:/Users/aphri/Documents/t0002/pycharm/data/yg_ar/image_medium_df_hog.pkl'"
   ]
  },
  {
   "cell_type": "code",
   "execution_count": 18,
   "id": "7b8a8e74-2b96-42d0-8a28-f33dfd040117",
   "metadata": {},
   "outputs": [],
   "source": [
    "df = read_pickle(image_pickle_path)"
   ]
  },
  {
   "cell_type": "code",
   "execution_count": 19,
   "id": "03e49219-45c1-45b6-bfeb-53d350e7c924",
   "metadata": {},
   "outputs": [],
   "source": [
    "hog1 = get_hog_features(df[\"image\"].iloc[0])"
   ]
  },
  {
   "cell_type": "code",
   "execution_count": 20,
   "id": "063c03f1-9a32-4365-a9fc-99e31d24d59b",
   "metadata": {},
   "outputs": [
    {
     "data": {
      "image/png": "[encoded data removed]",
      "text/plain": [
       "<Figure size 400x400 with 1 Axes>"
      ]
     },
     "metadata": {},
     "output_type": "display_data"
    }
   ],
   "source": [
    "display(hog1)"
   ]
  },
  {
   "cell_type": "code",
   "execution_count": 21,
   "id": "2e99e8de-4812-4afe-a101-0073b9183d18",
   "metadata": {},
   "outputs": [
    {
     "name": "stdout",
     "output_type": "stream",
     "text": [
      "progress: 2%\n",
      "processing 398 at 2023-04-11 16:37:33.264144\n",
      "progress: 4%\n",
      "processing 798 at 2023-04-11 16:42:20.406017\n",
      "progress: 6%\n",
      "processing 1198 at 2023-04-11 16:47:44.726926\n",
      "progress: 8%\n",
      "processing 1598 at 2023-04-11 16:52:56.454415\n",
      "progress: 10%\n",
      "processing 1998 at 2023-04-11 16:58:07.585513\n",
      "progress: 12%\n",
      "processing 2398 at 2023-04-11 17:03:09.354558\n",
      "progress: 14%\n",
      "processing 2798 at 2023-04-11 17:07:29.072523\n",
      "progress: 16%\n",
      "processing 3198 at 2023-04-11 17:11:55.917324\n",
      "progress: 18%\n",
      "processing 3598 at 2023-04-11 17:16:45.144103\n",
      "progress: 20%\n",
      "processing 3998 at 2023-04-11 17:21:41.682538\n",
      "progress: 22%\n",
      "processing 4398 at 2023-04-11 17:26:08.277421\n",
      "progress: 24%\n",
      "processing 4798 at 2023-04-11 17:30:33.316189\n",
      "progress: 26%\n",
      "processing 5198 at 2023-04-11 17:34:38.543463\n",
      "progress: 28%\n",
      "processing 5598 at 2023-04-11 17:38:55.643027\n",
      "progress: 30%\n",
      "processing 5998 at 2023-04-11 17:42:54.745485\n",
      "progress: 32%\n",
      "processing 6398 at 2023-04-11 17:46:55.567832\n",
      "progress: 34%\n",
      "processing 6798 at 2023-04-11 17:50:52.388036\n",
      "progress: 36%\n",
      "processing 7198 at 2023-04-11 17:54:50.358334\n",
      "progress: 38%\n",
      "processing 7598 at 2023-04-11 17:58:47.846071\n",
      "progress: 40%\n",
      "processing 7998 at 2023-04-11 18:02:45.009364\n",
      "progress: 42%\n",
      "processing 8398 at 2023-04-11 18:06:50.508618\n",
      "progress: 44%\n",
      "processing 8798 at 2023-04-11 18:10:48.993012\n",
      "progress: 46%\n",
      "processing 9198 at 2023-04-11 18:14:57.201302\n",
      "progress: 48%\n",
      "processing 9598 at 2023-04-11 18:18:59.712678\n",
      "progress: 50%\n",
      "processing 9998 at 2023-04-11 18:23:02.525751\n",
      "progress: 52%\n",
      "processing 10398 at 2023-04-11 18:26:56.688618\n",
      "progress: 54%\n",
      "processing 10798 at 2023-04-11 18:33:07.001736\n",
      "progress: 56%\n",
      "processing 11198 at 2023-04-11 18:36:54.913453\n",
      "progress: 58%\n",
      "processing 11598 at 2023-04-11 18:40:51.946446\n",
      "progress: 60%\n",
      "processing 11998 at 2023-04-11 18:44:53.377053\n",
      "progress: 62%\n",
      "processing 12398 at 2023-04-11 18:48:53.130716\n",
      "progress: 64%\n",
      "processing 12798 at 2023-04-11 18:52:52.462257\n",
      "progress: 66%\n",
      "processing 13198 at 2023-04-11 18:56:50.983837\n",
      "progress: 68%\n",
      "processing 13598 at 2023-04-11 19:01:31.519852\n",
      "progress: 70%\n",
      "processing 13998 at 2023-04-11 19:06:04.916336\n",
      "progress: 72%\n",
      "processing 14398 at 2023-04-11 19:10:46.815828\n",
      "progress: 74%\n",
      "processing 14798 at 2023-04-11 19:15:01.853837\n",
      "progress: 76%\n",
      "processing 15198 at 2023-04-11 19:20:07.559647\n",
      "progress: 78%\n",
      "processing 15598 at 2023-04-11 19:25:15.747243\n",
      "progress: 80%\n",
      "processing 15998 at 2023-04-11 19:30:13.379113\n",
      "progress: 82%\n",
      "processing 16398 at 2023-04-11 19:36:45.311338\n",
      "progress: 84%\n",
      "processing 16798 at 2023-04-11 19:43:33.315000\n",
      "progress: 86%\n",
      "processing 17198 at 2023-04-11 19:50:03.902626\n",
      "progress: 88%\n",
      "processing 17598 at 2023-04-11 19:56:56.626344\n",
      "progress: 90%\n",
      "processing 17998 at 2023-04-11 20:03:27.063205\n",
      "progress: 92%\n",
      "processing 18398 at 2023-04-11 20:09:38.363892\n",
      "progress: 94%\n",
      "processing 18798 at 2023-04-11 20:16:18.620319\n",
      "progress: 96%\n",
      "processing 19198 at 2023-04-11 20:22:40.911216\n",
      "progress: 98%\n",
      "processing 19598 at 2023-04-11 20:29:12.865111\n",
      "progress: 100%\n",
      "processing 19998 at 2023-04-11 20:37:41.149009\n"
     ]
    }
   ],
   "source": [
    "hog_df = to_df_hog_only(df, hog_pickle_path)"
   ]
  },
  {
   "cell_type": "code",
   "execution_count": null,
   "id": "e23abcd0-837c-4236-b458-21f9345c6a95",
   "metadata": {},
   "outputs": [],
   "source": []
  }
 ],
 "metadata": {
  "kernelspec": {
   "display_name": "Python 3 (ipykernel)",
   "language": "python",
   "name": "python3"
  },
  "language_info": {
   "codemirror_mode": {
    "name": "ipython",
    "version": 3
   },
   "file_extension": ".py",
   "mimetype": "text/x-python",
   "name": "python",
   "nbconvert_exporter": "python",
   "pygments_lexer": "ipython3",
   "version": "3.9.1"
  }
 },
 "nbformat": 4,
 "nbformat_minor": 5
}
