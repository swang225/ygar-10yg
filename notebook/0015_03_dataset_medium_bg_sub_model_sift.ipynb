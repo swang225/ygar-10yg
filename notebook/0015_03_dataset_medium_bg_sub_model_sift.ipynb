{
 "cells": [
  {
   "cell_type": "code",
   "execution_count": 17,
   "id": "5b21268a-5c59-4575-a591-afcd0fa11b51",
   "metadata": {
    "tags": []
   },
   "outputs": [],
   "source": [
    "import pandas as pd\n",
    "from nebula.data.yg_ar.setup_data_image_hard import read_data\n",
    "from nebula.common import to_scale_one, write_pickle, read_pickle\n",
    "from sklearn import svm\n",
    "from sklearn.linear_model import LogisticRegression\n",
    "from sklearn.ensemble import GradientBoostingClassifier\n",
    "import os\n",
    "import os.path as osp\n",
    "import numpy as np"
   ]
  },
  {
   "cell_type": "code",
   "execution_count": 18,
   "id": "6d6aa2df-d80c-403c-b0a9-33557679ae7c",
   "metadata": {
    "tags": []
   },
   "outputs": [],
   "source": [
    "def create_label_map(labels):\n",
    "    label_set = set()\n",
    "    for lt in labels:\n",
    "        label_set.add(lt)\n",
    "        \n",
    "    label_set = list(label_set)\n",
    "    label_set.sort()\n",
    "\n",
    "    label_map = {}\n",
    "    count = 0\n",
    "    for l in label_set:\n",
    "        label_map[l] = count\n",
    "        count += 1\n",
    "        \n",
    "    return label_map"
   ]
  },
  {
   "cell_type": "code",
   "execution_count": 21,
   "id": "88a61a52-7118-41fe-a695-77ff63c615a7",
   "metadata": {
    "tags": []
   },
   "outputs": [],
   "source": [
    "df_path = 'C:/Users/aphri/Documents/t0002/pycharm/data/yg_ar/bg_medium_ds_sift.pkl' ## corect SIFt df\n",
    "df, train_df, test_df, valid_df = read_pickle(df_path)"
   ]
  },
  {
   "cell_type": "code",
   "execution_count": 22,
   "id": "f1a6a575-1a28-4b1c-b6bf-93724ea48d68",
   "metadata": {
    "tags": []
   },
   "outputs": [
    {
     "name": "stdout",
     "output_type": "stream",
     "text": [
      "image        [0, 0, 0, 0, 0, 1, 1, 0, 0, 0, 0, 0, 0, 0, 0, ...\n",
      "label_a                                                  camel\n",
      "label_at                                               camel_1\n",
      "file_name    camel_1_hair_0_cloth_0_pants_2_Z1005_XOP5_YOP1...\n",
      "Name: 0, dtype: object\n"
     ]
    }
   ],
   "source": [
    "print(df.loc[0])"
   ]
  },
  {
   "cell_type": "code",
   "execution_count": 23,
   "id": "99b999c1-de4d-4244-9acc-7b791049f8e0",
   "metadata": {
    "tags": []
   },
   "outputs": [],
   "source": [
    "label_map_a = create_label_map(df[\"label_a\"])\n",
    "label_map_at = create_label_map(df[\"label_at\"])"
   ]
  },
  {
   "cell_type": "code",
   "execution_count": 24,
   "id": "bce63941-c9fc-4c11-9fbf-4947ee998238",
   "metadata": {
    "tags": []
   },
   "outputs": [],
   "source": [
    "train_x = train_df[\"image\"].to_list()"
   ]
  },
  {
   "cell_type": "code",
   "execution_count": 25,
   "id": "9fd5319f-95ee-4a1a-a056-c755af2930bd",
   "metadata": {
    "tags": []
   },
   "outputs": [],
   "source": [
    "train_y_a = train_df[\"label_a\"].map(label_map_a).to_list()\n",
    "train_y_at = train_df[\"label_at\"].map(label_map_at).to_list()"
   ]
  },
  {
   "cell_type": "code",
   "execution_count": 26,
   "id": "f21f1acf-b2c2-4f1d-87f8-093f2da21874",
   "metadata": {
    "tags": []
   },
   "outputs": [],
   "source": [
    "test_x = test_df[\"image\"].to_list()"
   ]
  },
  {
   "cell_type": "code",
   "execution_count": 27,
   "id": "fefefe69-772d-4d2a-ae8f-88c4f158a291",
   "metadata": {
    "tags": []
   },
   "outputs": [],
   "source": [
    "test_y_a = test_df[\"label_a\"].map(label_map_a).to_list()\n",
    "test_y_at = test_df[\"label_at\"].map(label_map_at).to_list()"
   ]
  },
  {
   "cell_type": "code",
   "execution_count": 28,
   "id": "6b2c2f26-4604-47b8-9ca8-403a0d7e69d8",
   "metadata": {
    "tags": []
   },
   "outputs": [],
   "source": [
    "def train_svm(data_x, data_y):\n",
    "    clf = svm.SVC(max_iter=50)\n",
    "    clf.fit(data_x, data_y)\n",
    "    return clf\n",
    "\n",
    "\n",
    "def train_svm_poly8(data_x, data_y):\n",
    "    clf = svm.SVC(kernel = \"poly\", degree = 8, C=20)\n",
    "    clf.fit(data_x, data_y)\n",
    "    return clf\n",
    "\n",
    "\n",
    "def train_logistic(data_x, data_y):\n",
    "    clf = LogisticRegression(random_state=0)\n",
    "    clf.fit(data_x, data_y)\n",
    "    return clf\n",
    "\n",
    "\n",
    "def train_gbt(data_x, data_y):\n",
    "    clf = GradientBoostingClassifier(\n",
    "        n_estimators=100,\n",
    "        learning_rate=0.1,\n",
    "        max_depth=3,\n",
    "        random_state=0,\n",
    "        verbose=1,\n",
    "        n_iter_no_change=2,\n",
    "    )\n",
    "    clf.fit(data_x, data_y)\n",
    "    return clf\n",
    "\n",
    "\n",
    "def evaluate(model, test_x, test_y):\n",
    "    res = model.predict(test_x)\n",
    "    correct = res == test_y\n",
    "    accuracy = correct.sum() / len(res)\n",
    "    return res, accuracy\n",
    "\n",
    "\n",
    "def create_dirs_to_file(path):\n",
    "    dirs = \"/\".join(osp.join(path).split(\"/\")[:-1])\n",
    "    if not osp.exists(dirs):\n",
    "        os.makedirs(dirs)\n",
    "\n",
    "\n",
    "def load_or_train(train_x, train_y, test_x, test_y, train_func, label_map, path):\n",
    "    \n",
    "    if osp.exists(path):\n",
    "        return read_pickle(path)\n",
    "    \n",
    "    create_dirs_to_file(path)\n",
    "    \n",
    "    trained_model = train_func(train_x, train_y)\n",
    "    predictions, accuracy = evaluate(trained_model, test_x, test_y)\n",
    "    \n",
    "    df, df_incorrect, df_correct = format_results(predictions, test_y, label_map)\n",
    "    \n",
    "    write_pickle(path, (trained_model, predictions, accuracy, df, df_incorrect, df_correct, label_map)) \n",
    "    \n",
    "    return trained_model, predictions, accuracy, df, df_incorrect, df_correct, label_map\n",
    "\n",
    "\n",
    "def format_results(predictions, labels, label_map):\n",
    "    df = pd.DataFrame(\n",
    "        data={\n",
    "            \"prediction\": predictions,\n",
    "            \"label\": labels\n",
    "        }\n",
    "    )\n",
    "    df[\"check\"] = df[\"prediction\"] == df[\"label\"]\n",
    "\n",
    "    label_map_reverse = {v:k for k, v in label_map.items()}\n",
    "\n",
    "    df[\"prediction_name\"] = df.prediction.map(label_map_reverse)\n",
    "    df[\"label_name\"] = df.label.map(label_map_reverse)\n",
    "\n",
    "    df_incorrect = df[~df.check]\n",
    "    df_correct = df[df.check]\n",
    "\n",
    "    return df, df_incorrect, df_correct"
   ]
  },
  {
   "cell_type": "code",
   "execution_count": 30,
   "id": "07de2998-8e41-4921-a595-d1096dfa7952",
   "metadata": {
    "tags": []
   },
   "outputs": [
    {
     "name": "stderr",
     "output_type": "stream",
     "text": [
      "c:\\users\\aphri\\miniconda3\\lib\\site-packages\\sklearn\\svm\\_base.py:299: ConvergenceWarning: Solver terminated early (max_iter=50).  Consider pre-processing your data with StandardScaler or MinMaxScaler.\n",
      "  warnings.warn(\n"
     ]
    },
    {
     "name": "stdout",
     "output_type": "stream",
     "text": [
      "0.3337962962962963\n",
      "   prediction  label  check prediction_name         label_name\n",
      "1           0      3  False           camel  lord_of_the_dance\n",
      "2           0      3  False           camel  lord_of_the_dance\n",
      "3           0      3  False           camel  lord_of_the_dance\n",
      "4           1      3  False           chair  lord_of_the_dance\n",
      "7           0      3  False           camel  lord_of_the_dance\n"
     ]
    }
   ],
   "source": [
    "save_path = \"C:/Users/aphri/Documents/t0002/pycharm/data/yg_ar/classic_models_medium_bg_sift/svm_a.pkl\"\n",
    "(\n",
    "    trained_svm_a, \n",
    "    predictions_svm_a, \n",
    "    accuracy_svm_a, \n",
    "    df_svm_a, \n",
    "    df_incorrect_svm_a, \n",
    "    df_correct_svm_a,\n",
    "    label_map_svm_a\n",
    ")= load_or_train(\n",
    "    train_x, \n",
    "    train_y_a, \n",
    "    test_x, \n",
    "    test_y_a, \n",
    "    train_svm, \n",
    "    label_map_a, \n",
    "    save_path\n",
    ")\n",
    "print(accuracy_svm_a)\n",
    "print(df_incorrect_svm_a.head())"
   ]
  },
  {
   "cell_type": "code",
   "execution_count": 31,
   "id": "66359b0a-dfe3-40b8-b97c-d1af8342f837",
   "metadata": {
    "tags": []
   },
   "outputs": [
    {
     "name": "stderr",
     "output_type": "stream",
     "text": [
      "c:\\users\\aphri\\miniconda3\\lib\\site-packages\\sklearn\\svm\\_base.py:299: ConvergenceWarning: Solver terminated early (max_iter=50).  Consider pre-processing your data with StandardScaler or MinMaxScaler.\n",
      "  warnings.warn(\n"
     ]
    },
    {
     "name": "stdout",
     "output_type": "stream",
     "text": [
      "0.22453703703703703\n",
      "   prediction  label  check      prediction_name           label_name\n",
      "0          12     14  False  lord_of_the_dance_1  lord_of_the_dance_3\n",
      "1          12     14  False  lord_of_the_dance_1  lord_of_the_dance_3\n",
      "2          39     14  False         warrior_II_4  lord_of_the_dance_3\n",
      "4          12     14  False  lord_of_the_dance_1  lord_of_the_dance_3\n",
      "5          39     14  False         warrior_II_4  lord_of_the_dance_3\n"
     ]
    }
   ],
   "source": [
    "save_path = \"C:/Users/aphri/Documents/t0002/pycharm/data/yg_ar/classic_models_medium_bg_sift/svm_at.pkl\"\n",
    "(\n",
    "    trained_svm_at, \n",
    "    predictions_svm_at, \n",
    "    accuracy_svm_at, \n",
    "    df_svm_at,\n",
    "    df_incorrect_svm_at, \n",
    "    df_correct_svm_at,\n",
    "    label_map_svm_at\n",
    ")= load_or_train(\n",
    "    train_x, \n",
    "    train_y_at, \n",
    "    test_x, \n",
    "    test_y_at, \n",
    "    train_svm, \n",
    "    label_map_at, \n",
    "    save_path\n",
    ")\n",
    "print(accuracy_svm_at)\n",
    "print(df_incorrect_svm_at.head())"
   ]
  },
  {
   "cell_type": "code",
   "execution_count": 32,
   "id": "98a75f18-62af-48c3-aed8-c9dc7196d1e1",
   "metadata": {
    "tags": []
   },
   "outputs": [
    {
     "name": "stdout",
     "output_type": "stream",
     "text": [
      "0.6125\n",
      "    prediction  label  check prediction_name         label_name\n",
      "2            8      3  False      warrior_II  lord_of_the_dance\n",
      "5            8      3  False      warrior_II  lord_of_the_dance\n",
      "7            1      3  False           chair  lord_of_the_dance\n",
      "11           6      3  False        triangle  lord_of_the_dance\n",
      "12           8      3  False      warrior_II  lord_of_the_dance\n"
     ]
    },
    {
     "name": "stderr",
     "output_type": "stream",
     "text": [
      "c:\\users\\aphri\\miniconda3\\lib\\site-packages\\sklearn\\linear_model\\_logistic.py:458: ConvergenceWarning: lbfgs failed to converge (status=1):\n",
      "STOP: TOTAL NO. of ITERATIONS REACHED LIMIT.\n",
      "\n",
      "Increase the number of iterations (max_iter) or scale the data as shown in:\n",
      "    https://scikit-learn.org/stable/modules/preprocessing.html\n",
      "Please also refer to the documentation for alternative solver options:\n",
      "    https://scikit-learn.org/stable/modules/linear_model.html#logistic-regression\n",
      "  n_iter_i = _check_optimize_result(\n"
     ]
    }
   ],
   "source": [
    "save_path = \"C:/Users/aphri/Documents/t0002/pycharm/data/yg_ar/classic_models_medium_bg_sift/logistic_a.pkl\"\n",
    "(\n",
    "    trained_logistic_a, \n",
    "    predictions_logistic_a, \n",
    "    accuracy_logistic_a, \n",
    "    df_logistic_a,\n",
    "    df_incorrect_logistic_a, \n",
    "    df_correct_logistic_a,\n",
    "    label_map_logistic_a\n",
    ")= load_or_train(\n",
    "    train_x, \n",
    "    train_y_a, \n",
    "    test_x, \n",
    "    test_y_a, \n",
    "    train_logistic, \n",
    "    label_map_a, \n",
    "    save_path\n",
    ")\n",
    "print(accuracy_logistic_a)\n",
    "print(df_incorrect_logistic_a.head())"
   ]
  },
  {
   "cell_type": "code",
   "execution_count": 34,
   "id": "7c02bb52-29e4-4650-9336-4a9a406395df",
   "metadata": {
    "tags": []
   },
   "outputs": [
    {
     "name": "stdout",
     "output_type": "stream",
     "text": [
      "0.32731481481481484\n",
      "   prediction  label  check      prediction_name           label_name\n",
      "0          12     14  False  lord_of_the_dance_1  lord_of_the_dance_3\n",
      "1          12     14  False  lord_of_the_dance_1  lord_of_the_dance_3\n",
      "2          39     14  False         warrior_II_4  lord_of_the_dance_3\n",
      "3          12     14  False  lord_of_the_dance_1  lord_of_the_dance_3\n",
      "4          36     14  False         warrior_II_1  lord_of_the_dance_3\n"
     ]
    }
   ],
   "source": [
    "save_path = \"C:/Users/aphri/Documents/t0002/pycharm/data/yg_ar/classic_models_medium_bg_sift/logistic_at.pkl\"\n",
    "(\n",
    "    trained_logistic_at, \n",
    "    predictions_logistic_at, \n",
    "    accuracy_logistic_at, \n",
    "    df_logistic_at,\n",
    "    df_incorrect_logistic_at, \n",
    "    df_correct_logistic_at,\n",
    "    label_map_logistic_at\n",
    ")= load_or_train(\n",
    "    train_x, \n",
    "    train_y_at, \n",
    "    test_x, \n",
    "    test_y_at, \n",
    "    train_logistic, \n",
    "    label_map_at, \n",
    "    save_path\n",
    ")\n",
    "print(accuracy_logistic_at)\n",
    "print(df_incorrect_logistic_at.head())"
   ]
  },
  {
   "cell_type": "code",
   "execution_count": 35,
   "id": "9a42d41d-2ee1-4d85-90eb-1acc3756f7b3",
   "metadata": {
    "tags": []
   },
   "outputs": [
    {
     "name": "stdout",
     "output_type": "stream",
     "text": [
      "      Iter       Train Loss   Remaining Time \n",
      "         1           2.1219           54.26s\n",
      "         2           2.0058           52.62s\n",
      "         3           1.9165           52.27s\n",
      "         4           1.8428           51.04s\n",
      "         5           1.7821           50.29s\n",
      "         6           1.7287           49.36s\n",
      "         7           1.6821           48.35s\n",
      "         8           1.6407           48.29s\n",
      "         9           1.6033           47.72s\n",
      "        10           1.5698           46.66s\n",
      "        20           1.3489           41.58s\n",
      "        30           1.2256           37.40s\n",
      "        40           1.1425           31.81s\n",
      "        50           1.0820           26.08s\n",
      "        60           1.0340           20.98s\n",
      "        70           0.9949           15.59s\n",
      "        80           0.9615           10.36s\n",
      "        90           0.9325            5.19s\n",
      "       100           0.9061            0.00s\n",
      "0.6111111111111112\n",
      "    prediction  label  check prediction_name         label_name\n",
      "11           6      3  False        triangle  lord_of_the_dance\n",
      "12           8      3  False      warrior_II  lord_of_the_dance\n",
      "13           1      3  False           chair  lord_of_the_dance\n",
      "14           6      3  False        triangle  lord_of_the_dance\n",
      "30           6      3  False        triangle  lord_of_the_dance\n"
     ]
    }
   ],
   "source": [
    "save_path = \"C:/Users/aphri/Documents/t0002/pycharm/data/yg_ar/classic_models_medium_bg_sift/gbt01_a.pkl\"\n",
    "(\n",
    "    trained_gbt_a, \n",
    "    predictions_gbt_a, \n",
    "    accuracy_gbt_a, \n",
    "    df_gbt_a, \n",
    "    df_incorrect_gbt_a, \n",
    "    df_correct_gbt_a,\n",
    "    label_map_gbt_a\n",
    ")= load_or_train(\n",
    "    train_x, \n",
    "    train_y_a, \n",
    "    test_x, \n",
    "    test_y_a, \n",
    "    train_gbt, \n",
    "    label_map_a, \n",
    "    save_path\n",
    ")\n",
    "print(accuracy_gbt_a)\n",
    "print(df_incorrect_gbt_a.head())"
   ]
  },
  {
   "cell_type": "code",
   "execution_count": 36,
   "id": "20f38dd9-b491-48bb-adff-bd7c0b59b7db",
   "metadata": {
    "tags": []
   },
   "outputs": [
    {
     "name": "stdout",
     "output_type": "stream",
     "text": [
      "      Iter       Train Loss   Remaining Time \n",
      "         1           3.4428            3.49m\n",
      "         2           3.2947            3.58m\n",
      "         3           3.1801            3.61m\n",
      "         4           3.0847            3.56m\n",
      "         5           3.0031            3.52m\n",
      "         6           2.9329            3.43m\n",
      "         7           2.8711            3.39m\n",
      "         8           2.8156            3.37m\n",
      "         9           2.7647            3.35m\n",
      "        10           2.7186            3.34m\n",
      "        20           2.3852            2.95m\n",
      "        30           2.1754            2.56m\n",
      "        40           2.0222            2.21m\n",
      "        50           1.8965            1.85m\n",
      "        60           1.7914            1.49m\n",
      "        70           1.7000            1.11m\n",
      "        80           1.6214           44.86s\n",
      "        90           1.5494           22.47s\n",
      "       100           1.4840            0.00s\n",
      "0.30185185185185187\n",
      "   prediction  label  check      prediction_name           label_name\n",
      "0          12     14  False  lord_of_the_dance_1  lord_of_the_dance_3\n",
      "1          39     14  False         warrior_II_4  lord_of_the_dance_3\n",
      "3          12     14  False  lord_of_the_dance_1  lord_of_the_dance_3\n",
      "4          36     14  False         warrior_II_1  lord_of_the_dance_3\n",
      "5          39     14  False         warrior_II_4  lord_of_the_dance_3\n"
     ]
    }
   ],
   "source": [
    "save_path = \"C:/Users/aphri/Documents/t0002/pycharm/data/yg_ar/classic_models_medium_bg_sift/gbt01_at.pkl\"\n",
    "(\n",
    "    trained_gbt_at, \n",
    "    predictions_gbt_at, \n",
    "    accuracy_gbt_at, \n",
    "    df_gbt_at, \n",
    "    df_incorrect_gbt_at, \n",
    "    df_correct_gbt_at,\n",
    "    label_map_gbt_at\n",
    ")= load_or_train(\n",
    "    train_x, \n",
    "    train_y_at, \n",
    "    test_x, \n",
    "    test_y_at, \n",
    "    train_gbt, \n",
    "    label_map_at, \n",
    "    save_path\n",
    ")\n",
    "print(accuracy_gbt_at)\n",
    "print(df_incorrect_gbt_at.head())"
   ]
  },
  {
   "cell_type": "code",
   "execution_count": null,
   "id": "c261b44d-9d62-4077-8c5b-0809f271a6f5",
   "metadata": {},
   "outputs": [],
   "source": []
  }
 ],
 "metadata": {
  "kernelspec": {
   "display_name": "Python 3 (ipykernel)",
   "language": "python",
   "name": "python3"
  },
  "language_info": {
   "codemirror_mode": {
    "name": "ipython",
    "version": 3
   },
   "file_extension": ".py",
   "mimetype": "text/x-python",
   "name": "python",
   "nbconvert_exporter": "python",
   "pygments_lexer": "ipython3",
   "version": "3.9.1"
  }
 },
 "nbformat": 4,
 "nbformat_minor": 5
}
