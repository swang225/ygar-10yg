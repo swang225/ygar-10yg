{
 "cells": [
  {
   "cell_type": "code",
   "execution_count": 1,
   "id": "b7abc878-b8c4-4887-868e-3de74c198cb0",
   "metadata": {},
   "outputs": [],
   "source": [
    "import cv2\n",
    "import os\n",
    "import os.path as osp\n",
    "import matplotlib.pyplot as plt\n",
    "import numpy as np\n",
    "import pickle\n",
    "import pandas as pd\n",
    "\n",
    "from datetime import datetime\n",
    "\n",
    "from skimage.morphology import skeletonize\n",
    "from skimage.morphology import thin\n",
    "from skimage import data\n",
    "from skimage.util import invert\n",
    "from skimage.color import rgb2gray\n",
    "from skimage.feature import hog\n",
    "from skimage.transform import resize"
   ]
  },
  {
   "cell_type": "code",
   "execution_count": 2,
   "id": "d7549dbb-2acd-4985-a638-a1211b0cc062",
   "metadata": {},
   "outputs": [],
   "source": [
    "def get_hog_features(in_img):\n",
    "\n",
    "    MAX_ROW_SIZE = 100\n",
    "    \n",
    "    # first resize the image\n",
    "    if in_img.shape[0] > MAX_ROW_SIZE:\n",
    "        resized_img = resize(\n",
    "            in_img, \n",
    "            (\n",
    "                MAX_ROW_SIZE, \n",
    "                int( ((1.0*MAX_ROW_SIZE)/in_img.shape[0]) * in_img.shape[1] )  \n",
    "            )\n",
    "        )\n",
    "    else:\n",
    "        resized_img = in_img\n",
    "        \n",
    "    fd, hog_image = hog(\n",
    "        resized_img, \n",
    "        orientations=9, \n",
    "        pixels_per_cell=(2, 2),\n",
    "        cells_per_block=(2, 2), \n",
    "        visualize=True\n",
    "    )\n",
    "    \n",
    "    return hog_image\n",
    "\n",
    "\n",
    "def flatten_hog_version(frames):\n",
    "    return [get_hog_features(f).flatten() for f in frames]\n",
    "\n",
    "\n",
    "def flatten_objSeg_version(frames):\n",
    "    return [get_hog_features(f).flatten() for f in frames]"
   ]
  },
  {
   "cell_type": "code",
   "execution_count": 3,
   "id": "83c06792-063e-4686-8588-90530f34468a",
   "metadata": {},
   "outputs": [],
   "source": [
    "def to_df_hog_only(\n",
    "    df,\n",
    "    save_path\n",
    "):\n",
    "    df = df.copy()\n",
    "    \n",
    "    i = 0\n",
    "    prev_progress = 0\n",
    "    size = len(df)\n",
    "    \n",
    "    res = []\n",
    "    for index, row in df.iterrows():\n",
    "        \n",
    "        hog = get_hog_features(row[\"image\"])\n",
    "        res.append(hog)\n",
    "\n",
    "        i += 1\n",
    "        cur_progress = int((i+1)*100/size)\n",
    "        if cur_progress >= prev_progress + 2:\n",
    "            print(f\"progress: {cur_progress}%\")\n",
    "            print(f\"processing {index} at {datetime.now()}\")\n",
    "            prev_progress = cur_progress\n",
    "            \n",
    "    df[\"image\"] = res\n",
    "    df.to_pickle(save_path)\n",
    "\n",
    "    return df"
   ]
  },
  {
   "cell_type": "code",
   "execution_count": 4,
   "id": "76c69a78-b73b-46a7-a2ca-b079e0284d3b",
   "metadata": {},
   "outputs": [],
   "source": [
    "from nebula.common import write_pickle, read_pickle, display"
   ]
  },
  {
   "cell_type": "code",
   "execution_count": 5,
   "id": "1395e649-ba39-4b0b-8140-3c39e1ccd7ce",
   "metadata": {},
   "outputs": [],
   "source": [
    "image_pickle_path = 'C:/Users/aphri/Documents/t0002/pycharm/data/yg_ar/image_hard_df.pkl'\n",
    "hog_pickle_path = 'C:/Users/aphri/Documents/t0002/pycharm/data/yg_ar/image_hard_df_hog.pkl'"
   ]
  },
  {
   "cell_type": "code",
   "execution_count": 6,
   "id": "7b8a8e74-2b96-42d0-8a28-f33dfd040117",
   "metadata": {},
   "outputs": [],
   "source": [
    "df = read_pickle(image_pickle_path)"
   ]
  },
  {
   "cell_type": "code",
   "execution_count": 7,
   "id": "03e49219-45c1-45b6-bfeb-53d350e7c924",
   "metadata": {},
   "outputs": [],
   "source": [
    "hog1 = get_hog_features(df[\"image\"].iloc[0])"
   ]
  },
  {
   "cell_type": "code",
   "execution_count": 8,
   "id": "063c03f1-9a32-4365-a9fc-99e31d24d59b",
   "metadata": {},
   "outputs": [
    {
     "data": {
      "image/png": "[encoded data removed]",
      "text/plain": [
       "<Figure size 400x400 with 1 Axes>"
      ]
     },
     "metadata": {},
     "output_type": "display_data"
    }
   ],
   "source": [
    "display(hog1)"
   ]
  },
  {
   "cell_type": "code",
   "execution_count": 9,
   "id": "2e99e8de-4812-4afe-a101-0073b9183d18",
   "metadata": {},
   "outputs": [
    {
     "name": "stdout",
     "output_type": "stream",
     "text": [
      "progress: 2%\n",
      "processing 398 at 2023-04-12 17:56:01.961503\n",
      "progress: 4%\n",
      "processing 798 at 2023-04-12 17:58:12.609812\n",
      "progress: 6%\n",
      "processing 1198 at 2023-04-12 18:00:45.339218\n",
      "progress: 8%\n",
      "processing 1598 at 2023-04-12 18:03:06.625242\n",
      "progress: 10%\n",
      "processing 1998 at 2023-04-12 18:05:30.697958\n",
      "progress: 12%\n",
      "processing 2398 at 2023-04-12 18:07:47.101543\n",
      "progress: 14%\n",
      "processing 2798 at 2023-04-12 18:10:09.101508\n",
      "progress: 16%\n",
      "processing 3198 at 2023-04-12 18:12:43.192626\n",
      "progress: 18%\n",
      "processing 3598 at 2023-04-12 18:15:05.860135\n",
      "progress: 20%\n",
      "processing 3998 at 2023-04-12 18:17:48.304351\n",
      "progress: 22%\n",
      "processing 4398 at 2023-04-12 18:20:23.686119\n",
      "progress: 24%\n",
      "processing 4798 at 2023-04-12 18:23:02.174403\n",
      "progress: 26%\n",
      "processing 5198 at 2023-04-12 18:25:32.713430\n",
      "progress: 28%\n",
      "processing 5598 at 2023-04-12 18:28:02.058278\n",
      "progress: 30%\n",
      "processing 5998 at 2023-04-12 18:30:45.697648\n",
      "progress: 32%\n",
      "processing 6398 at 2023-04-12 18:33:28.955446\n",
      "progress: 34%\n",
      "processing 6798 at 2023-04-12 18:36:00.684174\n",
      "progress: 36%\n",
      "processing 7198 at 2023-04-12 18:38:42.091951\n",
      "progress: 38%\n",
      "processing 7598 at 2023-04-12 18:41:07.205241\n",
      "progress: 40%\n",
      "processing 7998 at 2023-04-12 18:43:34.903124\n",
      "progress: 42%\n",
      "processing 8398 at 2023-04-12 18:45:54.818653\n",
      "progress: 44%\n",
      "processing 8798 at 2023-04-12 18:48:20.668103\n",
      "progress: 46%\n",
      "processing 9198 at 2023-04-12 18:50:36.924969\n",
      "progress: 48%\n",
      "processing 9598 at 2023-04-12 18:52:54.484887\n",
      "progress: 50%\n",
      "processing 9998 at 2023-04-12 18:55:15.363560\n",
      "progress: 52%\n",
      "processing 10398 at 2023-04-12 18:57:46.582416\n",
      "progress: 54%\n",
      "processing 10798 at 2023-04-12 19:00:29.048605\n",
      "progress: 56%\n",
      "processing 11198 at 2023-04-12 19:02:58.737981\n",
      "progress: 58%\n",
      "processing 11598 at 2023-04-12 19:05:16.926585\n",
      "progress: 60%\n",
      "processing 11998 at 2023-04-12 19:07:41.425408\n",
      "progress: 62%\n",
      "processing 12398 at 2023-04-12 19:10:13.065215\n",
      "progress: 64%\n",
      "processing 12798 at 2023-04-12 19:12:46.084064\n",
      "progress: 66%\n",
      "processing 13198 at 2023-04-12 19:15:04.228700\n",
      "progress: 68%\n",
      "processing 13598 at 2023-04-12 19:17:28.879217\n",
      "progress: 70%\n",
      "processing 13998 at 2023-04-12 19:19:51.929617\n",
      "progress: 72%\n",
      "processing 14398 at 2023-04-12 19:22:13.448458\n",
      "progress: 74%\n",
      "processing 14798 at 2023-04-12 19:24:25.570724\n",
      "progress: 76%\n",
      "processing 15198 at 2023-04-12 19:26:52.438945\n",
      "progress: 78%\n",
      "processing 15598 at 2023-04-12 19:29:30.806288\n",
      "progress: 80%\n",
      "processing 15998 at 2023-04-12 19:31:49.866210\n",
      "progress: 82%\n",
      "processing 16398 at 2023-04-12 19:34:14.898894\n",
      "progress: 84%\n",
      "processing 16798 at 2023-04-12 19:36:35.639223\n",
      "progress: 86%\n",
      "processing 17198 at 2023-04-12 19:39:12.022477\n",
      "progress: 88%\n",
      "processing 17598 at 2023-04-12 19:41:48.144985\n",
      "progress: 90%\n",
      "processing 17998 at 2023-04-12 19:44:25.767178\n",
      "progress: 92%\n",
      "processing 18398 at 2023-04-12 19:46:49.387751\n",
      "progress: 94%\n",
      "processing 18798 at 2023-04-12 19:49:09.723941\n",
      "progress: 96%\n",
      "processing 19198 at 2023-04-12 19:51:17.297193\n",
      "progress: 98%\n",
      "processing 19598 at 2023-04-12 19:53:45.202611\n",
      "progress: 100%\n",
      "processing 19998 at 2023-04-12 19:56:16.788522\n"
     ]
    }
   ],
   "source": [
    "hog_df = to_df_hog_only(df, hog_pickle_path)"
   ]
  },
  {
   "cell_type": "code",
   "execution_count": null,
   "id": "e23abcd0-837c-4236-b458-21f9345c6a95",
   "metadata": {},
   "outputs": [],
   "source": []
  }
 ],
 "metadata": {
  "kernelspec": {
   "display_name": "Python 3 (ipykernel)",
   "language": "python",
   "name": "python3"
  },
  "language_info": {
   "codemirror_mode": {
    "name": "ipython",
    "version": 3
   },
   "file_extension": ".py",
   "mimetype": "text/x-python",
   "name": "python",
   "nbconvert_exporter": "python",
   "pygments_lexer": "ipython3",
   "version": "3.9.1"
  }
 },
 "nbformat": 4,
 "nbformat_minor": 5
}
