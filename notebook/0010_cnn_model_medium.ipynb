{
 "cells": [
  {
   "cell_type": "code",
   "execution_count": 1,
   "id": "76c5d6e3-bedc-4500-906d-e5f936b1e513",
   "metadata": {},
   "outputs": [],
   "source": [
    "# TODO\n",
    "# 1. weight on same class different type \n",
    "#     (predicting same class but different type should have a smaller error than different class)\n",
    "# 2. CNN\n",
    "# 3. Error analysis, by angle, by style, by randomness, weighted f1, confusion matrix\n",
    "# 4. error plots vs correctly predicted plots\n",
    "# 5. shap analysis \n",
    "# 6. transfer learning by vgg-16, trainable & not trainable\n",
    "# 7. use CV features as first layer\n",
    "# 8. PCA on raw pixels, check live session excercise 12\n",
    "# 9. maybe add KNN to classical models, use PCA & T-SNE hog features, similar to live session excercise 12\n",
    "# 10. visualize CNN filters\n",
    "# 11. identify hard samples in val set to do training analysis"
   ]
  },
  {
   "cell_type": "markdown",
   "id": "6cf57e51-ef36-470a-8b56-c2c351f02342",
   "metadata": {},
   "source": [
    "# Imports"
   ]
  },
  {
   "cell_type": "code",
   "execution_count": 2,
   "id": "67e5d1e9-32f8-4108-99b3-3540ec8db73b",
   "metadata": {
    "tags": []
   },
   "outputs": [
    {
     "name": "stderr",
     "output_type": "stream",
     "text": [
      "2023-04-12 04:30:39.815169: I tensorflow/core/util/port.cc:110] oneDNN custom operations are on. You may see slightly different numerical results due to floating-point round-off errors from different computation orders. To turn them off, set the environment variable `TF_ENABLE_ONEDNN_OPTS=0`.\n",
      "2023-04-12 04:30:39.956973: I tensorflow/tsl/cuda/cudart_stub.cc:28] Could not find cuda drivers on your machine, GPU will not be used.\n",
      "2023-04-12 04:30:40.578154: I tensorflow/tsl/cuda/cudart_stub.cc:28] Could not find cuda drivers on your machine, GPU will not be used.\n",
      "2023-04-12 04:30:40.579868: I tensorflow/core/platform/cpu_feature_guard.cc:182] This TensorFlow binary is optimized to use available CPU instructions in performance-critical operations.\n",
      "To enable the following instructions: AVX2 AVX512F AVX512_VNNI FMA, in other operations, rebuild TensorFlow with the appropriate compiler flags.\n",
      "2023-04-12 04:30:42.285728: W tensorflow/compiler/tf2tensorrt/utils/py_utils.cc:38] TF-TRT Warning: Could not find TensorRT\n"
     ]
    }
   ],
   "source": [
    "import tensorflow as tf\n",
    "from tensorflow.keras.models import Sequential\n",
    "from tensorflow.keras.layers import Conv2D, Dense, Reshape, MaxPooling2D, Flatten, Dropout,BatchNormalization\n",
    "from tensorflow.keras.utils import to_categorical\n",
    "from tensorflow.keras.optimizers import Adam\n",
    "from tensorflow.keras.callbacks import EarlyStopping\n",
    "from tensorflow.keras.constraints import UnitNorm"
   ]
  },
  {
   "cell_type": "code",
   "execution_count": 3,
   "id": "78298696-f7ff-4661-b973-fc0eebcf1ebd",
   "metadata": {
    "tags": []
   },
   "outputs": [],
   "source": [
    "import pandas as pd\n",
    "pd.set_option('display.float_format', lambda x: '%.3f' % x)\n",
    "import numpy as np\n",
    "\n",
    "from nebula.data.yg_ar.setup_data_image_hard import read_data\n",
    "from nebula.common import to_scale_one, write_pickle, read_pickle\n",
    "from sklearn import svm\n",
    "from sklearn.linear_model import LogisticRegression\n",
    "from sklearn.ensemble import GradientBoostingClassifier\n",
    "import os\n",
    "import os.path as osp\n",
    "import numpy as np\n",
    "from sklearn.metrics import classification_report"
   ]
  },
  {
   "cell_type": "markdown",
   "id": "5817510d-9348-46fb-b50d-b3f7dcb8e01f",
   "metadata": {},
   "source": [
    "# Read data and apply label map"
   ]
  },
  {
   "cell_type": "code",
   "execution_count": 4,
   "id": "dae786af-2f1b-48b1-9cfe-e470c66021e6",
   "metadata": {
    "tags": []
   },
   "outputs": [],
   "source": [
    "def create_label_map(labels):\n",
    "    label_set = set()\n",
    "    for lt in labels:\n",
    "        label_set.add(lt)\n",
    "\n",
    "    label_map = {}\n",
    "    count = 0\n",
    "    for l in label_set:\n",
    "        label_map[l] = count\n",
    "        count += 1\n",
    "        \n",
    "    return label_map"
   ]
  },
  {
   "cell_type": "code",
   "execution_count": 5,
   "id": "b7ca643c-7212-4d33-852a-6486e62e072d",
   "metadata": {
    "tags": []
   },
   "outputs": [],
   "source": [
    "df_path = \"/home/ubuntu/data/yg_ar/image_medium_df.pkl\"\n",
    "random_seed = 1\n",
    "df, train_df, test_df, valid_df = read_data(df_path, random_seed)"
   ]
  },
  {
   "cell_type": "code",
   "execution_count": 6,
   "id": "8bf857a2-d5a4-4419-8319-17bc265b3a87",
   "metadata": {},
   "outputs": [],
   "source": [
    "label_at_map = create_label_map(df[\"label_at\"])\n"
   ]
  },
  {
   "cell_type": "code",
   "execution_count": 7,
   "id": "9df58450-517a-4026-a42e-8326ab12ec1d",
   "metadata": {
    "tags": []
   },
   "outputs": [],
   "source": [
    "X_train = np.expand_dims(np.array([x for x in train_df.image]),axis=3)\n",
    "y_train = train_df.label_at.map(label_at_map).to_list()\n",
    "\n",
    "X_val = np.expand_dims(np.array([x for x in valid_df.image]),axis=3)\n",
    "y_val = valid_df.label_at.map(label_at_map).to_list()\n",
    "\n",
    "X_test = np.expand_dims(np.array([x for x in test_df.image]),axis=3)\n",
    "y_test = test_df.label_at.map(label_at_map).to_list()"
   ]
  },
  {
   "cell_type": "markdown",
   "id": "68ab3618-e4f1-42b1-b468-38e6b9cf0329",
   "metadata": {},
   "source": [
    "# Scale data"
   ]
  },
  {
   "cell_type": "code",
   "execution_count": 8,
   "id": "d7dccc98-14b6-470d-9a88-f4dcec918eca",
   "metadata": {
    "tags": []
   },
   "outputs": [],
   "source": [
    "scaled_X_train = X_train/255.0 \n",
    "scaled_X_val = X_val/255.0\n",
    "scaled_X_test = X_test/255.0"
   ]
  },
  {
   "cell_type": "markdown",
   "id": "b1281c3e-7525-4cee-b19e-c700c319df5b",
   "metadata": {},
   "source": [
    "# Define CNN"
   ]
  },
  {
   "cell_type": "code",
   "execution_count": 9,
   "id": "c3771efd-87d9-41b3-b79f-a61e0f6db772",
   "metadata": {},
   "outputs": [],
   "source": [
    "model = Sequential()\n",
    "\n",
    "model.add(Conv2D(32, kernel_size=3,padding='same',\\\n",
    "         activation='relu', kernel_initializer='he_normal',\\\n",
    "         # kernel_constraint=UnitNorm(), \\\n",
    "         input_shape = scaled_X_train[0].shape))\n",
    "model.add(Conv2D(32, kernel_size=3,padding='same',\\\n",
    "         activation='relu', kernel_initializer='he_normal',\\\n",
    "         # kernel_constraint=UnitNorm()\\\n",
    "                ))\n",
    "model.add(MaxPooling2D(pool_size = 2))\n",
    "model.add(BatchNormalization())\n",
    "\n",
    "model.add(Conv2D(64, kernel_size=3,padding='same',\\\n",
    "         activation='relu', kernel_initializer='he_normal',\\\n",
    "         # kernel_constraint=UnitNorm()\\\n",
    "                ))\n",
    "model.add(Conv2D(64, kernel_size=3,padding='same',\\\n",
    "         activation='relu', kernel_initializer='he_normal',\\\n",
    "         # kernel_constraint=UnitNorm()\\\n",
    "                ))\n",
    "model.add(MaxPooling2D(pool_size = 2))\n",
    "model.add(BatchNormalization())\n",
    "\n",
    "model.add(Conv2D(128, kernel_size=3,padding='same',\\\n",
    "         activation='relu', kernel_initializer='he_normal',\\\n",
    "         # kernel_constraint=UnitNorm()\\\n",
    "        ))\n",
    "model.add(Conv2D(128, kernel_size=3,padding='same',\\\n",
    "         activation='relu', kernel_initializer='he_normal',\\\n",
    "         # kernel_constraint=UnitNorm()\\\n",
    "                ))\n",
    "model.add(MaxPooling2D(pool_size = 2))\n",
    "model.add(BatchNormalization())\n",
    "\n",
    "model.add(Conv2D(256, kernel_size=3,padding='same',\\\n",
    "         activation='relu', kernel_initializer='he_normal',\\\n",
    "         # kernel_constraint=UnitNorm()\\\n",
    "        ))\n",
    "model.add(Conv2D(256, kernel_size=3,padding='same',\\\n",
    "         activation='relu', kernel_initializer='he_normal',\\\n",
    "         # kernel_constraint=UnitNorm()\\\n",
    "                ))\n",
    "model.add(MaxPooling2D(pool_size = 2))\n",
    "model.add(BatchNormalization())\n",
    "\n",
    "model.add(Conv2D(512, kernel_size=3,padding='same',\\\n",
    "         activation='relu', kernel_initializer='he_normal',\\\n",
    "         # kernel_constraint=UnitNorm()\\\n",
    "        ))\n",
    "model.add(Conv2D(512, kernel_size=3,padding='same',\\\n",
    "         activation='relu', kernel_initializer='he_normal',\\\n",
    "         # kernel_constraint=UnitNorm()\\\n",
    "        ))\n",
    "model.add(MaxPooling2D(pool_size = 2))\n",
    "model.add(BatchNormalization())\n",
    "\n",
    "model.add(Flatten())\n",
    "model.add(Dense(1024,activation='relu'))\n",
    "model.add(Dropout(0.25))\n",
    "model.add(Dense(512,activation='relu'))\n",
    "model.add(Dropout(0.25))\n",
    "# model.add(Dense(256,activation='relu'))\n",
    "# model.add(Dropout(0.25))\n",
    "model.add(Dense(40,activation='softmax'))\n",
    "model.compile(Adam(learning_rate=0.0001),loss='categorical_crossentropy',metrics=['accuracy'])"
   ]
  },
  {
   "cell_type": "code",
   "execution_count": 10,
   "id": "de1d004c-ab3c-4b80-953a-e87f742402e6",
   "metadata": {
    "tags": []
   },
   "outputs": [],
   "source": [
    "# model = Sequential()\n",
    "# model.add(Conv2D(32, kernel_size=3,padding='same', input_shape = scaled_X_train[0].shape))\n",
    "# model.add(MaxPooling2D(pool_size = 3))\n",
    "# model.add(Conv2D(64, kernel_size=3,padding='same'))\n",
    "# model.add(MaxPooling2D(pool_size = 3))\n",
    "# model.add(Conv2D(128, kernel_size=3,padding='same'))\n",
    "# model.add(MaxPooling2D(pool_size = 3))\n",
    "# model.add(Flatten())\n",
    "# model.add(Dense(1024,activation='relu'))\n",
    "# model.add(Dropout(0.25))\n",
    "# model.add(Dense(40,activation='softmax'))\n",
    "# model.compile(Adam(learning_rate=0.0001,clipnorm=1.0),loss='categorical_crossentropy',metrics=['accuracy'])"
   ]
  },
  {
   "cell_type": "code",
   "execution_count": 11,
   "id": "bc03b0cb-ec92-49ac-a163-96b6e16924c0",
   "metadata": {
    "tags": []
   },
   "outputs": [
    {
     "name": "stdout",
     "output_type": "stream",
     "text": [
      "Model: \"sequential\"\n",
      "_________________________________________________________________\n",
      " Layer (type)                Output Shape              Param #   \n",
      "=================================================================\n",
      " conv2d (Conv2D)             (None, 156, 156, 32)      320       \n",
      "                                                                 \n",
      " conv2d_1 (Conv2D)           (None, 156, 156, 32)      9248      \n",
      "                                                                 \n",
      " max_pooling2d (MaxPooling2D  (None, 78, 78, 32)       0         \n",
      " )                                                               \n",
      "                                                                 \n",
      " batch_normalization (BatchN  (None, 78, 78, 32)       128       \n",
      " ormalization)                                                   \n",
      "                                                                 \n",
      " conv2d_2 (Conv2D)           (None, 78, 78, 64)        18496     \n",
      "                                                                 \n",
      " conv2d_3 (Conv2D)           (None, 78, 78, 64)        36928     \n",
      "                                                                 \n",
      " max_pooling2d_1 (MaxPooling  (None, 39, 39, 64)       0         \n",
      " 2D)                                                             \n",
      "                                                                 \n",
      " batch_normalization_1 (Batc  (None, 39, 39, 64)       256       \n",
      " hNormalization)                                                 \n",
      "                                                                 \n",
      " conv2d_4 (Conv2D)           (None, 39, 39, 128)       73856     \n",
      "                                                                 \n",
      " conv2d_5 (Conv2D)           (None, 39, 39, 128)       147584    \n",
      "                                                                 \n",
      " max_pooling2d_2 (MaxPooling  (None, 19, 19, 128)      0         \n",
      " 2D)                                                             \n",
      "                                                                 \n",
      " batch_normalization_2 (Batc  (None, 19, 19, 128)      512       \n",
      " hNormalization)                                                 \n",
      "                                                                 \n",
      " conv2d_6 (Conv2D)           (None, 19, 19, 256)       295168    \n",
      "                                                                 \n",
      " conv2d_7 (Conv2D)           (None, 19, 19, 256)       590080    \n",
      "                                                                 \n",
      " max_pooling2d_3 (MaxPooling  (None, 9, 9, 256)        0         \n",
      " 2D)                                                             \n",
      "                                                                 \n",
      " batch_normalization_3 (Batc  (None, 9, 9, 256)        1024      \n",
      " hNormalization)                                                 \n",
      "                                                                 \n",
      " conv2d_8 (Conv2D)           (None, 9, 9, 512)         1180160   \n",
      "                                                                 \n",
      " conv2d_9 (Conv2D)           (None, 9, 9, 512)         2359808   \n",
      "                                                                 \n",
      " max_pooling2d_4 (MaxPooling  (None, 4, 4, 512)        0         \n",
      " 2D)                                                             \n",
      "                                                                 \n",
      " batch_normalization_4 (Batc  (None, 4, 4, 512)        2048      \n",
      " hNormalization)                                                 \n",
      "                                                                 \n",
      " flatten (Flatten)           (None, 8192)              0         \n",
      "                                                                 \n",
      " dense (Dense)               (None, 1024)              8389632   \n",
      "                                                                 \n",
      " dropout (Dropout)           (None, 1024)              0         \n",
      "                                                                 \n",
      " dense_1 (Dense)             (None, 512)               524800    \n",
      "                                                                 \n",
      " dropout_1 (Dropout)         (None, 512)               0         \n",
      "                                                                 \n",
      " dense_2 (Dense)             (None, 40)                20520     \n",
      "                                                                 \n",
      "=================================================================\n",
      "Total params: 13,650,568\n",
      "Trainable params: 13,648,584\n",
      "Non-trainable params: 1,984\n",
      "_________________________________________________________________\n"
     ]
    }
   ],
   "source": [
    "model.summary()"
   ]
  },
  {
   "cell_type": "markdown",
   "id": "68c3491b-7c56-42ef-9ab5-3a4a1f8cc8a8",
   "metadata": {},
   "source": [
    "# Train model"
   ]
  },
  {
   "cell_type": "code",
   "execution_count": 12,
   "id": "7ab0f470-6d3d-4853-81d7-70c4f93d4279",
   "metadata": {},
   "outputs": [],
   "source": [
    "es = EarlyStopping(monitor='val_accuracy',min_delta=0.001, patience=5, restore_best_weights=True)"
   ]
  },
  {
   "cell_type": "code",
   "execution_count": 13,
   "id": "602dcc81-3bf3-430d-b8c8-6c70cbaede5b",
   "metadata": {
    "tags": []
   },
   "outputs": [
    {
     "name": "stdout",
     "output_type": "stream",
     "text": [
      "Epoch 1/100\n",
      "4020/4020 [==============================] - 505s 125ms/step - loss: 2.9938 - accuracy: 0.1749 - val_loss: 1.6600 - val_accuracy: 0.4409\n",
      "Epoch 2/100\n",
      "4020/4020 [==============================] - 497s 124ms/step - loss: 1.1775 - accuracy: 0.5713 - val_loss: 0.7774 - val_accuracy: 0.7045\n",
      "Epoch 3/100\n",
      "4020/4020 [==============================] - 496s 123ms/step - loss: 0.6036 - accuracy: 0.7720 - val_loss: 0.6408 - val_accuracy: 0.7506\n",
      "Epoch 4/100\n",
      "4020/4020 [==============================] - 494s 123ms/step - loss: 0.3723 - accuracy: 0.8631 - val_loss: 0.5021 - val_accuracy: 0.8290\n",
      "Epoch 5/100\n",
      "4020/4020 [==============================] - 500s 124ms/step - loss: 0.2533 - accuracy: 0.9113 - val_loss: 0.2202 - val_accuracy: 0.9256\n",
      "Epoch 6/100\n",
      "4020/4020 [==============================] - 502s 125ms/step - loss: 0.1902 - accuracy: 0.9332 - val_loss: 0.4983 - val_accuracy: 0.8540\n",
      "Epoch 7/100\n",
      "4020/4020 [==============================] - 533s 133ms/step - loss: 0.1620 - accuracy: 0.9438 - val_loss: 0.1520 - val_accuracy: 0.9477\n",
      "Epoch 8/100\n",
      "4020/4020 [==============================] - 501s 125ms/step - loss: 0.1174 - accuracy: 0.9600 - val_loss: 0.2755 - val_accuracy: 0.9239\n",
      "Epoch 9/100\n",
      "4020/4020 [==============================] - 490s 122ms/step - loss: 0.1181 - accuracy: 0.9605 - val_loss: 0.2418 - val_accuracy: 0.9216\n",
      "Epoch 10/100\n",
      "4020/4020 [==============================] - 496s 123ms/step - loss: 0.1003 - accuracy: 0.9692 - val_loss: 0.0875 - val_accuracy: 0.9693\n",
      "Epoch 11/100\n",
      "4020/4020 [==============================] - 527s 131ms/step - loss: 0.0919 - accuracy: 0.9700 - val_loss: 0.1133 - val_accuracy: 0.9631\n",
      "Epoch 12/100\n",
      "4020/4020 [==============================] - 531s 132ms/step - loss: 0.0751 - accuracy: 0.9754 - val_loss: 0.1224 - val_accuracy: 0.9648\n",
      "Epoch 13/100\n",
      "4020/4020 [==============================] - 517s 129ms/step - loss: 0.0800 - accuracy: 0.9768 - val_loss: 0.0918 - val_accuracy: 0.9756\n",
      "Epoch 14/100\n",
      "4020/4020 [==============================] - 488s 121ms/step - loss: 0.0728 - accuracy: 0.9792 - val_loss: 0.4148 - val_accuracy: 0.8955\n",
      "Epoch 15/100\n",
      "4020/4020 [==============================] - 498s 124ms/step - loss: 0.0632 - accuracy: 0.9805 - val_loss: 0.1052 - val_accuracy: 0.9670\n",
      "Epoch 16/100\n",
      "1942/4020 [=============>................] - ETA: 4:12 - loss: 0.0610 - accuracy: 0.9820"
     ]
    },
    {
     "name": "stderr",
     "output_type": "stream",
     "text": [
      "IOPub message rate exceeded.\n",
      "The Jupyter server will temporarily stop sending output\n",
      "to the client in order to avoid crashing it.\n",
      "To change this limit, set the config variable\n",
      "`--ServerApp.iopub_msg_rate_limit`.\n",
      "\n",
      "Current values:\n",
      "ServerApp.iopub_msg_rate_limit=1000.0 (msgs/sec)\n",
      "ServerApp.rate_limit_window=3.0 (secs)\n",
      "\n"
     ]
    },
    {
     "name": "stdout",
     "output_type": "stream",
     "text": [
      "4020/4020 [==============================] - 502s 125ms/step - loss: 0.0681 - accuracy: 0.9794 - val_loss: 1.1923 - val_accuracy: 0.8199\n",
      "Epoch 17/100\n",
      "4020/4020 [==============================] - 519s 129ms/step - loss: 0.0589 - accuracy: 0.9822 - val_loss: 0.0883 - val_accuracy: 0.9733\n",
      "Epoch 18/100\n",
      "4020/4020 [==============================] - 545s 136ms/step - loss: 0.0603 - accuracy: 0.9824 - val_loss: 0.0825 - val_accuracy: 0.9784\n",
      "Epoch 19/100\n",
      "4020/4020 [==============================] - 540s 134ms/step - loss: 0.0534 - accuracy: 0.9846 - val_loss: 1.1964 - val_accuracy: 0.7807\n",
      "Epoch 20/100\n",
      "4020/4020 [==============================] - 510s 127ms/step - loss: 0.0523 - accuracy: 0.9851 - val_loss: 0.0569 - val_accuracy: 0.9807\n",
      "Epoch 21/100\n",
      "4020/4020 [==============================] - 503s 125ms/step - loss: 0.0461 - accuracy: 0.9856 - val_loss: 0.2137 - val_accuracy: 0.9642\n",
      "Epoch 22/100\n",
      "4020/4020 [==============================] - 511s 127ms/step - loss: 0.0468 - accuracy: 0.9863 - val_loss: 0.0921 - val_accuracy: 0.9744\n",
      "Epoch 23/100\n",
      "4020/4020 [==============================] - 513s 127ms/step - loss: 0.0530 - accuracy: 0.9863 - val_loss: 0.0747 - val_accuracy: 0.9807\n",
      "Epoch 24/100\n",
      "1322/4020 [========>.....................] - ETA: 5:23 - loss: 0.0321 - accuracy: 0.9890"
     ]
    },
    {
     "name": "stderr",
     "output_type": "stream",
     "text": [
      "IOPub message rate exceeded.\n",
      "The Jupyter server will temporarily stop sending output\n",
      "to the client in order to avoid crashing it.\n",
      "To change this limit, set the config variable\n",
      "`--ServerApp.iopub_msg_rate_limit`.\n",
      "\n",
      "Current values:\n",
      "ServerApp.iopub_msg_rate_limit=1000.0 (msgs/sec)\n",
      "ServerApp.rate_limit_window=3.0 (secs)\n",
      "\n"
     ]
    }
   ],
   "source": [
    "model.fit(scaled_X_train, to_categorical(y_train),\\\n",
    "          batch_size=4,\\\n",
    "          epochs=100,\\\n",
    "          validation_data = (scaled_X_val,to_categorical(y_val)),\\\n",
    "          callbacks=[es])"
   ]
  },
  {
   "cell_type": "markdown",
   "id": "33b7007d-24c3-419a-b376-fe2d3c454a7c",
   "metadata": {},
   "source": [
    "# Test model"
   ]
  },
  {
   "cell_type": "code",
   "execution_count": 14,
   "id": "db5579f4-3a00-4445-8a0e-2e2e5e8fda4d",
   "metadata": {
    "tags": []
   },
   "outputs": [
    {
     "name": "stdout",
     "output_type": "stream",
     "text": [
      "68/68 [==============================] - 17s 251ms/step\n",
      "              precision    recall  f1-score   support\n",
      "\n",
      "           0       0.94      0.93      0.93        54\n",
      "           1       0.95      0.96      0.95        54\n",
      "           2       0.98      1.00      0.99        54\n",
      "           3       1.00      1.00      1.00        54\n",
      "           4       1.00      0.98      0.99        54\n",
      "           5       0.93      1.00      0.96        54\n",
      "           6       0.98      1.00      0.99        54\n",
      "           7       1.00      0.93      0.96        54\n",
      "           8       1.00      0.98      0.99        54\n",
      "           9       0.95      0.98      0.96        54\n",
      "          10       0.98      1.00      0.99        54\n",
      "          11       0.98      0.98      0.98        54\n",
      "          12       1.00      1.00      1.00        54\n",
      "          13       0.96      1.00      0.98        54\n",
      "          14       0.96      0.96      0.96        54\n",
      "          15       0.98      0.96      0.97        54\n",
      "          16       0.98      0.98      0.98        54\n",
      "          17       1.00      0.96      0.98        54\n",
      "          18       0.96      0.96      0.96        54\n",
      "          19       1.00      0.98      0.99        54\n",
      "          20       0.92      1.00      0.96        54\n",
      "          21       1.00      1.00      1.00        54\n",
      "          22       1.00      0.93      0.96        54\n",
      "          23       0.98      1.00      0.99        54\n",
      "          24       0.98      1.00      0.99        54\n",
      "          25       0.93      1.00      0.96        54\n",
      "          26       1.00      0.98      0.99        54\n",
      "          27       1.00      0.96      0.98        54\n",
      "          28       1.00      1.00      1.00        54\n",
      "          29       0.96      0.98      0.97        54\n",
      "          30       1.00      0.93      0.96        54\n",
      "          31       1.00      1.00      1.00        54\n",
      "          32       1.00      1.00      1.00        54\n",
      "          33       1.00      0.98      0.99        54\n",
      "          34       1.00      0.98      0.99        54\n",
      "          35       0.96      0.96      0.96        54\n",
      "          36       1.00      0.98      0.99        54\n",
      "          37       0.98      1.00      0.99        54\n",
      "          38       1.00      1.00      1.00        54\n",
      "          39       0.98      0.98      0.98        54\n",
      "\n",
      "    accuracy                           0.98      2160\n",
      "   macro avg       0.98      0.98      0.98      2160\n",
      "weighted avg       0.98      0.98      0.98      2160\n",
      "\n"
     ]
    }
   ],
   "source": [
    "y_pred = np.argmax(model.predict(scaled_X_test),axis=1)\n",
    "print(classification_report(y_test,y_pred))"
   ]
  },
  {
   "cell_type": "code",
   "execution_count": 15,
   "id": "52c91358-2e1d-40b6-9003-06238182352b",
   "metadata": {},
   "outputs": [],
   "source": [
    "model.save('./cnn_medium.h5')"
   ]
  },
  {
   "cell_type": "code",
   "execution_count": null,
   "id": "bc5e24af-db7b-49d6-b077-f1398b3b911f",
   "metadata": {},
   "outputs": [],
   "source": []
  }
 ],
 "metadata": {
  "kernelspec": {
   "display_name": "Python 3 (ipykernel)",
   "language": "python",
   "name": "python3"
  },
  "language_info": {
   "codemirror_mode": {
    "name": "ipython",
    "version": 3
   },
   "file_extension": ".py",
   "mimetype": "text/x-python",
   "name": "python",
   "nbconvert_exporter": "python",
   "pygments_lexer": "ipython3",
   "version": "3.9.13"
  },
  "toc-autonumbering": true
 },
 "nbformat": 4,
 "nbformat_minor": 5
}
