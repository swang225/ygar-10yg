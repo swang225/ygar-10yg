{
 "cells": [
  {
   "cell_type": "code",
   "execution_count": 11,
   "id": "5b21268a-5c59-4575-a591-afcd0fa11b51",
   "metadata": {
    "tags": []
   },
   "outputs": [],
   "source": [
    "import pandas as pd\n",
    "from nebula.data.yg_ar.setup_data_image_hard import read_data\n",
    "from nebula.common import to_scale_one, write_pickle, read_pickle\n",
    "from sklearn import svm\n",
    "from sklearn.linear_model import LogisticRegression\n",
    "from sklearn.ensemble import GradientBoostingClassifier\n",
    "import os\n",
    "import os.path as osp\n",
    "import numpy as np"
   ]
  },
  {
   "cell_type": "code",
   "execution_count": 26,
   "id": "46971ecd-13ed-4b89-b842-3c145c3596c8",
   "metadata": {
    "tags": []
   },
   "outputs": [],
   "source": [
    "def evaluate(model, test_x, test_y):\n",
    "    res = model.predict(test_x)\n",
    "    correct = res == test_y\n",
    "    accuracy = correct.sum() / len(res)\n",
    "    return res, accuracy\n",
    "\n",
    "\n",
    "def create_dirs_to_file(path):\n",
    "    dirs = \"/\".join(osp.join(path).split(\"/\")[:-1])\n",
    "    if not osp.exists(dirs):\n",
    "        os.makedirs(dirs)\n",
    "\n",
    "\n",
    "def load_or_train(train_x, train_y, test_x, test_y, train_func, label_map, path):\n",
    "    \n",
    "    if osp.exists(path):\n",
    "        return read_pickle(path)\n",
    "    \n",
    "    create_dirs_to_file(path)\n",
    "    \n",
    "    trained_model = train_func(train_x, train_y)\n",
    "    predictions, accuracy = evaluate(trained_model, test_x, test_y)\n",
    "    \n",
    "    df, df_incorrect, df_correct = format_results(predictions, test_y, label_map)\n",
    "    \n",
    "    write_pickle(path, (trained_model, predictions, accuracy, df, df_incorrect, df_correct, label_map)) \n",
    "    \n",
    "    return trained_model, predictions, accuracy, df, df_incorrect, df_correct, label_map\n",
    "\n",
    "\n",
    "def format_results(predictions, labels, label_map):\n",
    "    df = pd.DataFrame(\n",
    "        data={\n",
    "            \"prediction\": predictions,\n",
    "            \"label\": labels\n",
    "        }\n",
    "    )\n",
    "    df[\"check\"] = df[\"prediction\"] == df[\"label\"]\n",
    "\n",
    "    label_map_reverse = {v:k for k, v in label_map.items()}\n",
    "\n",
    "    df[\"prediction_name\"] = df.prediction.map(label_map_reverse)\n",
    "    df[\"label_name\"] = df.label.map(label_map_reverse)\n",
    "\n",
    "    df_incorrect = df[~df.check]\n",
    "    df_correct = df[df.check]\n",
    "\n",
    "    return df, df_incorrect, df_correct"
   ]
  },
  {
   "cell_type": "code",
   "execution_count": 12,
   "id": "6d6aa2df-d80c-403c-b0a9-33557679ae7c",
   "metadata": {
    "tags": []
   },
   "outputs": [],
   "source": [
    "def create_label_map(labels):\n",
    "    label_set = set()\n",
    "    for lt in labels:\n",
    "        label_set.add(lt)\n",
    "        \n",
    "    label_set = list(label_set)\n",
    "    label_set.sort()\n",
    "\n",
    "    label_map = {}\n",
    "    count = 0\n",
    "    for l in label_set:\n",
    "        label_map[l] = count\n",
    "        count += 1\n",
    "        \n",
    "    return label_map"
   ]
  },
  {
   "cell_type": "code",
   "execution_count": 13,
   "id": "4ee2c279-2933-4770-ad74-b764d21926e2",
   "metadata": {
    "tags": []
   },
   "outputs": [],
   "source": [
    "# create data sets\n",
    "df_path_easy = '/home/ubuntu/data/yg_ar/image_easy2_ds_sift_amiya.pkl'\n",
    "df_easy, train_df_easy, test_df_easy, valid_df_easy = read_pickle(df_path_easy)\n",
    "\n",
    "df_path_medium = '/home/ubuntu/data/yg_ar/image_medium_ds_sift_amiya.pkl'\n",
    "df_medium, train_df_medium, test_df_medium, valid_df_medium = read_pickle(df_path_medium)\n",
    "                                                                  \n",
    "df_path_hard = '/home/ubuntu/data/yg_ar/image_hard_ds_sift_amiya.pkl'\n",
    "df_hard, train_df_hard, test_df_hard, valid_df_hard = read_pickle(df_path_hard)"
   ]
  },
  {
   "cell_type": "code",
   "execution_count": 14,
   "id": "9eb9698f-b401-4610-96cc-1aedfd1bd13d",
   "metadata": {
    "tags": []
   },
   "outputs": [],
   "source": [
    "# create labels\n",
    "label_map_a_easy = create_label_map(df_easy[\"label_a\"])\n",
    "label_map_at_easy = create_label_map(df_easy[\"label_at\"])\n",
    "\n",
    "label_map_a_medium = create_label_map(df_medium[\"label_a\"])\n",
    "label_map_at_medium = create_label_map(df_medium[\"label_at\"])\n",
    "\n",
    "label_map_a_hard = create_label_map(df_hard[\"label_a\"])\n",
    "label_map_at_hard = create_label_map(df_hard[\"label_at\"])"
   ]
  },
  {
   "cell_type": "code",
   "execution_count": 15,
   "id": "bce63941-c9fc-4c11-9fbf-4947ee998238",
   "metadata": {
    "tags": []
   },
   "outputs": [],
   "source": [
    "train_x_easy = train_df_easy[\"image\"].to_list()\n",
    "train_x_medium = train_df_medium[\"image\"].to_list()\n",
    "train_x_hard = train_df_hard[\"image\"].to_list()"
   ]
  },
  {
   "cell_type": "code",
   "execution_count": 16,
   "id": "9fd5319f-95ee-4a1a-a056-c755af2930bd",
   "metadata": {
    "tags": []
   },
   "outputs": [],
   "source": [
    "train_y_a_easy = train_df_easy[\"label_a\"].map(label_map_a_easy).to_list()\n",
    "train_y_at_easy = train_df_easy[\"label_at\"].map(label_map_at_easy).to_list()\n",
    "\n",
    "train_y_a_medium = train_df_medium[\"label_a\"].map(label_map_a_medium).to_list()\n",
    "train_y_at_medium = train_df_medium[\"label_at\"].map(label_map_at_medium).to_list()\n",
    "\n",
    "train_y_a_hard = train_df_hard[\"label_a\"].map(label_map_a_medium).to_list()\n",
    "train_y_at_hard = train_df_hard[\"label_at\"].map(label_map_at_medium).to_list()"
   ]
  },
  {
   "cell_type": "code",
   "execution_count": 17,
   "id": "f21f1acf-b2c2-4f1d-87f8-093f2da21874",
   "metadata": {
    "tags": []
   },
   "outputs": [],
   "source": [
    "test_x_easy = test_df_easy[\"image\"].to_list()\n",
    "test_x_medium = test_df_medium[\"image\"].to_list()\n",
    "test_x_hard = test_df_hard[\"image\"].to_list()"
   ]
  },
  {
   "cell_type": "code",
   "execution_count": 18,
   "id": "fefefe69-772d-4d2a-ae8f-88c4f158a291",
   "metadata": {
    "tags": []
   },
   "outputs": [],
   "source": [
    "test_y_a_easy = test_df_easy[\"label_a\"].map(label_map_a_easy).to_list()\n",
    "test_y_at_easy = test_df_easy[\"label_at\"].map(label_map_at_easy).to_list()\n",
    "\n",
    "test_y_a_medium = test_df_medium[\"label_a\"].map(label_map_a_medium).to_list()\n",
    "test_y_at_medium = test_df_medium[\"label_at\"].map(label_map_at_medium).to_list()\n",
    "\n",
    "test_y_a_hard = test_df_hard[\"label_a\"].map(label_map_a_hard).to_list()\n",
    "test_y_at_hard = test_df_hard[\"label_at\"].map(label_map_at_hard).to_list()"
   ]
  },
  {
   "cell_type": "code",
   "execution_count": 35,
   "id": "22884327-365a-47eb-a4f6-c9fcb2d102a9",
   "metadata": {
    "tags": []
   },
   "outputs": [],
   "source": [
    "valid_x_easy = valid_df_easy[\"image\"].to_list()\n",
    "valid_x_medium = valid_df_medium[\"image\"].to_list()\n",
    "valid_x_hard = valid_df_hard[\"image\"].to_list()"
   ]
  },
  {
   "cell_type": "code",
   "execution_count": 36,
   "id": "281b0a58-2d23-4193-9f64-a77dcf97e1ad",
   "metadata": {
    "tags": []
   },
   "outputs": [],
   "source": [
    "valid_y_a_easy = valid_df_easy[\"label_a\"].map(label_map_a_easy).to_list()\n",
    "valid_y_at_easy = valid_df_easy[\"label_at\"].map(label_map_at_easy).to_list()\n",
    "\n",
    "valid_y_a_medium = valid_df_medium[\"label_a\"].map(label_map_a_medium).to_list()\n",
    "valid_y_at_medium = valid_df_medium[\"label_at\"].map(label_map_at_medium).to_list()\n",
    "\n",
    "valid_y_a_hard = valid_df_hard[\"label_a\"].map(label_map_a_hard).to_list()\n",
    "valid_y_at_hard = valid_df_hard[\"label_at\"].map(label_map_at_hard).to_list()"
   ]
  },
  {
   "cell_type": "code",
   "execution_count": 41,
   "id": "bcfd2701-8d72-4be1-87cf-4dbe9b40d0ce",
   "metadata": {
    "tags": []
   },
   "outputs": [
    {
     "name": "stdout",
     "output_type": "stream",
     "text": [
      "Fitting 2 folds for each of 48 candidates, totalling 96 fits\n",
      "[CV 1/2] END .....C=0.1, gamma=1, kernel=linear;, score=0.081 total time=   0.2s\n",
      "[CV 2/2] END .....C=0.1, gamma=1, kernel=linear;, score=0.075 total time=   0.3s\n",
      "[CV 1/2] END ........C=0.1, gamma=1, kernel=rbf;, score=0.051 total time=   0.2s\n",
      "[CV 2/2] END ........C=0.1, gamma=1, kernel=rbf;, score=0.049 total time=   0.3s\n",
      "[CV 1/2] END .......C=0.1, gamma=1, kernel=poly;, score=0.068 total time=   0.2s\n",
      "[CV 2/2] END .......C=0.1, gamma=1, kernel=poly;, score=0.058 total time=   0.2s\n",
      "[CV 1/2] END ...C=0.1, gamma=0.1, kernel=linear;, score=0.081 total time=   0.2s\n",
      "[CV 2/2] END ...C=0.1, gamma=0.1, kernel=linear;, score=0.075 total time=   0.2s\n",
      "[CV 1/2] END ......C=0.1, gamma=0.1, kernel=rbf;, score=0.050 total time=   0.2s\n",
      "[CV 2/2] END ......C=0.1, gamma=0.1, kernel=rbf;, score=0.044 total time=   0.3s\n",
      "[CV 1/2] END .....C=0.1, gamma=0.1, kernel=poly;, score=0.067 total time=   0.2s\n",
      "[CV 2/2] END .....C=0.1, gamma=0.1, kernel=poly;, score=0.058 total time=   0.2s\n",
      "[CV 1/2] END ..C=0.1, gamma=0.01, kernel=linear;, score=0.081 total time=   0.3s\n",
      "[CV 2/2] END ..C=0.1, gamma=0.01, kernel=linear;, score=0.075 total time=   0.3s\n",
      "[CV 1/2] END .....C=0.1, gamma=0.01, kernel=rbf;, score=0.082 total time=   0.3s\n",
      "[CV 2/2] END .....C=0.1, gamma=0.01, kernel=rbf;, score=0.085 total time=   0.3s\n",
      "[CV 1/2] END ....C=0.1, gamma=0.01, kernel=poly;, score=0.043 total time=   0.2s\n",
      "[CV 2/2] END ....C=0.1, gamma=0.01, kernel=poly;, score=0.040 total time=   0.2s\n",
      "[CV 1/2] END .C=0.1, gamma=0.001, kernel=linear;, score=0.081 total time=   0.3s\n",
      "[CV 2/2] END .C=0.1, gamma=0.001, kernel=linear;, score=0.075 total time=   0.3s\n",
      "[CV 1/2] END ....C=0.1, gamma=0.001, kernel=rbf;, score=0.076 total time=   0.3s\n",
      "[CV 2/2] END ....C=0.1, gamma=0.001, kernel=rbf;, score=0.075 total time=   0.3s\n",
      "[CV 1/2] END ...C=0.1, gamma=0.001, kernel=poly;, score=0.034 total time=   0.2s\n",
      "[CV 2/2] END ...C=0.1, gamma=0.001, kernel=poly;, score=0.039 total time=   0.2s\n",
      "[CV 1/2] END .......C=1, gamma=1, kernel=linear;, score=0.080 total time=   0.3s\n",
      "[CV 2/2] END .......C=1, gamma=1, kernel=linear;, score=0.074 total time=   0.3s\n",
      "[CV 1/2] END ..........C=1, gamma=1, kernel=rbf;, score=0.047 total time=   0.3s\n",
      "[CV 2/2] END ..........C=1, gamma=1, kernel=rbf;, score=0.034 total time=   0.3s\n",
      "[CV 1/2] END .........C=1, gamma=1, kernel=poly;, score=0.068 total time=   0.2s\n",
      "[CV 2/2] END .........C=1, gamma=1, kernel=poly;, score=0.058 total time=   0.2s\n",
      "[CV 1/2] END .....C=1, gamma=0.1, kernel=linear;, score=0.080 total time=   0.3s\n",
      "[CV 2/2] END .....C=1, gamma=0.1, kernel=linear;, score=0.074 total time=   0.3s\n",
      "[CV 1/2] END ........C=1, gamma=0.1, kernel=rbf;, score=0.053 total time=   0.3s\n",
      "[CV 2/2] END ........C=1, gamma=0.1, kernel=rbf;, score=0.050 total time=   0.3s\n",
      "[CV 1/2] END .......C=1, gamma=0.1, kernel=poly;, score=0.068 total time=   0.2s\n",
      "[CV 2/2] END .......C=1, gamma=0.1, kernel=poly;, score=0.058 total time=   0.2s\n",
      "[CV 1/2] END ....C=1, gamma=0.01, kernel=linear;, score=0.080 total time=   0.2s\n",
      "[CV 2/2] END ....C=1, gamma=0.01, kernel=linear;, score=0.074 total time=   0.3s\n",
      "[CV 1/2] END .......C=1, gamma=0.01, kernel=rbf;, score=0.093 total time=   0.3s\n",
      "[CV 2/2] END .......C=1, gamma=0.01, kernel=rbf;, score=0.080 total time=   0.3s\n",
      "[CV 1/2] END ......C=1, gamma=0.01, kernel=poly;, score=0.069 total time=   0.2s\n",
      "[CV 2/2] END ......C=1, gamma=0.01, kernel=poly;, score=0.074 total time=   0.2s\n",
      "[CV 1/2] END ...C=1, gamma=0.001, kernel=linear;, score=0.080 total time=   0.2s\n",
      "[CV 2/2] END ...C=1, gamma=0.001, kernel=linear;, score=0.074 total time=   0.3s\n",
      "[CV 1/2] END ......C=1, gamma=0.001, kernel=rbf;, score=0.076 total time=   0.3s\n",
      "[CV 2/2] END ......C=1, gamma=0.001, kernel=rbf;, score=0.075 total time=   0.3s\n",
      "[CV 1/2] END .....C=1, gamma=0.001, kernel=poly;, score=0.034 total time=   0.2s\n",
      "[CV 2/2] END .....C=1, gamma=0.001, kernel=poly;, score=0.039 total time=   0.2s\n",
      "[CV 1/2] END ......C=10, gamma=1, kernel=linear;, score=0.080 total time=   0.3s\n",
      "[CV 2/2] END ......C=10, gamma=1, kernel=linear;, score=0.074 total time=   0.3s\n",
      "[CV 1/2] END .........C=10, gamma=1, kernel=rbf;, score=0.036 total time=   0.2s\n",
      "[CV 2/2] END .........C=10, gamma=1, kernel=rbf;, score=0.045 total time=   0.3s\n",
      "[CV 1/2] END ........C=10, gamma=1, kernel=poly;, score=0.068 total time=   0.2s\n",
      "[CV 2/2] END ........C=10, gamma=1, kernel=poly;, score=0.058 total time=   0.2s\n",
      "[CV 1/2] END ....C=10, gamma=0.1, kernel=linear;, score=0.080 total time=   0.3s\n",
      "[CV 2/2] END ....C=10, gamma=0.1, kernel=linear;, score=0.074 total time=   0.3s\n",
      "[CV 1/2] END .......C=10, gamma=0.1, kernel=rbf;, score=0.058 total time=   0.3s\n",
      "[CV 2/2] END .......C=10, gamma=0.1, kernel=rbf;, score=0.052 total time=   0.3s\n",
      "[CV 1/2] END ......C=10, gamma=0.1, kernel=poly;, score=0.068 total time=   0.2s\n",
      "[CV 2/2] END ......C=10, gamma=0.1, kernel=poly;, score=0.058 total time=   0.2s\n",
      "[CV 1/2] END ...C=10, gamma=0.01, kernel=linear;, score=0.080 total time=   0.3s\n",
      "[CV 2/2] END ...C=10, gamma=0.01, kernel=linear;, score=0.074 total time=   0.3s\n",
      "[CV 1/2] END ......C=10, gamma=0.01, kernel=rbf;, score=0.081 total time=   0.3s\n",
      "[CV 2/2] END ......C=10, gamma=0.01, kernel=rbf;, score=0.075 total time=   0.3s\n",
      "[CV 1/2] END .....C=10, gamma=0.01, kernel=poly;, score=0.068 total time=   0.2s\n",
      "[CV 2/2] END .....C=10, gamma=0.01, kernel=poly;, score=0.068 total time=   0.2s\n",
      "[CV 1/2] END ..C=10, gamma=0.001, kernel=linear;, score=0.080 total time=   0.2s\n",
      "[CV 2/2] END ..C=10, gamma=0.001, kernel=linear;, score=0.074 total time=   0.2s\n",
      "[CV 1/2] END .....C=10, gamma=0.001, kernel=rbf;, score=0.089 total time=   0.3s\n",
      "[CV 2/2] END .....C=10, gamma=0.001, kernel=rbf;, score=0.087 total time=   0.3s\n",
      "[CV 1/2] END ....C=10, gamma=0.001, kernel=poly;, score=0.034 total time=   0.2s\n",
      "[CV 2/2] END ....C=10, gamma=0.001, kernel=poly;, score=0.039 total time=   0.2s\n",
      "[CV 1/2] END .....C=100, gamma=1, kernel=linear;, score=0.080 total time=   0.3s\n",
      "[CV 2/2] END .....C=100, gamma=1, kernel=linear;, score=0.074 total time=   0.3s\n",
      "[CV 1/2] END ........C=100, gamma=1, kernel=rbf;, score=0.036 total time=   0.3s\n",
      "[CV 2/2] END ........C=100, gamma=1, kernel=rbf;, score=0.045 total time=   0.2s\n",
      "[CV 1/2] END .......C=100, gamma=1, kernel=poly;, score=0.068 total time=   0.2s\n",
      "[CV 2/2] END .......C=100, gamma=1, kernel=poly;, score=0.058 total time=   0.2s\n",
      "[CV 1/2] END ...C=100, gamma=0.1, kernel=linear;, score=0.080 total time=   0.3s\n",
      "[CV 2/2] END ...C=100, gamma=0.1, kernel=linear;, score=0.074 total time=   0.2s\n",
      "[CV 1/2] END ......C=100, gamma=0.1, kernel=rbf;, score=0.058 total time=   0.3s\n",
      "[CV 2/2] END ......C=100, gamma=0.1, kernel=rbf;, score=0.052 total time=   0.3s\n",
      "[CV 1/2] END .....C=100, gamma=0.1, kernel=poly;, score=0.068 total time=   0.2s\n",
      "[CV 2/2] END .....C=100, gamma=0.1, kernel=poly;, score=0.058 total time=   0.2s\n",
      "[CV 1/2] END ..C=100, gamma=0.01, kernel=linear;, score=0.080 total time=   0.3s\n",
      "[CV 2/2] END ..C=100, gamma=0.01, kernel=linear;, score=0.074 total time=   0.3s\n",
      "[CV 1/2] END .....C=100, gamma=0.01, kernel=rbf;, score=0.081 total time=   0.3s\n",
      "[CV 2/2] END .....C=100, gamma=0.01, kernel=rbf;, score=0.075 total time=   0.3s\n",
      "[CV 1/2] END ....C=100, gamma=0.01, kernel=poly;, score=0.067 total time=   0.2s\n",
      "[CV 2/2] END ....C=100, gamma=0.01, kernel=poly;, score=0.058 total time=   0.2s\n",
      "[CV 1/2] END .C=100, gamma=0.001, kernel=linear;, score=0.080 total time=   0.3s\n",
      "[CV 2/2] END .C=100, gamma=0.001, kernel=linear;, score=0.074 total time=   0.3s\n",
      "[CV 1/2] END ....C=100, gamma=0.001, kernel=rbf;, score=0.078 total time=   0.3s\n",
      "[CV 2/2] END ....C=100, gamma=0.001, kernel=rbf;, score=0.073 total time=   0.4s\n",
      "[CV 1/2] END ...C=100, gamma=0.001, kernel=poly;, score=0.043 total time=   0.2s\n",
      "[CV 2/2] END ...C=100, gamma=0.001, kernel=poly;, score=0.040 total time=   0.2s\n",
      "best score:  0.08806818181818182\n",
      "best_params:  {'C': 10, 'gamma': 0.001, 'kernel': 'rbf'}\n"
     ]
    }
   ],
   "source": [
    "from sklearn.model_selection import GridSearchCV\n",
    "\n",
    "param_grid = {\n",
    "    'C':      [0.1, 1, 10, 100], \n",
    "    'gamma':  [1, 0.1, 0.01, 0.001],\n",
    "    'kernel': ['linear', 'rbf', 'poly']\n",
    "} \n",
    "\n",
    "grid_model = GridSearchCV(\n",
    "    estimator=svm.SVC(),\n",
    "    param_grid=param_grid,\n",
    "    refit=True,\n",
    "    verbose=3,\n",
    "    cv=2,\n",
    ")\n",
    "\n",
    "grid_model.fit(valid_x_hard, valid_y_at_hard)\n",
    "\n",
    "print(\"best score: \", grid_model.best_score_)\n",
    "print(\"best_params: \", grid_model.best_params_)"
   ]
  },
  {
   "cell_type": "code",
   "execution_count": 39,
   "id": "cc7746dd-b172-4da8-9bda-908ebe7c08eb",
   "metadata": {
    "tags": []
   },
   "outputs": [
    {
     "name": "stdout",
     "output_type": "stream",
     "text": [
      "Fitting 2 folds for each of 36 candidates, totalling 72 fits\n",
      "[CV 1/2] END ..C=0.5, gamma=0.05, kernel=linear;, score=0.080 total time=   0.3s\n",
      "[CV 2/2] END ..C=0.5, gamma=0.05, kernel=linear;, score=0.074 total time=   0.3s\n",
      "[CV 1/2] END .....C=0.5, gamma=0.05, kernel=rbf;, score=0.050 total time=   0.3s\n",
      "[CV 2/2] END .....C=0.5, gamma=0.05, kernel=rbf;, score=0.050 total time=   0.3s\n",
      "[CV 1/2] END ....C=0.5, gamma=0.05, kernel=poly;, score=0.065 total time=   0.2s\n",
      "[CV 2/2] END ....C=0.5, gamma=0.05, kernel=poly;, score=0.060 total time=   0.2s\n",
      "[CV 1/2] END ..C=0.5, gamma=0.01, kernel=linear;, score=0.080 total time=   0.2s\n",
      "[CV 2/2] END ..C=0.5, gamma=0.01, kernel=linear;, score=0.074 total time=   0.3s\n",
      "[CV 1/2] END .....C=0.5, gamma=0.01, kernel=rbf;, score=0.084 total time=   0.3s\n",
      "[CV 2/2] END .....C=0.5, gamma=0.01, kernel=rbf;, score=0.085 total time=   0.3s\n",
      "[CV 1/2] END ....C=0.5, gamma=0.01, kernel=poly;, score=0.069 total time=   0.2s\n",
      "[CV 2/2] END ....C=0.5, gamma=0.01, kernel=poly;, score=0.073 total time=   0.2s\n",
      "[CV 1/2] END .C=0.5, gamma=0.005, kernel=linear;, score=0.080 total time=   0.3s\n",
      "[CV 2/2] END .C=0.5, gamma=0.005, kernel=linear;, score=0.074 total time=   0.3s\n",
      "[CV 1/2] END ....C=0.5, gamma=0.005, kernel=rbf;, score=0.080 total time=   0.3s\n",
      "[CV 2/2] END ....C=0.5, gamma=0.005, kernel=rbf;, score=0.076 total time=   0.3s\n",
      "[CV 1/2] END ...C=0.5, gamma=0.005, kernel=poly;, score=0.039 total time=   0.2s\n",
      "[CV 2/2] END ...C=0.5, gamma=0.005, kernel=poly;, score=0.040 total time=   0.2s\n",
      "[CV 1/2] END ....C=1, gamma=0.05, kernel=linear;, score=0.080 total time=   0.2s\n",
      "[CV 2/2] END ....C=1, gamma=0.05, kernel=linear;, score=0.074 total time=   0.3s\n",
      "[CV 1/2] END .......C=1, gamma=0.05, kernel=rbf;, score=0.065 total time=   0.3s\n",
      "[CV 2/2] END .......C=1, gamma=0.05, kernel=rbf;, score=0.065 total time=   0.3s\n",
      "[CV 1/2] END ......C=1, gamma=0.05, kernel=poly;, score=0.067 total time=   0.2s\n",
      "[CV 2/2] END ......C=1, gamma=0.05, kernel=poly;, score=0.058 total time=   0.2s\n",
      "[CV 1/2] END ....C=1, gamma=0.01, kernel=linear;, score=0.080 total time=   0.2s\n",
      "[CV 2/2] END ....C=1, gamma=0.01, kernel=linear;, score=0.074 total time=   0.3s\n",
      "[CV 1/2] END .......C=1, gamma=0.01, kernel=rbf;, score=0.093 total time=   0.3s\n",
      "[CV 2/2] END .......C=1, gamma=0.01, kernel=rbf;, score=0.080 total time=   0.3s\n",
      "[CV 1/2] END ......C=1, gamma=0.01, kernel=poly;, score=0.069 total time=   0.2s\n",
      "[CV 2/2] END ......C=1, gamma=0.01, kernel=poly;, score=0.074 total time=   0.2s\n",
      "[CV 1/2] END ...C=1, gamma=0.005, kernel=linear;, score=0.080 total time=   0.3s\n",
      "[CV 2/2] END ...C=1, gamma=0.005, kernel=linear;, score=0.074 total time=   0.3s\n",
      "[CV 1/2] END ......C=1, gamma=0.005, kernel=rbf;, score=0.086 total time=   0.3s\n",
      "[CV 2/2] END ......C=1, gamma=0.005, kernel=rbf;, score=0.081 total time=   0.3s\n",
      "[CV 1/2] END .....C=1, gamma=0.005, kernel=poly;, score=0.043 total time=   0.2s\n",
      "[CV 2/2] END .....C=1, gamma=0.005, kernel=poly;, score=0.044 total time=   0.2s\n",
      "[CV 1/2] END ....C=3, gamma=0.05, kernel=linear;, score=0.080 total time=   0.2s\n",
      "[CV 2/2] END ....C=3, gamma=0.05, kernel=linear;, score=0.074 total time=   0.3s\n",
      "[CV 1/2] END .......C=3, gamma=0.05, kernel=rbf;, score=0.065 total time=   0.3s\n",
      "[CV 2/2] END .......C=3, gamma=0.05, kernel=rbf;, score=0.062 total time=   0.3s\n",
      "[CV 1/2] END ......C=3, gamma=0.05, kernel=poly;, score=0.068 total time=   0.2s\n",
      "[CV 2/2] END ......C=3, gamma=0.05, kernel=poly;, score=0.058 total time=   0.2s\n",
      "[CV 1/2] END ....C=3, gamma=0.01, kernel=linear;, score=0.080 total time=   0.3s\n",
      "[CV 2/2] END ....C=3, gamma=0.01, kernel=linear;, score=0.074 total time=   0.3s\n",
      "[CV 1/2] END .......C=3, gamma=0.01, kernel=rbf;, score=0.083 total time=   0.3s\n",
      "[CV 2/2] END .......C=3, gamma=0.01, kernel=rbf;, score=0.077 total time=   0.3s\n",
      "[CV 1/2] END ......C=3, gamma=0.01, kernel=poly;, score=0.073 total time=   0.2s\n",
      "[CV 2/2] END ......C=3, gamma=0.01, kernel=poly;, score=0.069 total time=   0.2s\n",
      "[CV 1/2] END ...C=3, gamma=0.005, kernel=linear;, score=0.080 total time=   0.3s\n",
      "[CV 2/2] END ...C=3, gamma=0.005, kernel=linear;, score=0.074 total time=   0.2s\n",
      "[CV 1/2] END ......C=3, gamma=0.005, kernel=rbf;, score=0.086 total time=   0.3s\n",
      "[CV 2/2] END ......C=3, gamma=0.005, kernel=rbf;, score=0.086 total time=   0.3s\n",
      "[CV 1/2] END .....C=3, gamma=0.005, kernel=poly;, score=0.066 total time=   0.2s\n",
      "[CV 2/2] END .....C=3, gamma=0.005, kernel=poly;, score=0.077 total time=   0.2s\n",
      "[CV 1/2] END ....C=5, gamma=0.05, kernel=linear;, score=0.080 total time=   0.3s\n",
      "[CV 2/2] END ....C=5, gamma=0.05, kernel=linear;, score=0.074 total time=   0.3s\n",
      "[CV 1/2] END .......C=5, gamma=0.05, kernel=rbf;, score=0.065 total time=   0.3s\n",
      "[CV 2/2] END .......C=5, gamma=0.05, kernel=rbf;, score=0.062 total time=   0.3s\n",
      "[CV 1/2] END ......C=5, gamma=0.05, kernel=poly;, score=0.068 total time=   0.2s\n",
      "[CV 2/2] END ......C=5, gamma=0.05, kernel=poly;, score=0.058 total time=   0.2s\n",
      "[CV 1/2] END ....C=5, gamma=0.01, kernel=linear;, score=0.080 total time=   0.3s\n",
      "[CV 2/2] END ....C=5, gamma=0.01, kernel=linear;, score=0.074 total time=   0.3s\n",
      "[CV 1/2] END .......C=5, gamma=0.01, kernel=rbf;, score=0.083 total time=   0.3s\n",
      "[CV 2/2] END .......C=5, gamma=0.01, kernel=rbf;, score=0.075 total time=   0.3s\n",
      "[CV 1/2] END ......C=5, gamma=0.01, kernel=poly;, score=0.068 total time=   0.2s\n",
      "[CV 2/2] END ......C=5, gamma=0.01, kernel=poly;, score=0.068 total time=   0.2s\n",
      "[CV 1/2] END ...C=5, gamma=0.005, kernel=linear;, score=0.080 total time=   0.3s\n",
      "[CV 2/2] END ...C=5, gamma=0.005, kernel=linear;, score=0.074 total time=   0.3s\n",
      "[CV 1/2] END ......C=5, gamma=0.005, kernel=rbf;, score=0.086 total time=   0.3s\n",
      "[CV 2/2] END ......C=5, gamma=0.005, kernel=rbf;, score=0.080 total time=   0.3s\n",
      "[CV 1/2] END .....C=5, gamma=0.005, kernel=poly;, score=0.076 total time=   0.2s\n",
      "[CV 2/2] END .....C=5, gamma=0.005, kernel=poly;, score=0.073 total time=   0.2s\n",
      "best score:  0.08636363636363636\n",
      "best_params:  {'C': 1, 'gamma': 0.01, 'kernel': 'rbf'}\n"
     ]
    }
   ],
   "source": [
    "from sklearn.model_selection import GridSearchCV\n",
    "\n",
    "param_grid = {\n",
    "    'C':      [0.5, 1, 3, 5], \n",
    "    'gamma':  [0.05, 0.01, 0.005],\n",
    "    'kernel': ['linear', 'rbf', 'poly']\n",
    "} \n",
    "\n",
    "grid_model = GridSearchCV(\n",
    "    estimator=svm.SVC(),\n",
    "    param_grid=param_grid,\n",
    "    refit=True,\n",
    "    verbose=3,\n",
    "    cv=2,\n",
    ")\n",
    "\n",
    "grid_model.fit(valid_x_hard, valid_y_at_hard)\n",
    "\n",
    "print(\"best score: \", grid_model.best_score_)\n",
    "print(\"best_params: \", grid_model.best_params_)"
   ]
  },
  {
   "cell_type": "code",
   "execution_count": 37,
   "id": "413b5487-4bda-4341-8c20-c49e5ed47b14",
   "metadata": {
    "tags": []
   },
   "outputs": [
    {
     "name": "stdout",
     "output_type": "stream",
     "text": [
      "Fitting 2 folds for each of 27 candidates, totalling 54 fits\n",
      "[CV 1/2] END ..C=0.8, gamma=0.03, kernel=linear;, score=0.080 total time=   0.3s\n",
      "[CV 2/2] END ..C=0.8, gamma=0.03, kernel=linear;, score=0.074 total time=   0.3s\n",
      "[CV 1/2] END .....C=0.8, gamma=0.03, kernel=rbf;, score=0.059 total time=   0.3s\n",
      "[CV 2/2] END .....C=0.8, gamma=0.03, kernel=rbf;, score=0.066 total time=   0.3s\n",
      "[CV 1/2] END ....C=0.8, gamma=0.03, kernel=poly;, score=0.067 total time=   0.2s\n",
      "[CV 2/2] END ....C=0.8, gamma=0.03, kernel=poly;, score=0.061 total time=   0.2s\n",
      "[CV 1/2] END ..C=0.8, gamma=0.01, kernel=linear;, score=0.080 total time=   0.3s\n",
      "[CV 2/2] END ..C=0.8, gamma=0.01, kernel=linear;, score=0.074 total time=   0.3s\n",
      "[CV 1/2] END .....C=0.8, gamma=0.01, kernel=rbf;, score=0.089 total time=   0.3s\n",
      "[CV 2/2] END .....C=0.8, gamma=0.01, kernel=rbf;, score=0.077 total time=   0.3s\n",
      "[CV 1/2] END ....C=0.8, gamma=0.01, kernel=poly;, score=0.076 total time=   0.2s\n",
      "[CV 2/2] END ....C=0.8, gamma=0.01, kernel=poly;, score=0.081 total time=   0.2s\n",
      "[CV 1/2] END .C=0.8, gamma=0.007, kernel=linear;, score=0.080 total time=   0.3s\n",
      "[CV 2/2] END .C=0.8, gamma=0.007, kernel=linear;, score=0.074 total time=   0.3s\n",
      "[CV 1/2] END ....C=0.8, gamma=0.007, kernel=rbf;, score=0.084 total time=   0.3s\n",
      "[CV 2/2] END ....C=0.8, gamma=0.007, kernel=rbf;, score=0.083 total time=   0.3s\n",
      "[CV 1/2] END ...C=0.8, gamma=0.007, kernel=poly;, score=0.058 total time=   0.2s\n",
      "[CV 2/2] END ...C=0.8, gamma=0.007, kernel=poly;, score=0.076 total time=   0.2s\n",
      "[CV 1/2] END ....C=1, gamma=0.03, kernel=linear;, score=0.080 total time=   0.3s\n",
      "[CV 2/2] END ....C=1, gamma=0.03, kernel=linear;, score=0.074 total time=   0.3s\n",
      "[CV 1/2] END .......C=1, gamma=0.03, kernel=rbf;, score=0.074 total time=   0.3s\n",
      "[CV 2/2] END .......C=1, gamma=0.03, kernel=rbf;, score=0.073 total time=   0.3s\n",
      "[CV 1/2] END ......C=1, gamma=0.03, kernel=poly;, score=0.067 total time=   0.2s\n",
      "[CV 2/2] END ......C=1, gamma=0.03, kernel=poly;, score=0.062 total time=   0.2s\n",
      "[CV 1/2] END ....C=1, gamma=0.01, kernel=linear;, score=0.080 total time=   0.3s\n",
      "[CV 2/2] END ....C=1, gamma=0.01, kernel=linear;, score=0.074 total time=   0.3s\n",
      "[CV 1/2] END .......C=1, gamma=0.01, kernel=rbf;, score=0.093 total time=   0.3s\n",
      "[CV 2/2] END .......C=1, gamma=0.01, kernel=rbf;, score=0.080 total time=   0.3s\n",
      "[CV 1/2] END ......C=1, gamma=0.01, kernel=poly;, score=0.069 total time=   0.2s\n",
      "[CV 2/2] END ......C=1, gamma=0.01, kernel=poly;, score=0.074 total time=   0.2s\n",
      "[CV 1/2] END ...C=1, gamma=0.007, kernel=linear;, score=0.080 total time=   0.2s\n",
      "[CV 2/2] END ...C=1, gamma=0.007, kernel=linear;, score=0.074 total time=   0.3s\n",
      "[CV 1/2] END ......C=1, gamma=0.007, kernel=rbf;, score=0.091 total time=   0.3s\n",
      "[CV 2/2] END ......C=1, gamma=0.007, kernel=rbf;, score=0.074 total time=   0.3s\n",
      "[CV 1/2] END .....C=1, gamma=0.007, kernel=poly;, score=0.069 total time=   0.2s\n",
      "[CV 2/2] END .....C=1, gamma=0.007, kernel=poly;, score=0.080 total time=   0.2s\n",
      "[CV 1/2] END ....C=2, gamma=0.03, kernel=linear;, score=0.080 total time=   0.2s\n",
      "[CV 2/2] END ....C=2, gamma=0.03, kernel=linear;, score=0.074 total time=   0.3s\n",
      "[CV 1/2] END .......C=2, gamma=0.03, kernel=rbf;, score=0.076 total time=   0.3s\n",
      "[CV 2/2] END .......C=2, gamma=0.03, kernel=rbf;, score=0.067 total time=   0.3s\n",
      "[CV 1/2] END ......C=2, gamma=0.03, kernel=poly;, score=0.064 total time=   0.2s\n",
      "[CV 2/2] END ......C=2, gamma=0.03, kernel=poly;, score=0.060 total time=   0.2s\n",
      "[CV 1/2] END ....C=2, gamma=0.01, kernel=linear;, score=0.080 total time=   0.3s\n",
      "[CV 2/2] END ....C=2, gamma=0.01, kernel=linear;, score=0.074 total time=   0.3s\n",
      "[CV 1/2] END .......C=2, gamma=0.01, kernel=rbf;, score=0.089 total time=   0.3s\n",
      "[CV 2/2] END .......C=2, gamma=0.01, kernel=rbf;, score=0.078 total time=   0.3s\n",
      "[CV 1/2] END ......C=2, gamma=0.01, kernel=poly;, score=0.068 total time=   0.2s\n",
      "[CV 2/2] END ......C=2, gamma=0.01, kernel=poly;, score=0.072 total time=   0.2s\n",
      "[CV 1/2] END ...C=2, gamma=0.007, kernel=linear;, score=0.080 total time=   0.3s\n",
      "[CV 2/2] END ...C=2, gamma=0.007, kernel=linear;, score=0.074 total time=   0.3s\n",
      "[CV 1/2] END ......C=2, gamma=0.007, kernel=rbf;, score=0.089 total time=   0.3s\n",
      "[CV 2/2] END ......C=2, gamma=0.007, kernel=rbf;, score=0.082 total time=   0.3s\n",
      "[CV 1/2] END .....C=2, gamma=0.007, kernel=poly;, score=0.068 total time=   0.2s\n",
      "[CV 2/2] END .....C=2, gamma=0.007, kernel=poly;, score=0.077 total time=   0.2s\n",
      "best score:  0.08636363636363636\n",
      "best_params:  {'C': 1, 'gamma': 0.01, 'kernel': 'rbf'}\n"
     ]
    }
   ],
   "source": [
    "from sklearn.model_selection import GridSearchCV\n",
    "\n",
    "param_grid = {\n",
    "    'C':      [0.8, 1, 2], \n",
    "    'gamma':  [0.03, 0.01, 0.007],\n",
    "    'kernel': ['linear', 'rbf', 'poly']\n",
    "} \n",
    "\n",
    "grid_model = GridSearchCV(\n",
    "    estimator=svm.SVC(),\n",
    "    param_grid=param_grid,\n",
    "    refit=True,\n",
    "    verbose=3,\n",
    "    cv=2,\n",
    ")\n",
    "\n",
    "grid_model.fit(valid_x_hard, valid_y_at_hard)\n",
    "\n",
    "print(\"best score: \", grid_model.best_score_)\n",
    "print(\"best_params: \", grid_model.best_params_)"
   ]
  },
  {
   "cell_type": "code",
   "execution_count": 31,
   "id": "34fb857c-e981-41b8-8247-cd38cba330eb",
   "metadata": {
    "tags": []
   },
   "outputs": [],
   "source": [
    "def train_svm_best(data_x, data_y):\n",
    "    clf = svm.SVC(C=1, gamma=0.01, kernel=\"rbf\")\n",
    "    clf.fit(data_x, data_y)\n",
    "    return clf"
   ]
  },
  {
   "cell_type": "code",
   "execution_count": 32,
   "id": "6265d14f-0499-41ef-ae6b-562377104e2e",
   "metadata": {
    "tags": []
   },
   "outputs": [
    {
     "name": "stdout",
     "output_type": "stream",
     "text": [
      "0.1574074074074074\n",
      "   prediction  label  check      prediction_name           label_name\n",
      "0          14     13  False  lord_of_the_dance_3  lord_of_the_dance_2\n",
      "1          39     13  False         warrior_II_4  lord_of_the_dance_2\n",
      "3          32     13  False        warrior_III_1  lord_of_the_dance_2\n",
      "5          34     13  False        warrior_III_3  lord_of_the_dance_2\n",
      "6          27     13  False           triangle_4  lord_of_the_dance_2\n"
     ]
    }
   ],
   "source": [
    "save_path = \"/home/ubuntu/data/yg_ar/classic_models_hard_correctSIFT/svm_best_at.pkl\"\n",
    "(\n",
    "    trained_svm_at, \n",
    "    predictions_svm_at, \n",
    "    accuracy_svm_at, \n",
    "    df_svm_at,\n",
    "    df_incorrect_svm_at, \n",
    "    df_correct_svm_at,\n",
    "    label_map_svm_at\n",
    ")= load_or_train(\n",
    "    train_x_hard, \n",
    "    train_y_at_hard, \n",
    "    test_x_hard, \n",
    "    test_y_at_hard, \n",
    "    train_svm_best, \n",
    "    label_map_at_hard, \n",
    "    save_path\n",
    ")\n",
    "print(accuracy_svm_at)\n",
    "print(df_incorrect_svm_at.head())"
   ]
  },
  {
   "cell_type": "code",
   "execution_count": 33,
   "id": "1b8a0197-5422-467a-9449-422e8dca096a",
   "metadata": {
    "tags": []
   },
   "outputs": [
    {
     "name": "stdout",
     "output_type": "stream",
     "text": [
      "0.40046296296296297\n",
      "   prediction  label  check prediction_name         label_name\n",
      "0           6      3  False        triangle  lord_of_the_dance\n",
      "1           8      3  False      warrior_II  lord_of_the_dance\n",
      "3           9      3  False     warrior_III  lord_of_the_dance\n",
      "5           9      3  False     warrior_III  lord_of_the_dance\n",
      "6           6      3  False        triangle  lord_of_the_dance\n"
     ]
    }
   ],
   "source": [
    "save_path = \"/home/ubuntu/data/yg_ar/classic_models_hard_correctSIFT/svm_best_a.pkl\"\n",
    "(\n",
    "    trained_svm_a, \n",
    "    predictions_svm_a, \n",
    "    accuracy_svm_a, \n",
    "    df_svm_a, \n",
    "    df_incorrect_svm_a, \n",
    "    df_correct_svm_a,\n",
    "    label_map_svm_a\n",
    ")= load_or_train(\n",
    "    train_x_hard, \n",
    "    train_y_a_hard, \n",
    "    test_x_hard, \n",
    "    test_y_a_hard, \n",
    "    train_svm_best, \n",
    "    label_map_a_hard, \n",
    "    save_path\n",
    ")\n",
    "print(accuracy_svm_a)\n",
    "print(df_incorrect_svm_a.head())"
   ]
  },
  {
   "cell_type": "code",
   "execution_count": null,
   "id": "74a5bf7e-0b0e-4166-8cf0-4312487f97be",
   "metadata": {},
   "outputs": [],
   "source": []
  }
 ],
 "metadata": {
  "kernelspec": {
   "display_name": "Python 3 (ipykernel)",
   "language": "python",
   "name": "python3"
  },
  "language_info": {
   "codemirror_mode": {
    "name": "ipython",
    "version": 3
   },
   "file_extension": ".py",
   "mimetype": "text/x-python",
   "name": "python",
   "nbconvert_exporter": "python",
   "pygments_lexer": "ipython3",
   "version": "3.9.13"
  }
 },
 "nbformat": 4,
 "nbformat_minor": 5
}
