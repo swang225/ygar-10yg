{
 "cells": [
  {
   "cell_type": "code",
   "execution_count": 1,
   "id": "76c5d6e3-bedc-4500-906d-e5f936b1e513",
   "metadata": {},
   "outputs": [],
   "source": [
    "# TODO\n",
    "# 1. weight on same class different type \n",
    "#     (predicting same class but different type should have a smaller error than different class)\n",
    "# 2. CNN\n",
    "# 3. Error analysis, by angle, by style, by randomness, weighted f1, confusion matrix\n",
    "# 4. error plots vs correctly predicted plots\n",
    "# 5. shap analysis \n",
    "# 6. transfer learning by vgg-16, trainable & not trainable\n",
    "# 7. use CV features as first layer\n",
    "# 8. PCA on raw pixels, check live session excercise 12\n",
    "# 9. maybe add KNN to classical models, use PCA & T-SNE hog features, similar to live session excercise 12\n",
    "# 10. visualize CNN filters\n",
    "# 11. identify hard samples in val set to do training analysis"
   ]
  },
  {
   "cell_type": "markdown",
   "id": "6cf57e51-ef36-470a-8b56-c2c351f02342",
   "metadata": {},
   "source": [
    "# Imports"
   ]
  },
  {
   "cell_type": "code",
   "execution_count": 2,
   "id": "67e5d1e9-32f8-4108-99b3-3540ec8db73b",
   "metadata": {
    "tags": []
   },
   "outputs": [
    {
     "name": "stderr",
     "output_type": "stream",
     "text": [
      "2023-04-11 19:29:50.770862: I tensorflow/core/util/port.cc:110] oneDNN custom operations are on. You may see slightly different numerical results due to floating-point round-off errors from different computation orders. To turn them off, set the environment variable `TF_ENABLE_ONEDNN_OPTS=0`.\n",
      "2023-04-11 19:29:50.772868: I tensorflow/tsl/cuda/cudart_stub.cc:28] Could not find cuda drivers on your machine, GPU will not be used.\n",
      "2023-04-11 19:29:50.812926: I tensorflow/tsl/cuda/cudart_stub.cc:28] Could not find cuda drivers on your machine, GPU will not be used.\n",
      "2023-04-11 19:29:50.813645: I tensorflow/core/platform/cpu_feature_guard.cc:182] This TensorFlow binary is optimized to use available CPU instructions in performance-critical operations.\n",
      "To enable the following instructions: AVX2 AVX512F AVX512_VNNI FMA, in other operations, rebuild TensorFlow with the appropriate compiler flags.\n",
      "2023-04-11 19:29:52.244154: W tensorflow/compiler/tf2tensorrt/utils/py_utils.cc:38] TF-TRT Warning: Could not find TensorRT\n"
     ]
    }
   ],
   "source": [
    "import tensorflow as tf\n",
    "from tensorflow.keras.models import Sequential\n",
    "from tensorflow.keras.layers import Conv2D, Dense, Reshape, MaxPooling2D, Flatten, Dropout,BatchNormalization\n",
    "from tensorflow.keras.utils import to_categorical\n",
    "from tensorflow.keras.optimizers import Adam\n",
    "from tensorflow.keras.callbacks import EarlyStopping\n",
    "from tensorflow.keras.constraints import UnitNorm"
   ]
  },
  {
   "cell_type": "code",
   "execution_count": 3,
   "id": "78298696-f7ff-4661-b973-fc0eebcf1ebd",
   "metadata": {
    "tags": []
   },
   "outputs": [],
   "source": [
    "import pandas as pd\n",
    "pd.set_option('display.float_format', lambda x: '%.3f' % x)\n",
    "import numpy as np\n",
    "\n",
    "from nebula.data.yg_ar.setup_data_image_hard import read_data\n",
    "from nebula.common import to_scale_one, write_pickle, read_pickle\n",
    "from sklearn import svm\n",
    "from sklearn.linear_model import LogisticRegression\n",
    "from sklearn.ensemble import GradientBoostingClassifier\n",
    "import os\n",
    "import os.path as osp\n",
    "import numpy as np\n",
    "from sklearn.metrics import classification_report"
   ]
  },
  {
   "cell_type": "markdown",
   "id": "5817510d-9348-46fb-b50d-b3f7dcb8e01f",
   "metadata": {},
   "source": [
    "# Read data and apply label map"
   ]
  },
  {
   "cell_type": "code",
   "execution_count": 4,
   "id": "dae786af-2f1b-48b1-9cfe-e470c66021e6",
   "metadata": {
    "tags": []
   },
   "outputs": [],
   "source": [
    "def create_label_map(labels):\n",
    "    label_set = set()\n",
    "    for lt in labels:\n",
    "        label_set.add(lt)\n",
    "    label_set = list(label_set)\n",
    "    label_set.sort()\n",
    "    label_map = {}\n",
    "    count = 0\n",
    "    for l in label_set:\n",
    "        label_map[l] = count\n",
    "        count += 1\n",
    "    return label_map"
   ]
  },
  {
   "cell_type": "code",
   "execution_count": 5,
   "id": "b7ca643c-7212-4d33-852a-6486e62e072d",
   "metadata": {
    "tags": []
   },
   "outputs": [],
   "source": [
    "df_path = \"/home/ubuntu/data/yg_ar/image_hard_df.pkl\"\n",
    "random_seed = 1\n",
    "df, train_df, test_df, valid_df = read_data(df_path, random_seed)"
   ]
  },
  {
   "cell_type": "code",
   "execution_count": 6,
   "id": "8bf857a2-d5a4-4419-8319-17bc265b3a87",
   "metadata": {},
   "outputs": [],
   "source": [
    "label_a_map = create_label_map(df[\"label_a\"])"
   ]
  },
  {
   "cell_type": "code",
   "execution_count": 13,
   "id": "1bafdcd2-5f0f-43d5-98bf-572c77ab51b1",
   "metadata": {
    "tags": []
   },
   "outputs": [
    {
     "data": {
      "text/plain": [
       "{'camel': 0,\n",
       " 'chair': 1,\n",
       " 'childs': 2,\n",
       " 'lord_of_the_dance': 3,\n",
       " 'lotus': 4,\n",
       " 'thunderbolt': 5,\n",
       " 'triangle': 6,\n",
       " 'upward_dog': 7,\n",
       " 'warrior_II': 8,\n",
       " 'warrior_III': 9}"
      ]
     },
     "execution_count": 13,
     "metadata": {},
     "output_type": "execute_result"
    }
   ],
   "source": [
    "label_a_map"
   ]
  },
  {
   "cell_type": "code",
   "execution_count": 14,
   "id": "9df58450-517a-4026-a42e-8326ab12ec1d",
   "metadata": {
    "tags": []
   },
   "outputs": [],
   "source": [
    "X_train = np.expand_dims(np.array([x for x in train_df.image]),axis=3)\n",
    "y_train = train_df.label_a.map(label_a_map).to_list()\n",
    "\n",
    "X_val = np.expand_dims(np.array([x for x in valid_df.image]),axis=3)\n",
    "y_val = valid_df.label_a.map(label_a_map).to_list()\n",
    "\n",
    "X_test = np.expand_dims(np.array([x for x in test_df.image]),axis=3)\n",
    "y_test = test_df.label_a.map(label_a_map).to_list()"
   ]
  },
  {
   "cell_type": "markdown",
   "id": "68ab3618-e4f1-42b1-b468-38e6b9cf0329",
   "metadata": {},
   "source": [
    "# Scale data"
   ]
  },
  {
   "cell_type": "code",
   "execution_count": 15,
   "id": "d7dccc98-14b6-470d-9a88-f4dcec918eca",
   "metadata": {
    "tags": []
   },
   "outputs": [],
   "source": [
    "scaled_X_train = X_train/255.0 \n",
    "scaled_X_val = X_val/255.0\n",
    "scaled_X_test = X_test/255.0"
   ]
  },
  {
   "cell_type": "markdown",
   "id": "b1281c3e-7525-4cee-b19e-c700c319df5b",
   "metadata": {},
   "source": [
    "# Define CNN"
   ]
  },
  {
   "cell_type": "code",
   "execution_count": 21,
   "id": "c3771efd-87d9-41b3-b79f-a61e0f6db772",
   "metadata": {},
   "outputs": [],
   "source": [
    "model = Sequential()\n",
    "\n",
    "model.add(Conv2D(32, kernel_size=3,padding='same',\\\n",
    "         activation='relu', kernel_initializer='he_normal',\\\n",
    "         # kernel_constraint=UnitNorm(), \\\n",
    "         input_shape = scaled_X_train[0].shape))\n",
    "model.add(Conv2D(32, kernel_size=3,padding='same',\\\n",
    "         activation='relu', kernel_initializer='he_normal',\\\n",
    "         # kernel_constraint=UnitNorm()\\\n",
    "                ))\n",
    "model.add(MaxPooling2D(pool_size = 2))\n",
    "model.add(BatchNormalization())\n",
    "\n",
    "model.add(Conv2D(64, kernel_size=3,padding='same',\\\n",
    "         activation='relu', kernel_initializer='he_normal',\\\n",
    "         # kernel_constraint=UnitNorm()\\\n",
    "                ))\n",
    "model.add(Conv2D(64, kernel_size=3,padding='same',\\\n",
    "         activation='relu', kernel_initializer='he_normal',\\\n",
    "         # kernel_constraint=UnitNorm()\\\n",
    "                ))\n",
    "model.add(MaxPooling2D(pool_size = 2))\n",
    "model.add(BatchNormalization())\n",
    "\n",
    "model.add(Conv2D(128, kernel_size=3,padding='same',\\\n",
    "         activation='relu', kernel_initializer='he_normal',\\\n",
    "         # kernel_constraint=UnitNorm()\\\n",
    "        ))\n",
    "model.add(Conv2D(128, kernel_size=3,padding='same',\\\n",
    "         activation='relu', kernel_initializer='he_normal',\\\n",
    "         # kernel_constraint=UnitNorm()\\\n",
    "                ))\n",
    "model.add(MaxPooling2D(pool_size = 2))\n",
    "model.add(BatchNormalization())\n",
    "\n",
    "model.add(Conv2D(256, kernel_size=3,padding='same',\\\n",
    "         activation='relu', kernel_initializer='he_normal',\\\n",
    "         # kernel_constraint=UnitNorm()\\\n",
    "        ))\n",
    "model.add(Conv2D(256, kernel_size=3,padding='same',\\\n",
    "         activation='relu', kernel_initializer='he_normal',\\\n",
    "         # kernel_constraint=UnitNorm()\\\n",
    "                ))\n",
    "model.add(MaxPooling2D(pool_size = 2))\n",
    "model.add(BatchNormalization())\n",
    "\n",
    "model.add(Conv2D(512, kernel_size=3,padding='same',\\\n",
    "         activation='relu', kernel_initializer='he_normal',\\\n",
    "         # kernel_constraint=UnitNorm()\\\n",
    "        ))\n",
    "model.add(Conv2D(512, kernel_size=3,padding='same',\\\n",
    "         activation='relu', kernel_initializer='he_normal',\\\n",
    "         # kernel_constraint=UnitNorm()\\\n",
    "        ))\n",
    "model.add(MaxPooling2D(pool_size = 2))\n",
    "model.add(BatchNormalization())\n",
    "\n",
    "model.add(Flatten())\n",
    "model.add(Dense(1024,activation='relu'))\n",
    "model.add(Dropout(0.25))\n",
    "model.add(Dense(512,activation='relu'))\n",
    "model.add(Dropout(0.25))\n",
    "# model.add(Dense(256,activation='relu'))\n",
    "# model.add(Dropout(0.25))\n",
    "model.add(Dense(10,activation='softmax'))\n",
    "model.compile(Adam(learning_rate=0.0001),loss='categorical_crossentropy',metrics=['accuracy'])"
   ]
  },
  {
   "cell_type": "code",
   "execution_count": 22,
   "id": "de1d004c-ab3c-4b80-953a-e87f742402e6",
   "metadata": {
    "tags": []
   },
   "outputs": [],
   "source": [
    "# model = Sequential()\n",
    "# model.add(Conv2D(32, kernel_size=3,padding='same', input_shape = scaled_X_train[0].shape))\n",
    "# model.add(MaxPooling2D(pool_size = 3))\n",
    "# model.add(Conv2D(64, kernel_size=3,padding='same'))\n",
    "# model.add(MaxPooling2D(pool_size = 3))\n",
    "# model.add(Conv2D(128, kernel_size=3,padding='same'))\n",
    "# model.add(MaxPooling2D(pool_size = 3))\n",
    "# model.add(Flatten())\n",
    "# model.add(Dense(1024,activation='relu'))\n",
    "# model.add(Dropout(0.25))\n",
    "# model.add(Dense(40,activation='softmax'))\n",
    "# model.compile(Adam(learning_rate=0.0001,clipnorm=1.0),loss='categorical_crossentropy',metrics=['accuracy'])"
   ]
  },
  {
   "cell_type": "code",
   "execution_count": 23,
   "id": "bc03b0cb-ec92-49ac-a163-96b6e16924c0",
   "metadata": {
    "tags": []
   },
   "outputs": [
    {
     "name": "stdout",
     "output_type": "stream",
     "text": [
      "Model: \"sequential_2\"\n",
      "_________________________________________________________________\n",
      " Layer (type)                Output Shape              Param #   \n",
      "=================================================================\n",
      " conv2d_20 (Conv2D)          (None, 156, 156, 32)      320       \n",
      "                                                                 \n",
      " conv2d_21 (Conv2D)          (None, 156, 156, 32)      9248      \n",
      "                                                                 \n",
      " max_pooling2d_10 (MaxPoolin  (None, 78, 78, 32)       0         \n",
      " g2D)                                                            \n",
      "                                                                 \n",
      " batch_normalization_10 (Bat  (None, 78, 78, 32)       128       \n",
      " chNormalization)                                                \n",
      "                                                                 \n",
      " conv2d_22 (Conv2D)          (None, 78, 78, 64)        18496     \n",
      "                                                                 \n",
      " conv2d_23 (Conv2D)          (None, 78, 78, 64)        36928     \n",
      "                                                                 \n",
      " max_pooling2d_11 (MaxPoolin  (None, 39, 39, 64)       0         \n",
      " g2D)                                                            \n",
      "                                                                 \n",
      " batch_normalization_11 (Bat  (None, 39, 39, 64)       256       \n",
      " chNormalization)                                                \n",
      "                                                                 \n",
      " conv2d_24 (Conv2D)          (None, 39, 39, 128)       73856     \n",
      "                                                                 \n",
      " conv2d_25 (Conv2D)          (None, 39, 39, 128)       147584    \n",
      "                                                                 \n",
      " max_pooling2d_12 (MaxPoolin  (None, 19, 19, 128)      0         \n",
      " g2D)                                                            \n",
      "                                                                 \n",
      " batch_normalization_12 (Bat  (None, 19, 19, 128)      512       \n",
      " chNormalization)                                                \n",
      "                                                                 \n",
      " conv2d_26 (Conv2D)          (None, 19, 19, 256)       295168    \n",
      "                                                                 \n",
      " conv2d_27 (Conv2D)          (None, 19, 19, 256)       590080    \n",
      "                                                                 \n",
      " max_pooling2d_13 (MaxPoolin  (None, 9, 9, 256)        0         \n",
      " g2D)                                                            \n",
      "                                                                 \n",
      " batch_normalization_13 (Bat  (None, 9, 9, 256)        1024      \n",
      " chNormalization)                                                \n",
      "                                                                 \n",
      " conv2d_28 (Conv2D)          (None, 9, 9, 512)         1180160   \n",
      "                                                                 \n",
      " conv2d_29 (Conv2D)          (None, 9, 9, 512)         2359808   \n",
      "                                                                 \n",
      " max_pooling2d_14 (MaxPoolin  (None, 4, 4, 512)        0         \n",
      " g2D)                                                            \n",
      "                                                                 \n",
      " batch_normalization_14 (Bat  (None, 4, 4, 512)        2048      \n",
      " chNormalization)                                                \n",
      "                                                                 \n",
      " flatten_2 (Flatten)         (None, 8192)              0         \n",
      "                                                                 \n",
      " dense_6 (Dense)             (None, 1024)              8389632   \n",
      "                                                                 \n",
      " dropout_4 (Dropout)         (None, 1024)              0         \n",
      "                                                                 \n",
      " dense_7 (Dense)             (None, 512)               524800    \n",
      "                                                                 \n",
      " dropout_5 (Dropout)         (None, 512)               0         \n",
      "                                                                 \n",
      " dense_8 (Dense)             (None, 10)                5130      \n",
      "                                                                 \n",
      "=================================================================\n",
      "Total params: 13,635,178\n",
      "Trainable params: 13,633,194\n",
      "Non-trainable params: 1,984\n",
      "_________________________________________________________________\n"
     ]
    }
   ],
   "source": [
    "model.summary()"
   ]
  },
  {
   "cell_type": "markdown",
   "id": "68c3491b-7c56-42ef-9ab5-3a4a1f8cc8a8",
   "metadata": {},
   "source": [
    "# Train model"
   ]
  },
  {
   "cell_type": "code",
   "execution_count": 24,
   "id": "7ab0f470-6d3d-4853-81d7-70c4f93d4279",
   "metadata": {},
   "outputs": [],
   "source": [
    "es = EarlyStopping(monitor='val_accuracy',min_delta=0.001, patience=5, restore_best_weights=True)"
   ]
  },
  {
   "cell_type": "code",
   "execution_count": 25,
   "id": "602dcc81-3bf3-430d-b8c8-6c70cbaede5b",
   "metadata": {
    "tags": []
   },
   "outputs": [
    {
     "name": "stdout",
     "output_type": "stream",
     "text": [
      "Epoch 1/100\n",
      "4020/4020 [==============================] - 574s 142ms/step - loss: 1.9107 - accuracy: 0.3260 - val_loss: 1.3765 - val_accuracy: 0.5341\n",
      "Epoch 2/100\n",
      "4020/4020 [==============================] - 573s 143ms/step - loss: 0.5885 - accuracy: 0.7937 - val_loss: 0.2826 - val_accuracy: 0.9057\n",
      "Epoch 3/100\n",
      "4020/4020 [==============================] - 532s 132ms/step - loss: 0.2760 - accuracy: 0.9050 - val_loss: 0.1458 - val_accuracy: 0.9483\n",
      "Epoch 4/100\n",
      "4020/4020 [==============================] - 573s 143ms/step - loss: 0.1930 - accuracy: 0.9362 - val_loss: 0.2332 - val_accuracy: 0.9233\n",
      "Epoch 5/100\n",
      "4020/4020 [==============================] - 574s 143ms/step - loss: 0.1529 - accuracy: 0.9519 - val_loss: 0.0946 - val_accuracy: 0.9665\n",
      "Epoch 6/100\n",
      "4020/4020 [==============================] - 576s 143ms/step - loss: 0.1266 - accuracy: 0.9586 - val_loss: 0.1859 - val_accuracy: 0.9386\n",
      "Epoch 7/100\n",
      "4020/4020 [==============================] - 598s 149ms/step - loss: 0.1044 - accuracy: 0.9650 - val_loss: 0.1983 - val_accuracy: 0.9392\n",
      "Epoch 8/100\n",
      "4020/4020 [==============================] - 612s 152ms/step - loss: 0.0965 - accuracy: 0.9677 - val_loss: 1.4684 - val_accuracy: 0.6511\n",
      "Epoch 9/100\n",
      "4020/4020 [==============================] - 549s 136ms/step - loss: 0.0815 - accuracy: 0.9740 - val_loss: 0.1153 - val_accuracy: 0.9585\n",
      "Epoch 10/100\n",
      "4020/4020 [==============================] - 531s 132ms/step - loss: 0.0787 - accuracy: 0.9741 - val_loss: 0.1046 - val_accuracy: 0.9659\n"
     ]
    },
    {
     "data": {
      "text/plain": [
       "<keras.callbacks.History at 0x7fa044787ac0>"
      ]
     },
     "execution_count": 25,
     "metadata": {},
     "output_type": "execute_result"
    }
   ],
   "source": [
    "model.fit(scaled_X_train, to_categorical(y_train),\\\n",
    "          batch_size=4,\\\n",
    "          epochs=100,\\\n",
    "          validation_data = (scaled_X_val,to_categorical(y_val)),\\\n",
    "          callbacks=[es])"
   ]
  },
  {
   "cell_type": "markdown",
   "id": "33b7007d-24c3-419a-b376-fe2d3c454a7c",
   "metadata": {},
   "source": [
    "# Test model"
   ]
  },
  {
   "cell_type": "code",
   "execution_count": 26,
   "id": "db5579f4-3a00-4445-8a0e-2e2e5e8fda4d",
   "metadata": {
    "tags": []
   },
   "outputs": [
    {
     "name": "stdout",
     "output_type": "stream",
     "text": [
      "68/68 [==============================] - 21s 300ms/step\n",
      "              precision    recall  f1-score   support\n",
      "\n",
      "           0       0.96      0.96      0.96       216\n",
      "           1       1.00      0.95      0.97       216\n",
      "           2       0.97      0.90      0.93       216\n",
      "           3       0.99      0.99      0.99       216\n",
      "           4       0.98      0.89      0.93       216\n",
      "           5       0.98      0.97      0.98       216\n",
      "           6       0.98      0.92      0.95       216\n",
      "           7       0.80      0.99      0.89       216\n",
      "           8       0.94      0.99      0.97       216\n",
      "           9       0.97      0.98      0.98       216\n",
      "\n",
      "    accuracy                           0.95      2160\n",
      "   macro avg       0.96      0.95      0.95      2160\n",
      "weighted avg       0.96      0.95      0.95      2160\n",
      "\n"
     ]
    }
   ],
   "source": [
    "y_pred = np.argmax(model.predict(scaled_X_test),axis=1)\n",
    "print(classification_report(y_test,y_pred))"
   ]
  },
  {
   "cell_type": "code",
   "execution_count": 27,
   "id": "52c91358-2e1d-40b6-9003-06238182352b",
   "metadata": {},
   "outputs": [],
   "source": [
    "model.save('./cnn_hard_action_only.h5')"
   ]
  },
  {
   "cell_type": "code",
   "execution_count": null,
   "id": "180d11c6-7b86-4f76-920c-720daa831174",
   "metadata": {},
   "outputs": [],
   "source": []
  }
 ],
 "metadata": {
  "kernelspec": {
   "display_name": "Python 3 (ipykernel)",
   "language": "python",
   "name": "python3"
  },
  "language_info": {
   "codemirror_mode": {
    "name": "ipython",
    "version": 3
   },
   "file_extension": ".py",
   "mimetype": "text/x-python",
   "name": "python",
   "nbconvert_exporter": "python",
   "pygments_lexer": "ipython3",
   "version": "3.9.13"
  },
  "toc-autonumbering": true
 },
 "nbformat": 4,
 "nbformat_minor": 5
}
