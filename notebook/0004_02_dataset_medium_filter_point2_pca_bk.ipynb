{
 "cells": [
  {
   "cell_type": "code",
   "execution_count": 1,
   "id": "41689ce4-5d32-4ee6-9438-e02fea09d601",
   "metadata": {},
   "outputs": [
    {
     "name": "stderr",
     "output_type": "stream",
     "text": [
      "c:\\users\\aphri\\miniconda3\\lib\\site-packages\\torchvision\\io\\image.py:13: UserWarning: Failed to load image Python extension: [WinError 127] The specified procedure could not be found\n",
      "  warn(f\"Failed to load image Python extension: {e}\")\n"
     ]
    }
   ],
   "source": [
    "import cv2\n",
    "import os\n",
    "import os.path as osp\n",
    "import matplotlib.pyplot as plt\n",
    "import numpy as np\n",
    "import pickle\n",
    "import pandas as pd\n",
    "from skimage.morphology import skeletonize\n",
    "from skimage.util import invert\n",
    "from nebula.common import to_scale_one, write_pickle, read_pickle, to_pca\n",
    "from nebula.data.yg_ar.setup_data_image_hard import split_ar_anim_df"
   ]
  },
  {
   "cell_type": "code",
   "execution_count": 2,
   "id": "94e0b044-b609-4a7f-b7ca-362b02ecc2e2",
   "metadata": {},
   "outputs": [],
   "source": [
    "image_pickle_path = 'C:/Users/aphri/Documents/t0002/pycharm/data/yg_ar/bg_medium_df.pkl'"
   ]
  },
  {
   "cell_type": "code",
   "execution_count": null,
   "id": "b0482a66-e1f3-4927-9717-8063d8b95083",
   "metadata": {},
   "outputs": [],
   "source": [
    "df2 = read_pickle(image_pickle_path)"
   ]
  },
  {
   "cell_type": "code",
   "execution_count": null,
   "id": "703b43ee-fd9f-4518-a980-4eceb2362e0b",
   "metadata": {},
   "outputs": [],
   "source": [
    "def point2_scale(df):\n",
    "    df = df.copy()\n",
    "    df[\"image\"] = df[\"image\"].apply(lambda x: to_scale_one(x, scale=0.2).flatten())\n",
    "    df[\"image\"] = df[\"image\"] / 225\n",
    "    random_seed = 1\n",
    "    train_df, test_df, valid_df = split_ar_anim_df(df, random_seed)\n",
    "    train_df = train_df.sample(frac=1, random_state=random_seed)  # randomize train_df\n",
    "    return df, train_df, test_df, valid_df"
   ]
  },
  {
   "cell_type": "code",
   "execution_count": null,
   "id": "9b07d9c1-5eda-4be6-a2bc-284086afbbc0",
   "metadata": {},
   "outputs": [],
   "source": [
    "df, train_df, test_df, valid_df = point2_scale(df2)"
   ]
  },
  {
   "cell_type": "code",
   "execution_count": null,
   "id": "c0468ea3-c9aa-4c8a-b157-d8c2f30e8221",
   "metadata": {},
   "outputs": [],
   "source": [
    "data_path = 'C:/Users/aphri/Documents/t0002/pycharm/data/yg_ar/bg_medium_ds_point2_scale.pkl'\n",
    "write_pickle(data_path, (df, train_df, test_df, valid_df))"
   ]
  }
 ],
 "metadata": {
  "kernelspec": {
   "display_name": "Python 3 (ipykernel)",
   "language": "python",
   "name": "python3"
  },
  "language_info": {
   "codemirror_mode": {
    "name": "ipython",
    "version": 3
   },
   "file_extension": ".py",
   "mimetype": "text/x-python",
   "name": "python",
   "nbconvert_exporter": "python",
   "pygments_lexer": "ipython3",
   "version": "3.9.1"
  }
 },
 "nbformat": 4,
 "nbformat_minor": 5
}
