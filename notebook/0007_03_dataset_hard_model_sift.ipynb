{
 "cells": [
  {
   "cell_type": "code",
   "execution_count": 1,
   "id": "5b21268a-5c59-4575-a591-afcd0fa11b51",
   "metadata": {
    "tags": []
   },
   "outputs": [],
   "source": [
    "import pandas as pd\n",
    "from nebula.data.yg_ar.setup_data_image_hard import read_data\n",
    "from nebula.common import to_scale_one, write_pickle, read_pickle\n",
    "from sklearn import svm\n",
    "from sklearn.linear_model import LogisticRegression\n",
    "from sklearn.ensemble import GradientBoostingClassifier\n",
    "import os\n",
    "import os.path as osp\n",
    "import numpy as np"
   ]
  },
  {
   "cell_type": "code",
   "execution_count": 2,
   "id": "6d6aa2df-d80c-403c-b0a9-33557679ae7c",
   "metadata": {
    "tags": []
   },
   "outputs": [],
   "source": [
    "def create_label_map(labels):\n",
    "    label_set = set()\n",
    "    for lt in labels:\n",
    "        label_set.add(lt)\n",
    "        \n",
    "    label_set = list(label_set)\n",
    "    label_set.sort()\n",
    "\n",
    "    label_map = {}\n",
    "    count = 0\n",
    "    for l in label_set:\n",
    "        label_map[l] = count\n",
    "        count += 1\n",
    "        \n",
    "    return label_map"
   ]
  },
  {
   "cell_type": "code",
   "execution_count": 3,
   "id": "88a61a52-7118-41fe-a695-77ff63c615a7",
   "metadata": {
    "tags": []
   },
   "outputs": [],
   "source": [
    "df_path = '/home/ubuntu/data/yg_ar/image_hard_ds_sift_amiya.pkl' ## corect SIFt df\n",
    "df, train_df, test_df, valid_df = read_pickle(df_path)"
   ]
  },
  {
   "cell_type": "code",
   "execution_count": 4,
   "id": "f1a6a575-1a28-4b1c-b6bf-93724ea48d68",
   "metadata": {
    "tags": []
   },
   "outputs": [
    {
     "name": "stdout",
     "output_type": "stream",
     "text": [
      "image        [1, 2, 1, 4, 1, 2, 1, 1, 0, 0, 3, 2, 0, 0, 2, ...\n",
      "label_a                                                  camel\n",
      "label_at                                               camel_1\n",
      "file_name    camel_1_hair_0_cloth_0_pants_0_Z1031_XON17_YON...\n",
      "Name: 0, dtype: object\n"
     ]
    }
   ],
   "source": [
    "print(df.loc[0])"
   ]
  },
  {
   "cell_type": "code",
   "execution_count": 5,
   "id": "99b999c1-de4d-4244-9acc-7b791049f8e0",
   "metadata": {
    "tags": []
   },
   "outputs": [],
   "source": [
    "label_map_a = create_label_map(df[\"label_a\"])\n",
    "label_map_at = create_label_map(df[\"label_at\"])"
   ]
  },
  {
   "cell_type": "code",
   "execution_count": 6,
   "id": "bce63941-c9fc-4c11-9fbf-4947ee998238",
   "metadata": {
    "tags": []
   },
   "outputs": [],
   "source": [
    "train_x = train_df[\"image\"].to_list()"
   ]
  },
  {
   "cell_type": "code",
   "execution_count": 7,
   "id": "9fd5319f-95ee-4a1a-a056-c755af2930bd",
   "metadata": {
    "tags": []
   },
   "outputs": [],
   "source": [
    "train_y_a = train_df[\"label_a\"].map(label_map_a).to_list()\n",
    "train_y_at = train_df[\"label_at\"].map(label_map_at).to_list()"
   ]
  },
  {
   "cell_type": "code",
   "execution_count": 8,
   "id": "f21f1acf-b2c2-4f1d-87f8-093f2da21874",
   "metadata": {
    "tags": []
   },
   "outputs": [],
   "source": [
    "test_x = test_df[\"image\"].to_list()"
   ]
  },
  {
   "cell_type": "code",
   "execution_count": 9,
   "id": "fefefe69-772d-4d2a-ae8f-88c4f158a291",
   "metadata": {
    "tags": []
   },
   "outputs": [],
   "source": [
    "test_y_a = test_df[\"label_a\"].map(label_map_a).to_list()\n",
    "test_y_at = test_df[\"label_at\"].map(label_map_at).to_list()"
   ]
  },
  {
   "cell_type": "code",
   "execution_count": 10,
   "id": "6b2c2f26-4604-47b8-9ca8-403a0d7e69d8",
   "metadata": {
    "tags": []
   },
   "outputs": [],
   "source": [
    "def train_svm(data_x, data_y):\n",
    "    clf = svm.SVC(max_iter=50)\n",
    "    clf.fit(data_x, data_y)\n",
    "    return clf\n",
    "\n",
    "\n",
    "def train_svm_poly8(data_x, data_y):\n",
    "    clf = svm.SVC(kernel = \"poly\", degree = 8, C=20)\n",
    "    clf.fit(data_x, data_y)\n",
    "    return clf\n",
    "\n",
    "\n",
    "def train_logistic(data_x, data_y):\n",
    "    clf = LogisticRegression(random_state=0)\n",
    "    clf.fit(data_x, data_y)\n",
    "    return clf\n",
    "\n",
    "\n",
    "def train_gbt(data_x, data_y):\n",
    "    clf = GradientBoostingClassifier(\n",
    "        n_estimators=100,\n",
    "        learning_rate=0.1,\n",
    "        max_depth=3,\n",
    "        random_state=0,\n",
    "        verbose=1,\n",
    "        n_iter_no_change=2,\n",
    "    )\n",
    "    clf.fit(data_x, data_y)\n",
    "    return clf\n",
    "\n",
    "\n",
    "def evaluate(model, test_x, test_y):\n",
    "    res = model.predict(test_x)\n",
    "    correct = res == test_y\n",
    "    accuracy = correct.sum() / len(res)\n",
    "    return res, accuracy\n",
    "\n",
    "\n",
    "def create_dirs_to_file(path):\n",
    "    dirs = \"/\".join(osp.join(path).split(\"/\")[:-1])\n",
    "    if not osp.exists(dirs):\n",
    "        os.makedirs(dirs)\n",
    "\n",
    "\n",
    "def load_or_train(train_x, train_y, test_x, test_y, train_func, label_map, path):\n",
    "    \n",
    "    if osp.exists(path):\n",
    "        return read_pickle(path)\n",
    "    \n",
    "    create_dirs_to_file(path)\n",
    "    \n",
    "    trained_model = train_func(train_x, train_y)\n",
    "    predictions, accuracy = evaluate(trained_model, test_x, test_y)\n",
    "    \n",
    "    df, df_incorrect, df_correct = format_results(predictions, test_y, label_map)\n",
    "    \n",
    "    write_pickle(path, (trained_model, predictions, accuracy, df, df_incorrect, df_correct, label_map)) \n",
    "    \n",
    "    return trained_model, predictions, accuracy, df, df_incorrect, df_correct, label_map\n",
    "\n",
    "\n",
    "def format_results(predictions, labels, label_map):\n",
    "    df = pd.DataFrame(\n",
    "        data={\n",
    "            \"prediction\": predictions,\n",
    "            \"label\": labels\n",
    "        }\n",
    "    )\n",
    "    df[\"check\"] = df[\"prediction\"] == df[\"label\"]\n",
    "\n",
    "    label_map_reverse = {v:k for k, v in label_map.items()}\n",
    "\n",
    "    df[\"prediction_name\"] = df.prediction.map(label_map_reverse)\n",
    "    df[\"label_name\"] = df.label.map(label_map_reverse)\n",
    "\n",
    "    df_incorrect = df[~df.check]\n",
    "    df_correct = df[df.check]\n",
    "\n",
    "    return df, df_incorrect, df_correct"
   ]
  },
  {
   "cell_type": "code",
   "execution_count": 11,
   "id": "07de2998-8e41-4921-a595-d1096dfa7952",
   "metadata": {
    "tags": []
   },
   "outputs": [
    {
     "name": "stderr",
     "output_type": "stream",
     "text": [
      "/home/ubuntu/.local/lib/python3.9/site-packages/sklearn/svm/_base.py:299: ConvergenceWarning: Solver terminated early (max_iter=50).  Consider pre-processing your data with StandardScaler or MinMaxScaler.\n",
      "  warnings.warn(\n"
     ]
    },
    {
     "name": "stdout",
     "output_type": "stream",
     "text": [
      "0.1625\n",
      "   prediction  label  check prediction_name         label_name\n",
      "0           6      3  False        triangle  lord_of_the_dance\n",
      "1           0      3  False           camel  lord_of_the_dance\n",
      "2           0      3  False           camel  lord_of_the_dance\n",
      "3           9      3  False     warrior_III  lord_of_the_dance\n",
      "4           0      3  False           camel  lord_of_the_dance\n"
     ]
    }
   ],
   "source": [
    "save_path = \"/home/ubuntu/data/yg_ar/classic_models_hard_correctSIFT/svm_a.pkl\"\n",
    "(\n",
    "    trained_svm_a, \n",
    "    predictions_svm_a, \n",
    "    accuracy_svm_a, \n",
    "    df_svm_a, \n",
    "    df_incorrect_svm_a, \n",
    "    df_correct_svm_a,\n",
    "    label_map_svm_a\n",
    ")= load_or_train(\n",
    "    train_x, \n",
    "    train_y_a, \n",
    "    test_x, \n",
    "    test_y_a, \n",
    "    train_svm, \n",
    "    label_map_a, \n",
    "    save_path\n",
    ")\n",
    "print(accuracy_svm_a)\n",
    "print(df_incorrect_svm_a.head())\n",
    "\n",
    "\n",
    "\n"
   ]
  },
  {
   "cell_type": "code",
   "execution_count": 20,
   "id": "9f569643-f119-48db-a02a-97b3b518331b",
   "metadata": {
    "tags": []
   },
   "outputs": [
    {
     "name": "stdout",
     "output_type": "stream",
     "text": [
      "best score:  0.7692164179104478\n",
      "best_params:  {'C': 25}\n"
     ]
    }
   ],
   "source": [
    "from sklearn.model_selection import GridSearchCV\n",
    "model_svm = svm.SVC(C = 30, random_state = 0)\n",
    "parameters = [\n",
    "     {'C': [20, 25, 30, 35, 40, 45]}\n",
    " ]\n",
    "grid_model = GridSearchCV(\n",
    "     estimator = model_svm,\n",
    "     param_grid = parameters,\n",
    "     cv = 10\n",
    " )\n",
    "grid_model.fit(train_x, train_y_a)\n",
    "\n",
    "#model_svm.fit(train_x, train_y_a)\n",
    "#print(\"score on training set params: \", model_svm.score(train_x, train_y_a))\n",
    "#print(\"score on testing set params: \", model_svm.score(train_x, train_y_a))\n",
    "print(\"best score: \", grid_model.best_score_)\n",
    "print(\"best_params: \", grid_model.best_params_)"
   ]
  },
  {
   "cell_type": "code",
   "execution_count": 12,
   "id": "66359b0a-dfe3-40b8-b97c-d1af8342f837",
   "metadata": {
    "tags": []
   },
   "outputs": [
    {
     "name": "stderr",
     "output_type": "stream",
     "text": [
      "/home/ubuntu/.local/lib/python3.9/site-packages/sklearn/svm/_base.py:299: ConvergenceWarning: Solver terminated early (max_iter=50).  Consider pre-processing your data with StandardScaler or MinMaxScaler.\n",
      "  warnings.warn(\n"
     ]
    },
    {
     "name": "stdout",
     "output_type": "stream",
     "text": [
      "0.08703703703703704\n",
      "   prediction  label  check      prediction_name           label_name\n",
      "0          35     13  False        warrior_III_4  lord_of_the_dance_2\n",
      "1           3     13  False              camel_4  lord_of_the_dance_2\n",
      "2          12     13  False  lord_of_the_dance_1  lord_of_the_dance_2\n",
      "3          32     13  False        warrior_III_1  lord_of_the_dance_2\n",
      "4          12     13  False  lord_of_the_dance_1  lord_of_the_dance_2\n"
     ]
    }
   ],
   "source": [
    "save_path = \"/home/ubuntu/data/yg_ar/classic_models_hard_correctSIFT/svm_at.pkl\"\n",
    "(\n",
    "    trained_svm_at, \n",
    "    predictions_svm_at, \n",
    "    accuracy_svm_at, \n",
    "    df_svm_at,\n",
    "    df_incorrect_svm_at, \n",
    "    df_correct_svm_at,\n",
    "    label_map_svm_at\n",
    ")= load_or_train(\n",
    "    train_x, \n",
    "    train_y_at, \n",
    "    test_x, \n",
    "    test_y_at, \n",
    "    train_svm, \n",
    "    label_map_at, \n",
    "    save_path\n",
    ")\n",
    "print(accuracy_svm_at)\n",
    "print(df_incorrect_svm_at.head())"
   ]
  },
  {
   "cell_type": "code",
   "execution_count": 13,
   "id": "98a75f18-62af-48c3-aed8-c9dc7196d1e1",
   "metadata": {
    "tags": []
   },
   "outputs": [
    {
     "name": "stdout",
     "output_type": "stream",
     "text": [
      "0.33101851851851855\n",
      "   prediction  label  check prediction_name         label_name\n",
      "0           6      3  False        triangle  lord_of_the_dance\n",
      "1           5      3  False     thunderbolt  lord_of_the_dance\n",
      "3           9      3  False     warrior_III  lord_of_the_dance\n",
      "4           6      3  False        triangle  lord_of_the_dance\n",
      "5           9      3  False     warrior_III  lord_of_the_dance\n"
     ]
    },
    {
     "name": "stderr",
     "output_type": "stream",
     "text": [
      "/home/ubuntu/.local/lib/python3.9/site-packages/sklearn/linear_model/_logistic.py:458: ConvergenceWarning: lbfgs failed to converge (status=1):\n",
      "STOP: TOTAL NO. of ITERATIONS REACHED LIMIT.\n",
      "\n",
      "Increase the number of iterations (max_iter) or scale the data as shown in:\n",
      "    https://scikit-learn.org/stable/modules/preprocessing.html\n",
      "Please also refer to the documentation for alternative solver options:\n",
      "    https://scikit-learn.org/stable/modules/linear_model.html#logistic-regression\n",
      "  n_iter_i = _check_optimize_result(\n"
     ]
    }
   ],
   "source": [
    "save_path = \"/home/ubuntu/data/yg_ar/classic_models_hard_correctSIFT/logistic_a.pkl\"\n",
    "(\n",
    "    trained_logistic_a, \n",
    "    predictions_logistic_a, \n",
    "    accuracy_logistic_a, \n",
    "    df_logistic_a,\n",
    "    df_incorrect_logistic_a, \n",
    "    df_correct_logistic_a,\n",
    "    label_map_logistic_a\n",
    ")= load_or_train(\n",
    "    train_x, \n",
    "    train_y_a, \n",
    "    test_x, \n",
    "    test_y_a, \n",
    "    train_logistic, \n",
    "    label_map_a, \n",
    "    save_path\n",
    ")\n",
    "print(accuracy_logistic_a)\n",
    "print(df_incorrect_logistic_a.head())"
   ]
  },
  {
   "cell_type": "code",
   "execution_count": 14,
   "id": "7c02bb52-29e4-4650-9336-4a9a406395df",
   "metadata": {
    "tags": []
   },
   "outputs": [
    {
     "name": "stdout",
     "output_type": "stream",
     "text": [
      "0.13240740740740742\n",
      "   prediction  label  check      prediction_name           label_name\n",
      "0          25     13  False           triangle_2  lord_of_the_dance_2\n",
      "1          20     13  False        thunderbolt_1  lord_of_the_dance_2\n",
      "3          32     13  False        warrior_III_1  lord_of_the_dance_2\n",
      "4          12     13  False  lord_of_the_dance_1  lord_of_the_dance_2\n",
      "5          35     13  False        warrior_III_4  lord_of_the_dance_2\n"
     ]
    },
    {
     "name": "stderr",
     "output_type": "stream",
     "text": [
      "/home/ubuntu/.local/lib/python3.9/site-packages/sklearn/linear_model/_logistic.py:458: ConvergenceWarning: lbfgs failed to converge (status=1):\n",
      "STOP: TOTAL NO. of ITERATIONS REACHED LIMIT.\n",
      "\n",
      "Increase the number of iterations (max_iter) or scale the data as shown in:\n",
      "    https://scikit-learn.org/stable/modules/preprocessing.html\n",
      "Please also refer to the documentation for alternative solver options:\n",
      "    https://scikit-learn.org/stable/modules/linear_model.html#logistic-regression\n",
      "  n_iter_i = _check_optimize_result(\n"
     ]
    }
   ],
   "source": [
    "save_path = \"/home/ubuntu/data/yg_ar/classic_models_hard_correctSIFT/logistic_at.pkl\"\n",
    "(\n",
    "    trained_logistic_at, \n",
    "    predictions_logistic_at, \n",
    "    accuracy_logistic_at, \n",
    "    df_logistic_at,\n",
    "    df_incorrect_logistic_at, \n",
    "    df_correct_logistic_at,\n",
    "    label_map_logistic_at\n",
    ")= load_or_train(\n",
    "    train_x, \n",
    "    train_y_at, \n",
    "    test_x, \n",
    "    test_y_at, \n",
    "    train_logistic, \n",
    "    label_map_at, \n",
    "    save_path\n",
    ")\n",
    "print(accuracy_logistic_at)\n",
    "print(df_incorrect_logistic_at.head())"
   ]
  },
  {
   "cell_type": "code",
   "execution_count": 15,
   "id": "9a42d41d-2ee1-4d85-90eb-1acc3756f7b3",
   "metadata": {
    "tags": []
   },
   "outputs": [
    {
     "name": "stdout",
     "output_type": "stream",
     "text": [
      "      Iter       Train Loss   Remaining Time \n",
      "         1           2.2685           57.54s\n",
      "         2           2.2412           56.52s\n",
      "         3           2.2175           57.36s\n",
      "         4           2.1972           57.71s\n",
      "         5           2.1782           57.45s\n",
      "         6           2.1613           57.13s\n",
      "         7           2.1449           56.74s\n",
      "         8           2.1303           56.57s\n",
      "         9           2.1161           56.37s\n",
      "        10           2.1031           55.59s\n",
      "        20           1.9956           49.36s\n",
      "        30           1.9195           43.24s\n",
      "        40           1.8584           37.04s\n",
      "        50           1.8093           30.92s\n",
      "        60           1.7666           24.77s\n",
      "        70           1.7301           18.59s\n",
      "        80           1.6968           12.42s\n",
      "        90           1.6676            6.21s\n",
      "       100           1.6416            0.00s\n",
      "0.32314814814814813\n",
      "   prediction  label  check prediction_name         label_name\n",
      "0           9      3  False     warrior_III  lord_of_the_dance\n",
      "1           5      3  False     thunderbolt  lord_of_the_dance\n",
      "3           9      3  False     warrior_III  lord_of_the_dance\n",
      "4           6      3  False        triangle  lord_of_the_dance\n",
      "5           9      3  False     warrior_III  lord_of_the_dance\n"
     ]
    }
   ],
   "source": [
    "save_path = \"/home/ubuntu/data/yg_ar/classic_models_hard_correctSIFT/gbt01_a.pkl\"\n",
    "(\n",
    "    trained_gbt_a, \n",
    "    predictions_gbt_a, \n",
    "    accuracy_gbt_a, \n",
    "    df_gbt_a, \n",
    "    df_incorrect_gbt_a, \n",
    "    df_correct_gbt_a,\n",
    "    label_map_gbt_a\n",
    ")= load_or_train(\n",
    "    train_x, \n",
    "    train_y_a, \n",
    "    test_x, \n",
    "    test_y_a, \n",
    "    train_gbt, \n",
    "    label_map_a, \n",
    "    save_path\n",
    ")\n",
    "print(accuracy_gbt_a)\n",
    "print(df_incorrect_gbt_a.head())"
   ]
  },
  {
   "cell_type": "code",
   "execution_count": 16,
   "id": "20f38dd9-b491-48bb-adff-bd7c0b59b7db",
   "metadata": {
    "tags": []
   },
   "outputs": [
    {
     "name": "stdout",
     "output_type": "stream",
     "text": [
      "      Iter       Train Loss   Remaining Time \n",
      "         1           3.6171            4.34m\n",
      "         2           3.5618            4.30m\n",
      "         3           3.5142            4.23m\n",
      "         4           3.4719            4.16m\n",
      "         5           3.4380            4.12m\n",
      "         6           3.4022            4.09m\n",
      "         7           3.3711            4.06m\n",
      "         8           3.3411            4.00m\n",
      "         9           3.3134            3.95m\n",
      "        10           3.2865            3.91m\n",
      "        20           3.0674            3.46m\n",
      "        30           2.8960            3.03m\n",
      "        40           2.7538            2.60m\n",
      "        50           2.6363            2.17m\n",
      "        60           2.5291            1.74m\n",
      "        70           2.4347            1.29m\n",
      "        80           2.3514           51.56s\n",
      "        90           2.2733           25.83s\n",
      "0.1162037037037037\n",
      "   prediction  label  check      prediction_name           label_name\n",
      "0          14     13  False  lord_of_the_dance_3  lord_of_the_dance_2\n",
      "1          20     13  False        thunderbolt_1  lord_of_the_dance_2\n",
      "3          32     13  False        warrior_III_1  lord_of_the_dance_2\n",
      "4          21     13  False        thunderbolt_2  lord_of_the_dance_2\n",
      "5          34     13  False        warrior_III_3  lord_of_the_dance_2\n"
     ]
    }
   ],
   "source": [
    "save_path = \"/home/ubuntu/data/yg_ar/classic_models_hard_correctSIFT/gbt01_at.pkl\"\n",
    "(\n",
    "    trained_gbt_at, \n",
    "    predictions_gbt_at, \n",
    "    accuracy_gbt_at, \n",
    "    df_gbt_at, \n",
    "    df_incorrect_gbt_at, \n",
    "    df_correct_gbt_at,\n",
    "    label_map_gbt_at\n",
    ")= load_or_train(\n",
    "    train_x, \n",
    "    train_y_at, \n",
    "    test_x, \n",
    "    test_y_at, \n",
    "    train_gbt, \n",
    "    label_map_at, \n",
    "    save_path\n",
    ")\n",
    "print(accuracy_gbt_at)\n",
    "print(df_incorrect_gbt_at.head())"
   ]
  },
  {
   "cell_type": "code",
   "execution_count": 15,
   "id": "a85ed307-80fc-4e1e-a96f-5209982e8d03",
   "metadata": {},
   "outputs": [
    {
     "data": {
      "text/html": [
       "<div>\n",
       "<style scoped>\n",
       "    .dataframe tbody tr th:only-of-type {\n",
       "        vertical-align: middle;\n",
       "    }\n",
       "\n",
       "    .dataframe tbody tr th {\n",
       "        vertical-align: top;\n",
       "    }\n",
       "\n",
       "    .dataframe thead th {\n",
       "        text-align: right;\n",
       "    }\n",
       "</style>\n",
       "<table border=\"1\" class=\"dataframe\">\n",
       "  <thead>\n",
       "    <tr style=\"text-align: right;\">\n",
       "      <th></th>\n",
       "      <th>image</th>\n",
       "      <th>label_a</th>\n",
       "      <th>label_at</th>\n",
       "      <th>file_name</th>\n",
       "    </tr>\n",
       "  </thead>\n",
       "  <tbody>\n",
       "    <tr>\n",
       "      <th>504</th>\n",
       "      <td>[-1132.5117214975426, -803.9562075164253, -8.1...</td>\n",
       "      <td>camel</td>\n",
       "      <td>camel_2</td>\n",
       "      <td>camel_2_hair_0_cloth_0_pants_2_Z1062_XOP13_YOP...</td>\n",
       "    </tr>\n",
       "    <tr>\n",
       "      <th>830</th>\n",
       "      <td>[391.3672035585932, -389.4422474374182, 1857.5...</td>\n",
       "      <td>camel</td>\n",
       "      <td>camel_2</td>\n",
       "      <td>camel_2_hair_2_cloth_1_pants_1_Z853_XOP3_YON8_...</td>\n",
       "    </tr>\n",
       "    <tr>\n",
       "      <th>885</th>\n",
       "      <td>[-1588.1975948477632, 493.1846922039985, 1061....</td>\n",
       "      <td>camel</td>\n",
       "      <td>camel_2</td>\n",
       "      <td>camel_2_hair_2_cloth_2_pants_1_Z875_XOP13_YON1...</td>\n",
       "    </tr>\n",
       "    <tr>\n",
       "      <th>824</th>\n",
       "      <td>[563.4378149562966, -741.9392068701135, 1256.8...</td>\n",
       "      <td>camel</td>\n",
       "      <td>camel_2</td>\n",
       "      <td>camel_2_hair_2_cloth_1_pants_1_Z1063_XOP0_YON2...</td>\n",
       "    </tr>\n",
       "    <tr>\n",
       "      <th>665</th>\n",
       "      <td>[50.84486329080433, -206.42929664656796, 1644....</td>\n",
       "      <td>camel</td>\n",
       "      <td>camel_2</td>\n",
       "      <td>camel_2_hair_1_cloth_1_pants_2_Z873_XOP3_YON7_...</td>\n",
       "    </tr>\n",
       "  </tbody>\n",
       "</table>\n",
       "</div>"
      ],
      "text/plain": [
       "                                                 image label_a label_at  \\\n",
       "504  [-1132.5117214975426, -803.9562075164253, -8.1...   camel  camel_2   \n",
       "830  [391.3672035585932, -389.4422474374182, 1857.5...   camel  camel_2   \n",
       "885  [-1588.1975948477632, 493.1846922039985, 1061....   camel  camel_2   \n",
       "824  [563.4378149562966, -741.9392068701135, 1256.8...   camel  camel_2   \n",
       "665  [50.84486329080433, -206.42929664656796, 1644....   camel  camel_2   \n",
       "\n",
       "                                             file_name  \n",
       "504  camel_2_hair_0_cloth_0_pants_2_Z1062_XOP13_YOP...  \n",
       "830  camel_2_hair_2_cloth_1_pants_1_Z853_XOP3_YON8_...  \n",
       "885  camel_2_hair_2_cloth_2_pants_1_Z875_XOP13_YON1...  \n",
       "824  camel_2_hair_2_cloth_1_pants_1_Z1063_XOP0_YON2...  \n",
       "665  camel_2_hair_1_cloth_1_pants_2_Z873_XOP3_YON7_...  "
      ]
     },
     "execution_count": 15,
     "metadata": {},
     "output_type": "execute_result"
    }
   ],
   "source": [
    "test_df.head()"
   ]
  },
  {
   "cell_type": "code",
   "execution_count": 16,
   "id": "5db99707-ba15-4a4c-953a-13d2b78fbb70",
   "metadata": {},
   "outputs": [
    {
     "data": {
      "text/html": [
       "<div>\n",
       "<style scoped>\n",
       "    .dataframe tbody tr th:only-of-type {\n",
       "        vertical-align: middle;\n",
       "    }\n",
       "\n",
       "    .dataframe tbody tr th {\n",
       "        vertical-align: top;\n",
       "    }\n",
       "\n",
       "    .dataframe thead th {\n",
       "        text-align: right;\n",
       "    }\n",
       "</style>\n",
       "<table border=\"1\" class=\"dataframe\">\n",
       "  <thead>\n",
       "    <tr style=\"text-align: right;\">\n",
       "      <th></th>\n",
       "      <th>prediction</th>\n",
       "      <th>label</th>\n",
       "      <th>check</th>\n",
       "      <th>prediction_name</th>\n",
       "      <th>label_name</th>\n",
       "    </tr>\n",
       "  </thead>\n",
       "  <tbody>\n",
       "    <tr>\n",
       "      <th>0</th>\n",
       "      <td>1</td>\n",
       "      <td>1</td>\n",
       "      <td>True</td>\n",
       "      <td>camel_2</td>\n",
       "      <td>camel_2</td>\n",
       "    </tr>\n",
       "    <tr>\n",
       "      <th>1</th>\n",
       "      <td>11</td>\n",
       "      <td>1</td>\n",
       "      <td>False</td>\n",
       "      <td>childs_4</td>\n",
       "      <td>camel_2</td>\n",
       "    </tr>\n",
       "    <tr>\n",
       "      <th>2</th>\n",
       "      <td>1</td>\n",
       "      <td>1</td>\n",
       "      <td>True</td>\n",
       "      <td>camel_2</td>\n",
       "      <td>camel_2</td>\n",
       "    </tr>\n",
       "    <tr>\n",
       "      <th>3</th>\n",
       "      <td>3</td>\n",
       "      <td>1</td>\n",
       "      <td>False</td>\n",
       "      <td>camel_4</td>\n",
       "      <td>camel_2</td>\n",
       "    </tr>\n",
       "    <tr>\n",
       "      <th>4</th>\n",
       "      <td>38</td>\n",
       "      <td>1</td>\n",
       "      <td>False</td>\n",
       "      <td>warrior_II_3</td>\n",
       "      <td>camel_2</td>\n",
       "    </tr>\n",
       "  </tbody>\n",
       "</table>\n",
       "</div>"
      ],
      "text/plain": [
       "   prediction  label  check prediction_name label_name\n",
       "0           1      1   True         camel_2    camel_2\n",
       "1          11      1  False        childs_4    camel_2\n",
       "2           1      1   True         camel_2    camel_2\n",
       "3           3      1  False         camel_4    camel_2\n",
       "4          38      1  False    warrior_II_3    camel_2"
      ]
     },
     "execution_count": 16,
     "metadata": {},
     "output_type": "execute_result"
    }
   ],
   "source": [
    "df_gbt_at.head()"
   ]
  },
  {
   "cell_type": "code",
   "execution_count": null,
   "id": "c261b44d-9d62-4077-8c5b-0809f271a6f5",
   "metadata": {},
   "outputs": [],
   "source": []
  }
 ],
 "metadata": {
  "kernelspec": {
   "display_name": "Python 3 (ipykernel)",
   "language": "python",
   "name": "python3"
  },
  "language_info": {
   "codemirror_mode": {
    "name": "ipython",
    "version": 3
   },
   "file_extension": ".py",
   "mimetype": "text/x-python",
   "name": "python",
   "nbconvert_exporter": "python",
   "pygments_lexer": "ipython3",
   "version": "3.9.1"
  }
 },
 "nbformat": 4,
 "nbformat_minor": 5
}
