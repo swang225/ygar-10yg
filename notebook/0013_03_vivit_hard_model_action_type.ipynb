{
 "cells": [
  {
   "cell_type": "code",
   "execution_count": 1,
   "id": "877c05a0-1873-4c2a-8632-f6e34eeb24cc",
   "metadata": {
    "tags": []
   },
   "outputs": [
    {
     "name": "stderr",
     "output_type": "stream",
     "text": [
      "2023-04-20 15:32:43.281364: I tensorflow/core/util/port.cc:110] oneDNN custom operations are on. You may see slightly different numerical results due to floating-point round-off errors from different computation orders. To turn them off, set the environment variable `TF_ENABLE_ONEDNN_OPTS=0`.\n",
      "2023-04-20 15:32:43.283093: I tensorflow/tsl/cuda/cudart_stub.cc:28] Could not find cuda drivers on your machine, GPU will not be used.\n",
      "2023-04-20 15:32:43.317679: I tensorflow/tsl/cuda/cudart_stub.cc:28] Could not find cuda drivers on your machine, GPU will not be used.\n",
      "2023-04-20 15:32:43.318270: I tensorflow/core/platform/cpu_feature_guard.cc:182] This TensorFlow binary is optimized to use available CPU instructions in performance-critical operations.\n",
      "To enable the following instructions: AVX2 AVX512F AVX512_VNNI FMA, in other operations, rebuild TensorFlow with the appropriate compiler flags.\n",
      "2023-04-20 15:32:43.896952: W tensorflow/compiler/tf2tensorrt/utils/py_utils.cc:38] TF-TRT Warning: Could not find TensorRT\n"
     ]
    }
   ],
   "source": [
    "import os\n",
    "import io\n",
    "import imageio\n",
    "import ipywidgets\n",
    "import numpy as np\n",
    "import tensorflow as tf\n",
    "from tensorflow import keras\n",
    "from tensorflow.keras import layers\n",
    "import matplotlib.pyplot as plt\n",
    "\n",
    "from nebula.common import to_scale_one, write_pickle, read_pickle, display, display_color\n",
    "from nebula.data.yg_ar.setup_data_image_hard import split_ar_anim_df"
   ]
  },
  {
   "cell_type": "code",
   "execution_count": 2,
   "id": "3549cc6a-bb4c-4e9f-a0f0-7edffe661ae7",
   "metadata": {
    "tags": []
   },
   "outputs": [],
   "source": [
    "v5f_pickle_path = '/home/ubuntu/data/yg_ar/v5f_hard_df.pkl'\n",
    "save_model_path = './transformer_hard_at.h5'"
   ]
  },
  {
   "cell_type": "code",
   "execution_count": 3,
   "id": "a41e7f14-4c3e-4103-a314-97fec258e161",
   "metadata": {
    "tags": []
   },
   "outputs": [],
   "source": [
    "# Setting seed for reproducibility\n",
    "SEED = 42\n",
    "os.environ[\"TF_CUDNN_DETERMINISTIC\"] = \"1\"\n",
    "keras.utils.set_random_seed(SEED)"
   ]
  },
  {
   "cell_type": "code",
   "execution_count": 4,
   "id": "903f8d5a-ad3e-4004-98cf-7978fd1e586b",
   "metadata": {
    "tags": []
   },
   "outputs": [],
   "source": [
    "# DATA\n",
    "BATCH_SIZE = 8\n",
    "AUTO = tf.data.AUTOTUNE\n",
    "INPUT_SHAPE = (5, 156, 156, 1)\n",
    "NUM_CLASSES = 40\n",
    "\n",
    "# OPTIMIZER\n",
    "LEARNING_RATE = 1e-4\n",
    "WEIGHT_DECAY = 1e-5\n",
    "\n",
    "# TRAINING\n",
    "EPOCHS = 60\n",
    "\n",
    "# TUBELET EMBEDDING\n",
    "PATCH_SIZE = (2, 16, 16)\n",
    "NUM_PATCHES = (INPUT_SHAPE[0] // PATCH_SIZE[0]) ** 2\n",
    "\n",
    "# ViViT ARCHITECTURE\n",
    "LAYER_NORM_EPS = 1e-6\n",
    "PROJECTION_DIM = 128\n",
    "NUM_HEADS = 8\n",
    "NUM_LAYERS = 8"
   ]
  },
  {
   "cell_type": "code",
   "execution_count": 5,
   "id": "4f1d4192-951c-4716-81f1-d3de0151c42f",
   "metadata": {
    "tags": []
   },
   "outputs": [],
   "source": [
    "def create_label_map(labels):\n",
    "    label_set = set()\n",
    "    for lt in labels:\n",
    "        label_set.add(lt)\n",
    "        \n",
    "    label_set = list(label_set)\n",
    "    label_set.sort()\n",
    "\n",
    "    label_map = {}\n",
    "    count = 0\n",
    "    for l in label_set:\n",
    "        label_map[l] = count\n",
    "        count += 1\n",
    "        \n",
    "    return label_map"
   ]
  },
  {
   "cell_type": "code",
   "execution_count": 6,
   "id": "24b85953-600c-4916-954c-bafe99228969",
   "metadata": {
    "tags": []
   },
   "outputs": [],
   "source": [
    "df = read_pickle(v5f_pickle_path)"
   ]
  },
  {
   "cell_type": "code",
   "execution_count": 7,
   "id": "7f50db3f-41dc-4ce0-8324-f2e0933e00f5",
   "metadata": {
    "tags": []
   },
   "outputs": [],
   "source": [
    "random_seed = 1\n",
    "train_df, test_df, valid_df = split_ar_anim_df(df, random_seed)\n",
    "train_df = train_df.sample(frac=1, random_state=random_seed)  # randomize train_df"
   ]
  },
  {
   "cell_type": "code",
   "execution_count": 8,
   "id": "dbfcb337-dea5-43e0-88fa-8cd72ae0b8f4",
   "metadata": {
    "tags": []
   },
   "outputs": [],
   "source": [
    "label_map_a = create_label_map(df[\"label_a\"])\n",
    "label_map_at = create_label_map(df[\"label_at\"])"
   ]
  },
  {
   "cell_type": "code",
   "execution_count": 9,
   "id": "7576412e-ceca-42d3-bb75-2b2ed483390a",
   "metadata": {
    "tags": []
   },
   "outputs": [],
   "source": [
    "train_videos = np.array(train_df[\"images\"].to_list())"
   ]
  },
  {
   "cell_type": "code",
   "execution_count": 10,
   "id": "14bfd3a4-d195-4e59-b220-33f03430a37b",
   "metadata": {
    "tags": []
   },
   "outputs": [],
   "source": [
    "# train_labels = train_df[\"label_a\"].map(label_map_a).to_list()\n",
    "train_labels = train_df[\"label_at\"].map(label_map_at).to_list()"
   ]
  },
  {
   "cell_type": "code",
   "execution_count": 11,
   "id": "53bd1c4d-f131-420e-a50c-6414735961be",
   "metadata": {
    "tags": []
   },
   "outputs": [],
   "source": [
    "valid_videos = np.array(valid_df[\"images\"].to_list())\n",
    "# valid_labels = valid_df[\"label_a\"].map(label_map_a).to_list()\n",
    "valid_labels = valid_df[\"label_at\"].map(label_map_at).to_list()"
   ]
  },
  {
   "cell_type": "code",
   "execution_count": 12,
   "id": "13407c4b-c452-4dfe-bc95-4d891e0a2d7e",
   "metadata": {
    "tags": []
   },
   "outputs": [],
   "source": [
    "test_videos = np.array(test_df[\"images\"].to_list())\n",
    "# test_labels = test_df[\"label_a\"].map(label_map_a).to_list()\n",
    "test_labels = test_df[\"label_at\"].map(label_map_at).to_list()"
   ]
  },
  {
   "cell_type": "code",
   "execution_count": 13,
   "id": "c2d97b1d-a548-46c2-a353-86e9f09c7459",
   "metadata": {
    "tags": []
   },
   "outputs": [
    {
     "data": {
      "text/plain": [
       "array([ 0,  1,  2,  3,  4,  5,  6,  7,  8,  9, 10, 11, 12, 13, 14, 15, 16,\n",
       "       17, 18, 19, 20, 21, 22, 23, 24, 25, 26, 27, 28, 29, 30, 31, 32, 33,\n",
       "       34, 35, 36, 37, 38, 39])"
      ]
     },
     "execution_count": 13,
     "metadata": {},
     "output_type": "execute_result"
    }
   ],
   "source": [
    "np.unique(train_labels)"
   ]
  },
  {
   "cell_type": "code",
   "execution_count": 14,
   "id": "368334ff-67a6-4d7f-a0b5-fd23af8c51cd",
   "metadata": {
    "tags": []
   },
   "outputs": [
    {
     "data": {
      "text/plain": [
       "(16080, 5, 156, 156)"
      ]
     },
     "execution_count": 14,
     "metadata": {},
     "output_type": "execute_result"
    }
   ],
   "source": [
    "train_videos.shape"
   ]
  },
  {
   "cell_type": "code",
   "execution_count": 15,
   "id": "78bce7ec-a2ca-4fa3-9e94-67c0c1341ecd",
   "metadata": {
    "tags": []
   },
   "outputs": [
    {
     "data": {
      "text/plain": [
       "(156, 156)"
      ]
     },
     "execution_count": 15,
     "metadata": {},
     "output_type": "execute_result"
    }
   ],
   "source": [
    "train_videos[0][0,:,:].shape"
   ]
  },
  {
   "cell_type": "code",
   "execution_count": 16,
   "id": "47598cb5-d78b-463c-aaf5-82cbfab9f674",
   "metadata": {
    "tags": []
   },
   "outputs": [
    {
     "data": {
      "text/plain": [
       "<matplotlib.image.AxesImage at 0x7f95c6ce13a0>"
      ]
     },
     "execution_count": 16,
     "metadata": {},
     "output_type": "execute_result"
    },
    {
     "data": {
      "image/png": "[encoded data removed]",
      "text/plain": [
       "<Figure size 432x288 with 1 Axes>"
      ]
     },
     "metadata": {
      "needs_background": "light"
     },
     "output_type": "display_data"
    }
   ],
   "source": [
    "plt.imshow(train_videos[0][2,:,:], cmap=plt.cm.gray)"
   ]
  },
  {
   "cell_type": "code",
   "execution_count": 17,
   "id": "7b1d0ece-b949-4041-b820-040ee3ff5dd1",
   "metadata": {
    "tags": []
   },
   "outputs": [],
   "source": [
    "@tf.function\n",
    "def preprocess(frames: tf.Tensor, label: tf.Tensor):\n",
    "    \"\"\"Preprocess the frames tensors and parse the labels.\"\"\"\n",
    "    # Preprocess images\n",
    "    frames = tf.image.convert_image_dtype(\n",
    "        frames[\n",
    "            ..., tf.newaxis\n",
    "        ],  # The new axis is to help for further processing with Conv3D layers\n",
    "        tf.float32,\n",
    "    )\n",
    "    # Parse label\n",
    "    label = tf.cast(label, tf.float32)\n",
    "    return frames, label\n",
    "\n",
    "\n",
    "def prepare_dataloader(\n",
    "    videos: np.ndarray,\n",
    "    labels: np.ndarray,\n",
    "    loader_type: str = \"train\",\n",
    "    batch_size: int = BATCH_SIZE,\n",
    "):\n",
    "    \"\"\"Utility function to prepare the dataloader.\"\"\"\n",
    "    dataset = tf.data.Dataset.from_tensor_slices((videos, labels))\n",
    "\n",
    "    if loader_type == \"train\":\n",
    "        dataset = dataset.shuffle(BATCH_SIZE * 2)\n",
    "\n",
    "    dataloader = (\n",
    "        dataset.map(preprocess, num_parallel_calls=tf.data.AUTOTUNE)\n",
    "        .batch(batch_size)\n",
    "        .prefetch(tf.data.AUTOTUNE)\n",
    "    )\n",
    "    return dataloader\n",
    "\n",
    "\n",
    "trainloader = prepare_dataloader(train_videos, train_labels, \"train\")\n",
    "validloader = prepare_dataloader(valid_videos, valid_labels, \"valid\")\n",
    "testloader = prepare_dataloader(test_videos, test_labels, \"test\")"
   ]
  },
  {
   "cell_type": "code",
   "execution_count": 18,
   "id": "a225376e-4d22-41f4-97e0-11669dd1b377",
   "metadata": {
    "tags": []
   },
   "outputs": [],
   "source": [
    "class TubletProjection(layers.Layer):\n",
    "    def __init__(self, embed_dim, patch_size, **kwargs):\n",
    "        super().__init__(**kwargs)\n",
    "        self.projection = layers.Conv3D(\n",
    "            filters=embed_dim,\n",
    "            kernel_size=patch_size,\n",
    "            strides=patch_size,\n",
    "            padding=\"VALID\",\n",
    "        )\n",
    "\n",
    "    def call(self, videos):\n",
    "        projected_patches = self.projection(videos)\n",
    "        return projected_patches\n",
    "\n",
    "class TubeletEmbedding(layers.Layer):\n",
    "    def __init__(self, embed_dim, **kwargs):\n",
    "        super().__init__(**kwargs)\n",
    "        self.flatten = layers.Reshape(target_shape=(-1, embed_dim))\n",
    "\n",
    "    def call(self, projected_patches):\n",
    "        flattened_patches = self.flatten(projected_patches)\n",
    "        return flattened_patches"
   ]
  },
  {
   "cell_type": "code",
   "execution_count": 19,
   "id": "07a70344-e721-4d3b-a171-f18510319237",
   "metadata": {
    "tags": []
   },
   "outputs": [],
   "source": [
    "class PositionalEncoder(layers.Layer):\n",
    "    def __init__(self, embed_dim, **kwargs):\n",
    "        super().__init__(**kwargs)\n",
    "        self.embed_dim = embed_dim\n",
    "\n",
    "    def build(self, input_shape):\n",
    "        _, num_tokens, _ = input_shape\n",
    "        self.position_embedding = layers.Embedding(\n",
    "            input_dim=num_tokens, output_dim=self.embed_dim\n",
    "        )\n",
    "        self.positions = tf.range(start=0, limit=num_tokens, delta=1)\n",
    "\n",
    "    def call(self, encoded_tokens):\n",
    "        # Encode the positions and add it to the encoded tokens\n",
    "        encoded_positions = self.position_embedding(self.positions)\n",
    "        encoded_tokens = encoded_tokens + encoded_positions\n",
    "        return encoded_tokens"
   ]
  },
  {
   "cell_type": "code",
   "execution_count": 20,
   "id": "bb3d5042-1188-4079-bbf3-134c6a1608bf",
   "metadata": {
    "tags": []
   },
   "outputs": [],
   "source": [
    "def create_vivit_classifier(\n",
    "    tubelet_projector,\n",
    "    tubelet_embedder,\n",
    "    positional_encoder,\n",
    "    input_shape=INPUT_SHAPE,\n",
    "    transformer_layers=NUM_LAYERS,\n",
    "    num_heads=NUM_HEADS,\n",
    "    embed_dim=PROJECTION_DIM,\n",
    "    layer_norm_eps=LAYER_NORM_EPS,\n",
    "    num_classes=NUM_CLASSES,\n",
    "):\n",
    "    # Get the input layer\n",
    "    inputs = layers.Input(shape=input_shape)\n",
    "    # Create patches.\n",
    "    projected_patches = tubelet_projector(inputs)\n",
    "    patches = tubelet_embedder(projected_patches)\n",
    "    # Encode patches.\n",
    "    encoded_patches = positional_encoder(patches)\n",
    "\n",
    "    # Create multiple layers of the Transformer block.\n",
    "    for _ in range(transformer_layers):\n",
    "        # Layer normalization and MHSA\n",
    "        x1 = layers.LayerNormalization(epsilon=1e-6)(encoded_patches)\n",
    "        attention_output = layers.MultiHeadAttention(\n",
    "            num_heads=num_heads, key_dim=embed_dim // num_heads, dropout=0.1\n",
    "        )(x1, x1)\n",
    "\n",
    "        # Skip connection\n",
    "        x2 = layers.Add()([attention_output, encoded_patches])\n",
    "\n",
    "        # Layer Normalization and MLP\n",
    "        x3 = layers.LayerNormalization(epsilon=1e-6)(x2)\n",
    "        x3 = keras.Sequential(\n",
    "            [\n",
    "                layers.Dense(units=embed_dim * 4, activation=tf.nn.gelu),\n",
    "                layers.Dense(units=embed_dim, activation=tf.nn.gelu),\n",
    "            ]\n",
    "        )(x3)\n",
    "\n",
    "        # Skip connection\n",
    "        encoded_patches = layers.Add()([x3, x2])\n",
    "\n",
    "    # Layer normalization and Global average pooling.\n",
    "    representation = layers.LayerNormalization(epsilon=layer_norm_eps)(encoded_patches)\n",
    "    representation = layers.GlobalAvgPool1D()(representation)\n",
    "\n",
    "    # Classify outputs.\n",
    "    outputs = layers.Dense(units=num_classes, activation=\"softmax\")(representation)\n",
    "\n",
    "    # Create the Keras model.\n",
    "    model = keras.Model(inputs=inputs, outputs=outputs)\n",
    "    return model"
   ]
  },
  {
   "cell_type": "code",
   "execution_count": 21,
   "id": "cdae6e8d-d516-4aa7-81e8-752e0f1d894d",
   "metadata": {
    "tags": []
   },
   "outputs": [],
   "source": [
    "model = create_vivit_classifier(\n",
    "        tubelet_projector = TubletProjection(\n",
    "            embed_dim=PROJECTION_DIM, patch_size=PATCH_SIZE\n",
    "        ),\n",
    "        tubelet_embedder=TubeletEmbedding(embed_dim=PROJECTION_DIM),\n",
    "        positional_encoder=PositionalEncoder(embed_dim=PROJECTION_DIM),\n",
    "    )"
   ]
  },
  {
   "cell_type": "code",
   "execution_count": 22,
   "id": "c66e0cd8-2ad4-4e2a-a044-6dd76b9696e9",
   "metadata": {
    "tags": []
   },
   "outputs": [
    {
     "name": "stdout",
     "output_type": "stream",
     "text": [
      "Model: \"model\"\n",
      "__________________________________________________________________________________________________\n",
      " Layer (type)                   Output Shape         Param #     Connected to                     \n",
      "==================================================================================================\n",
      " input_1 (InputLayer)           [(None, 5, 156, 156  0           []                               \n",
      "                                , 1)]                                                             \n",
      "                                                                                                  \n",
      " tublet_projection (TubletProje  (None, 2, 9, 9, 128  65664      ['input_1[0][0]']                \n",
      " ction)                         )                                                                 \n",
      "                                                                                                  \n",
      " tubelet_embedding (TubeletEmbe  (None, 162, 128)    0           ['tublet_projection[0][0]']      \n",
      " dding)                                                                                           \n",
      "                                                                                                  \n",
      " positional_encoder (Positional  (None, 162, 128)    20736       ['tubelet_embedding[0][0]']      \n",
      " Encoder)                                                                                         \n",
      "                                                                                                  \n",
      " layer_normalization (LayerNorm  (None, 162, 128)    256         ['positional_encoder[0][0]']     \n",
      " alization)                                                                                       \n",
      "                                                                                                  \n",
      " multi_head_attention (MultiHea  (None, 162, 128)    66048       ['layer_normalization[0][0]',    \n",
      " dAttention)                                                      'layer_normalization[0][0]']    \n",
      "                                                                                                  \n",
      " add (Add)                      (None, 162, 128)     0           ['multi_head_attention[0][0]',   \n",
      "                                                                  'positional_encoder[0][0]']     \n",
      "                                                                                                  \n",
      " layer_normalization_1 (LayerNo  (None, 162, 128)    256         ['add[0][0]']                    \n",
      " rmalization)                                                                                     \n",
      "                                                                                                  \n",
      " sequential (Sequential)        (None, 162, 128)     131712      ['layer_normalization_1[0][0]']  \n",
      "                                                                                                  \n",
      " add_1 (Add)                    (None, 162, 128)     0           ['sequential[0][0]',             \n",
      "                                                                  'add[0][0]']                    \n",
      "                                                                                                  \n",
      " layer_normalization_2 (LayerNo  (None, 162, 128)    256         ['add_1[0][0]']                  \n",
      " rmalization)                                                                                     \n",
      "                                                                                                  \n",
      " multi_head_attention_1 (MultiH  (None, 162, 128)    66048       ['layer_normalization_2[0][0]',  \n",
      " eadAttention)                                                    'layer_normalization_2[0][0]']  \n",
      "                                                                                                  \n",
      " add_2 (Add)                    (None, 162, 128)     0           ['multi_head_attention_1[0][0]', \n",
      "                                                                  'add_1[0][0]']                  \n",
      "                                                                                                  \n",
      " layer_normalization_3 (LayerNo  (None, 162, 128)    256         ['add_2[0][0]']                  \n",
      " rmalization)                                                                                     \n",
      "                                                                                                  \n",
      " sequential_1 (Sequential)      (None, 162, 128)     131712      ['layer_normalization_3[0][0]']  \n",
      "                                                                                                  \n",
      " add_3 (Add)                    (None, 162, 128)     0           ['sequential_1[0][0]',           \n",
      "                                                                  'add_2[0][0]']                  \n",
      "                                                                                                  \n",
      " layer_normalization_4 (LayerNo  (None, 162, 128)    256         ['add_3[0][0]']                  \n",
      " rmalization)                                                                                     \n",
      "                                                                                                  \n",
      " multi_head_attention_2 (MultiH  (None, 162, 128)    66048       ['layer_normalization_4[0][0]',  \n",
      " eadAttention)                                                    'layer_normalization_4[0][0]']  \n",
      "                                                                                                  \n",
      " add_4 (Add)                    (None, 162, 128)     0           ['multi_head_attention_2[0][0]', \n",
      "                                                                  'add_3[0][0]']                  \n",
      "                                                                                                  \n",
      " layer_normalization_5 (LayerNo  (None, 162, 128)    256         ['add_4[0][0]']                  \n",
      " rmalization)                                                                                     \n",
      "                                                                                                  \n",
      " sequential_2 (Sequential)      (None, 162, 128)     131712      ['layer_normalization_5[0][0]']  \n",
      "                                                                                                  \n",
      " add_5 (Add)                    (None, 162, 128)     0           ['sequential_2[0][0]',           \n",
      "                                                                  'add_4[0][0]']                  \n",
      "                                                                                                  \n",
      " layer_normalization_6 (LayerNo  (None, 162, 128)    256         ['add_5[0][0]']                  \n",
      " rmalization)                                                                                     \n",
      "                                                                                                  \n",
      " multi_head_attention_3 (MultiH  (None, 162, 128)    66048       ['layer_normalization_6[0][0]',  \n",
      " eadAttention)                                                    'layer_normalization_6[0][0]']  \n",
      "                                                                                                  \n",
      " add_6 (Add)                    (None, 162, 128)     0           ['multi_head_attention_3[0][0]', \n",
      "                                                                  'add_5[0][0]']                  \n",
      "                                                                                                  \n",
      " layer_normalization_7 (LayerNo  (None, 162, 128)    256         ['add_6[0][0]']                  \n",
      " rmalization)                                                                                     \n",
      "                                                                                                  \n",
      " sequential_3 (Sequential)      (None, 162, 128)     131712      ['layer_normalization_7[0][0]']  \n",
      "                                                                                                  \n",
      " add_7 (Add)                    (None, 162, 128)     0           ['sequential_3[0][0]',           \n",
      "                                                                  'add_6[0][0]']                  \n",
      "                                                                                                  \n",
      " layer_normalization_8 (LayerNo  (None, 162, 128)    256         ['add_7[0][0]']                  \n",
      " rmalization)                                                                                     \n",
      "                                                                                                  \n",
      " multi_head_attention_4 (MultiH  (None, 162, 128)    66048       ['layer_normalization_8[0][0]',  \n",
      " eadAttention)                                                    'layer_normalization_8[0][0]']  \n",
      "                                                                                                  \n",
      " add_8 (Add)                    (None, 162, 128)     0           ['multi_head_attention_4[0][0]', \n",
      "                                                                  'add_7[0][0]']                  \n",
      "                                                                                                  \n",
      " layer_normalization_9 (LayerNo  (None, 162, 128)    256         ['add_8[0][0]']                  \n",
      " rmalization)                                                                                     \n",
      "                                                                                                  \n",
      " sequential_4 (Sequential)      (None, 162, 128)     131712      ['layer_normalization_9[0][0]']  \n",
      "                                                                                                  \n",
      " add_9 (Add)                    (None, 162, 128)     0           ['sequential_4[0][0]',           \n",
      "                                                                  'add_8[0][0]']                  \n",
      "                                                                                                  \n",
      " layer_normalization_10 (LayerN  (None, 162, 128)    256         ['add_9[0][0]']                  \n",
      " ormalization)                                                                                    \n",
      "                                                                                                  \n",
      " multi_head_attention_5 (MultiH  (None, 162, 128)    66048       ['layer_normalization_10[0][0]', \n",
      " eadAttention)                                                    'layer_normalization_10[0][0]'] \n",
      "                                                                                                  \n",
      " add_10 (Add)                   (None, 162, 128)     0           ['multi_head_attention_5[0][0]', \n",
      "                                                                  'add_9[0][0]']                  \n",
      "                                                                                                  \n",
      " layer_normalization_11 (LayerN  (None, 162, 128)    256         ['add_10[0][0]']                 \n",
      " ormalization)                                                                                    \n",
      "                                                                                                  \n",
      " sequential_5 (Sequential)      (None, 162, 128)     131712      ['layer_normalization_11[0][0]'] \n",
      "                                                                                                  \n",
      " add_11 (Add)                   (None, 162, 128)     0           ['sequential_5[0][0]',           \n",
      "                                                                  'add_10[0][0]']                 \n",
      "                                                                                                  \n",
      " layer_normalization_12 (LayerN  (None, 162, 128)    256         ['add_11[0][0]']                 \n",
      " ormalization)                                                                                    \n",
      "                                                                                                  \n",
      " multi_head_attention_6 (MultiH  (None, 162, 128)    66048       ['layer_normalization_12[0][0]', \n",
      " eadAttention)                                                    'layer_normalization_12[0][0]'] \n",
      "                                                                                                  \n",
      " add_12 (Add)                   (None, 162, 128)     0           ['multi_head_attention_6[0][0]', \n",
      "                                                                  'add_11[0][0]']                 \n",
      "                                                                                                  \n",
      " layer_normalization_13 (LayerN  (None, 162, 128)    256         ['add_12[0][0]']                 \n",
      " ormalization)                                                                                    \n",
      "                                                                                                  \n",
      " sequential_6 (Sequential)      (None, 162, 128)     131712      ['layer_normalization_13[0][0]'] \n",
      "                                                                                                  \n",
      " add_13 (Add)                   (None, 162, 128)     0           ['sequential_6[0][0]',           \n",
      "                                                                  'add_12[0][0]']                 \n",
      "                                                                                                  \n",
      " layer_normalization_14 (LayerN  (None, 162, 128)    256         ['add_13[0][0]']                 \n",
      " ormalization)                                                                                    \n",
      "                                                                                                  \n",
      " multi_head_attention_7 (MultiH  (None, 162, 128)    66048       ['layer_normalization_14[0][0]', \n",
      " eadAttention)                                                    'layer_normalization_14[0][0]'] \n",
      "                                                                                                  \n",
      " add_14 (Add)                   (None, 162, 128)     0           ['multi_head_attention_7[0][0]', \n",
      "                                                                  'add_13[0][0]']                 \n",
      "                                                                                                  \n",
      " layer_normalization_15 (LayerN  (None, 162, 128)    256         ['add_14[0][0]']                 \n",
      " ormalization)                                                                                    \n",
      "                                                                                                  \n",
      " sequential_7 (Sequential)      (None, 162, 128)     131712      ['layer_normalization_15[0][0]'] \n",
      "                                                                                                  \n",
      " add_15 (Add)                   (None, 162, 128)     0           ['sequential_7[0][0]',           \n",
      "                                                                  'add_14[0][0]']                 \n",
      "                                                                                                  \n",
      " layer_normalization_16 (LayerN  (None, 162, 128)    256         ['add_15[0][0]']                 \n",
      " ormalization)                                                                                    \n",
      "                                                                                                  \n",
      " global_average_pooling1d (Glob  (None, 128)         0           ['layer_normalization_16[0][0]'] \n",
      " alAveragePooling1D)                                                                              \n",
      "                                                                                                  \n",
      " dense_16 (Dense)               (None, 40)           5160        ['global_average_pooling1d[0][0]'\n",
      "                                                                 ]                                \n",
      "                                                                                                  \n",
      "==================================================================================================\n",
      "Total params: 1,677,992\n",
      "Trainable params: 1,677,992\n",
      "Non-trainable params: 0\n",
      "__________________________________________________________________________________________________\n"
     ]
    }
   ],
   "source": [
    "model.summary()"
   ]
  },
  {
   "cell_type": "code",
   "execution_count": 23,
   "id": "f0c10d4d-90eb-4f7c-b929-56b9a84aa01d",
   "metadata": {
    "tags": []
   },
   "outputs": [
    {
     "name": "stdout",
     "output_type": "stream",
     "text": [
      "Epoch 1/60\n"
     ]
    },
    {
     "name": "stderr",
     "output_type": "stream",
     "text": [
      "2023-04-20 15:32:53.678125: I tensorflow/core/common_runtime/executor.cc:1197] [/device:CPU:0] (DEBUG INFO) Executor start aborting (this does not indicate an error and you can ignore this message): INVALID_ARGUMENT: You must feed a value for placeholder tensor 'Placeholder/_1' with dtype int32 and shape [16080]\n",
      "\t [[{{node Placeholder/_1}}]]\n",
      "2023-04-20 15:32:53.678382: I tensorflow/core/common_runtime/executor.cc:1197] [/device:CPU:0] (DEBUG INFO) Executor start aborting (this does not indicate an error and you can ignore this message): INVALID_ARGUMENT: You must feed a value for placeholder tensor 'Placeholder/_1' with dtype int32 and shape [16080]\n",
      "\t [[{{node Placeholder/_1}}]]\n"
     ]
    },
    {
     "name": "stdout",
     "output_type": "stream",
     "text": [
      "2010/2010 [==============================] - ETA: 0s - loss: 3.7380 - accuracy: 0.0266 - top-5-accuracy: 0.1248"
     ]
    },
    {
     "name": "stderr",
     "output_type": "stream",
     "text": [
      "2023-04-20 15:39:06.340139: I tensorflow/core/common_runtime/executor.cc:1197] [/device:CPU:0] (DEBUG INFO) Executor start aborting (this does not indicate an error and you can ignore this message): INVALID_ARGUMENT: You must feed a value for placeholder tensor 'Placeholder/_1' with dtype int32 and shape [1760]\n",
      "\t [[{{node Placeholder/_1}}]]\n",
      "2023-04-20 15:39:06.340484: I tensorflow/core/common_runtime/executor.cc:1197] [/device:CPU:0] (DEBUG INFO) Executor start aborting (this does not indicate an error and you can ignore this message): INVALID_ARGUMENT: You must feed a value for placeholder tensor 'Placeholder/_1' with dtype int32 and shape [1760]\n",
      "\t [[{{node Placeholder/_1}}]]\n"
     ]
    },
    {
     "name": "stdout",
     "output_type": "stream",
     "text": [
      "2010/2010 [==============================] - 387s 188ms/step - loss: 3.7380 - accuracy: 0.0266 - top-5-accuracy: 0.1248 - val_loss: 3.7079 - val_accuracy: 0.0250 - val_top-5-accuracy: 0.1239\n",
      "Epoch 2/60\n",
      "2010/2010 [==============================] - 377s 187ms/step - loss: 3.7132 - accuracy: 0.0270 - top-5-accuracy: 0.1223 - val_loss: 3.7036 - val_accuracy: 0.0273 - val_top-5-accuracy: 0.1244\n",
      "Epoch 3/60\n",
      "2010/2010 [==============================] - 377s 187ms/step - loss: 3.7089 - accuracy: 0.0264 - top-5-accuracy: 0.1213 - val_loss: 3.7002 - val_accuracy: 0.0261 - val_top-5-accuracy: 0.1250\n",
      "Epoch 4/60\n",
      "2010/2010 [==============================] - 376s 187ms/step - loss: 3.7058 - accuracy: 0.0266 - top-5-accuracy: 0.1219 - val_loss: 3.6987 - val_accuracy: 0.0250 - val_top-5-accuracy: 0.1278\n",
      "Epoch 5/60\n",
      "2010/2010 [==============================] - 377s 187ms/step - loss: 3.7039 - accuracy: 0.0255 - top-5-accuracy: 0.1223 - val_loss: 3.6974 - val_accuracy: 0.0261 - val_top-5-accuracy: 0.1233\n",
      "Epoch 6/60\n",
      "2010/2010 [==============================] - 376s 187ms/step - loss: 3.7023 - accuracy: 0.0249 - top-5-accuracy: 0.1236 - val_loss: 3.6965 - val_accuracy: 0.0261 - val_top-5-accuracy: 0.1239\n",
      "Epoch 7/60\n",
      "2010/2010 [==============================] - 376s 187ms/step - loss: 3.7012 - accuracy: 0.0249 - top-5-accuracy: 0.1233 - val_loss: 3.6961 - val_accuracy: 0.0256 - val_top-5-accuracy: 0.1244\n",
      "Epoch 8/60\n",
      "2010/2010 [==============================] - 376s 187ms/step - loss: 3.6999 - accuracy: 0.0255 - top-5-accuracy: 0.1231 - val_loss: 3.6947 - val_accuracy: 0.0273 - val_top-5-accuracy: 0.1239\n",
      "Epoch 9/60\n",
      "2010/2010 [==============================] - 376s 187ms/step - loss: 3.6886 - accuracy: 0.0282 - top-5-accuracy: 0.1366 - val_loss: 3.6358 - val_accuracy: 0.0347 - val_top-5-accuracy: 0.1716\n",
      "Epoch 10/60\n",
      "2010/2010 [==============================] - 376s 187ms/step - loss: 3.5217 - accuracy: 0.0470 - top-5-accuracy: 0.2226 - val_loss: 3.4369 - val_accuracy: 0.0659 - val_top-5-accuracy: 0.2540\n",
      "Epoch 11/60\n",
      "2010/2010 [==============================] - 376s 187ms/step - loss: 3.3757 - accuracy: 0.0642 - top-5-accuracy: 0.2826 - val_loss: 3.3743 - val_accuracy: 0.0716 - val_top-5-accuracy: 0.2960\n",
      "Epoch 12/60\n",
      "2010/2010 [==============================] - 376s 187ms/step - loss: 3.1767 - accuracy: 0.0884 - top-5-accuracy: 0.3598 - val_loss: 2.9188 - val_accuracy: 0.1205 - val_top-5-accuracy: 0.4676\n",
      "Epoch 13/60\n",
      "2010/2010 [==============================] - 376s 187ms/step - loss: 2.8315 - accuracy: 0.1358 - top-5-accuracy: 0.4955 - val_loss: 2.6480 - val_accuracy: 0.1625 - val_top-5-accuracy: 0.5688\n",
      "Epoch 14/60\n",
      "2010/2010 [==============================] - 376s 187ms/step - loss: 2.5645 - accuracy: 0.1799 - top-5-accuracy: 0.6067 - val_loss: 2.4792 - val_accuracy: 0.1847 - val_top-5-accuracy: 0.6403\n",
      "Epoch 15/60\n",
      "2010/2010 [==============================] - 376s 187ms/step - loss: 2.3606 - accuracy: 0.2120 - top-5-accuracy: 0.6903 - val_loss: 2.2941 - val_accuracy: 0.2216 - val_top-5-accuracy: 0.7063\n",
      "Epoch 16/60\n",
      "2010/2010 [==============================] - 376s 187ms/step - loss: 2.2175 - accuracy: 0.2402 - top-5-accuracy: 0.7320 - val_loss: 2.3004 - val_accuracy: 0.2386 - val_top-5-accuracy: 0.7011\n",
      "Epoch 17/60\n",
      "2010/2010 [==============================] - 377s 187ms/step - loss: 2.1062 - accuracy: 0.2670 - top-5-accuracy: 0.7670 - val_loss: 2.1578 - val_accuracy: 0.2568 - val_top-5-accuracy: 0.7534\n",
      "Epoch 18/60\n",
      "2010/2010 [==============================] - 376s 187ms/step - loss: 2.0232 - accuracy: 0.2807 - top-5-accuracy: 0.7897 - val_loss: 2.0966 - val_accuracy: 0.2659 - val_top-5-accuracy: 0.7727\n",
      "Epoch 19/60\n",
      "2010/2010 [==============================] - 377s 187ms/step - loss: 1.9517 - accuracy: 0.3011 - top-5-accuracy: 0.8085 - val_loss: 2.0251 - val_accuracy: 0.2858 - val_top-5-accuracy: 0.7977\n",
      "Epoch 20/60\n",
      "2010/2010 [==============================] - 376s 187ms/step - loss: 1.8922 - accuracy: 0.3175 - top-5-accuracy: 0.8274 - val_loss: 2.0028 - val_accuracy: 0.2994 - val_top-5-accuracy: 0.7989\n",
      "Epoch 21/60\n",
      "2010/2010 [==============================] - 376s 187ms/step - loss: 1.8292 - accuracy: 0.3400 - top-5-accuracy: 0.8414 - val_loss: 2.0603 - val_accuracy: 0.3028 - val_top-5-accuracy: 0.7818\n",
      "Epoch 22/60\n",
      "2010/2010 [==============================] - 376s 187ms/step - loss: 1.7638 - accuracy: 0.3588 - top-5-accuracy: 0.8530 - val_loss: 2.1221 - val_accuracy: 0.2807 - val_top-5-accuracy: 0.7858\n",
      "Epoch 23/60\n",
      "2010/2010 [==============================] - 376s 187ms/step - loss: 1.7018 - accuracy: 0.3787 - top-5-accuracy: 0.8687 - val_loss: 1.9809 - val_accuracy: 0.3148 - val_top-5-accuracy: 0.8142\n",
      "Epoch 24/60\n",
      "2010/2010 [==============================] - 377s 187ms/step - loss: 1.6414 - accuracy: 0.3983 - top-5-accuracy: 0.8817 - val_loss: 2.0342 - val_accuracy: 0.3068 - val_top-5-accuracy: 0.8045\n",
      "Epoch 25/60\n",
      "2010/2010 [==============================] - 377s 187ms/step - loss: 1.5771 - accuracy: 0.4211 - top-5-accuracy: 0.8934 - val_loss: 2.0418 - val_accuracy: 0.3131 - val_top-5-accuracy: 0.8068\n",
      "Epoch 26/60\n",
      "2010/2010 [==============================] - 377s 187ms/step - loss: 1.5232 - accuracy: 0.4424 - top-5-accuracy: 0.9023 - val_loss: 1.8881 - val_accuracy: 0.3398 - val_top-5-accuracy: 0.8477\n",
      "Epoch 27/60\n",
      "2010/2010 [==============================] - 376s 187ms/step - loss: 1.4479 - accuracy: 0.4679 - top-5-accuracy: 0.9170 - val_loss: 1.8594 - val_accuracy: 0.3511 - val_top-5-accuracy: 0.8455\n",
      "Epoch 28/60\n",
      "2010/2010 [==============================] - 376s 187ms/step - loss: 1.3875 - accuracy: 0.4896 - top-5-accuracy: 0.9268 - val_loss: 1.8485 - val_accuracy: 0.3602 - val_top-5-accuracy: 0.8506\n",
      "Epoch 29/60\n",
      "2010/2010 [==============================] - 376s 187ms/step - loss: 1.3264 - accuracy: 0.5114 - top-5-accuracy: 0.9358 - val_loss: 1.8400 - val_accuracy: 0.3705 - val_top-5-accuracy: 0.8551\n",
      "Epoch 30/60\n",
      "2010/2010 [==============================] - 375s 187ms/step - loss: 1.2534 - accuracy: 0.5358 - top-5-accuracy: 0.9437 - val_loss: 2.0451 - val_accuracy: 0.3455 - val_top-5-accuracy: 0.8267\n",
      "Epoch 31/60\n",
      "2010/2010 [==============================] - 375s 187ms/step - loss: 1.2024 - accuracy: 0.5610 - top-5-accuracy: 0.9530 - val_loss: 1.8372 - val_accuracy: 0.3841 - val_top-5-accuracy: 0.8642\n",
      "Epoch 32/60\n",
      "2010/2010 [==============================] - 376s 187ms/step - loss: 1.1170 - accuracy: 0.5905 - top-5-accuracy: 0.9618 - val_loss: 1.8748 - val_accuracy: 0.3818 - val_top-5-accuracy: 0.8653\n",
      "Epoch 33/60\n",
      "2010/2010 [==============================] - 376s 187ms/step - loss: 1.0739 - accuracy: 0.6091 - top-5-accuracy: 0.9633 - val_loss: 1.8912 - val_accuracy: 0.3830 - val_top-5-accuracy: 0.8693\n",
      "Epoch 34/60\n",
      "2010/2010 [==============================] - 376s 187ms/step - loss: 0.9956 - accuracy: 0.6406 - top-5-accuracy: 0.9694 - val_loss: 2.0089 - val_accuracy: 0.3778 - val_top-5-accuracy: 0.8574\n",
      "Epoch 35/60\n",
      "2010/2010 [==============================] - 375s 187ms/step - loss: 0.9359 - accuracy: 0.6588 - top-5-accuracy: 0.9762 - val_loss: 1.9839 - val_accuracy: 0.3915 - val_top-5-accuracy: 0.8727\n",
      "Epoch 36/60\n",
      "2010/2010 [==============================] - 376s 187ms/step - loss: 0.8626 - accuracy: 0.6894 - top-5-accuracy: 0.9802 - val_loss: 2.0991 - val_accuracy: 0.3835 - val_top-5-accuracy: 0.8506\n",
      "Epoch 37/60\n",
      "2010/2010 [==============================] - 376s 187ms/step - loss: 0.8125 - accuracy: 0.7112 - top-5-accuracy: 0.9830 - val_loss: 2.0809 - val_accuracy: 0.3977 - val_top-5-accuracy: 0.8699\n",
      "Epoch 38/60\n",
      "2010/2010 [==============================] - 376s 187ms/step - loss: 0.7521 - accuracy: 0.7292 - top-5-accuracy: 0.9882 - val_loss: 2.2757 - val_accuracy: 0.3739 - val_top-5-accuracy: 0.8466\n",
      "Epoch 39/60\n",
      "2010/2010 [==============================] - 376s 187ms/step - loss: 0.6920 - accuracy: 0.7539 - top-5-accuracy: 0.9897 - val_loss: 2.2467 - val_accuracy: 0.3835 - val_top-5-accuracy: 0.8534\n",
      "Epoch 40/60\n",
      "2010/2010 [==============================] - 376s 187ms/step - loss: 0.6357 - accuracy: 0.7754 - top-5-accuracy: 0.9919 - val_loss: 2.1975 - val_accuracy: 0.4131 - val_top-5-accuracy: 0.8591\n",
      "Epoch 41/60\n",
      "2010/2010 [==============================] - 376s 187ms/step - loss: 0.5846 - accuracy: 0.7943 - top-5-accuracy: 0.9937 - val_loss: 2.2734 - val_accuracy: 0.4074 - val_top-5-accuracy: 0.8528\n",
      "Epoch 42/60\n",
      "2010/2010 [==============================] - 376s 187ms/step - loss: 0.5478 - accuracy: 0.8065 - top-5-accuracy: 0.9953 - val_loss: 2.5360 - val_accuracy: 0.3773 - val_top-5-accuracy: 0.8267\n",
      "Epoch 43/60\n",
      "2010/2010 [==============================] - 376s 187ms/step - loss: 0.5178 - accuracy: 0.8207 - top-5-accuracy: 0.9956 - val_loss: 2.4661 - val_accuracy: 0.3943 - val_top-5-accuracy: 0.8443\n",
      "Epoch 44/60\n",
      "2010/2010 [==============================] - 377s 187ms/step - loss: 0.4882 - accuracy: 0.8322 - top-5-accuracy: 0.9960 - val_loss: 2.6785 - val_accuracy: 0.3727 - val_top-5-accuracy: 0.8244\n",
      "Epoch 45/60\n",
      "2010/2010 [==============================] - 377s 187ms/step - loss: 0.4369 - accuracy: 0.8499 - top-5-accuracy: 0.9970 - val_loss: 2.5499 - val_accuracy: 0.3778 - val_top-5-accuracy: 0.8483\n",
      "Epoch 46/60\n",
      "2010/2010 [==============================] - 377s 187ms/step - loss: 0.3937 - accuracy: 0.8660 - top-5-accuracy: 0.9974 - val_loss: 2.7721 - val_accuracy: 0.3688 - val_top-5-accuracy: 0.8233\n",
      "Epoch 47/60\n",
      "2010/2010 [==============================] - 376s 187ms/step - loss: 0.3880 - accuracy: 0.8706 - top-5-accuracy: 0.9975 - val_loss: 2.8717 - val_accuracy: 0.3523 - val_top-5-accuracy: 0.8188\n",
      "Epoch 48/60\n",
      "2010/2010 [==============================] - 377s 187ms/step - loss: 0.3605 - accuracy: 0.8767 - top-5-accuracy: 0.9982 - val_loss: 2.8518 - val_accuracy: 0.3710 - val_top-5-accuracy: 0.8324\n",
      "Epoch 49/60\n",
      "2010/2010 [==============================] - 376s 187ms/step - loss: 0.3231 - accuracy: 0.8909 - top-5-accuracy: 0.9981 - val_loss: 2.9024 - val_accuracy: 0.3653 - val_top-5-accuracy: 0.8420\n",
      "Epoch 50/60\n",
      "2010/2010 [==============================] - 378s 188ms/step - loss: 0.3232 - accuracy: 0.8924 - top-5-accuracy: 0.9983 - val_loss: 2.9552 - val_accuracy: 0.3705 - val_top-5-accuracy: 0.8386\n",
      "Epoch 51/60\n",
      "2010/2010 [==============================] - 416s 207ms/step - loss: 0.2978 - accuracy: 0.8994 - top-5-accuracy: 0.9984 - val_loss: 2.8501 - val_accuracy: 0.3812 - val_top-5-accuracy: 0.8409\n",
      "Epoch 52/60\n",
      "2010/2010 [==============================] - 378s 188ms/step - loss: 0.2862 - accuracy: 0.9075 - top-5-accuracy: 0.9981 - val_loss: 3.1520 - val_accuracy: 0.3545 - val_top-5-accuracy: 0.8176\n",
      "Epoch 53/60\n",
      "2010/2010 [==============================] - 378s 188ms/step - loss: 0.2529 - accuracy: 0.9138 - top-5-accuracy: 0.9989 - val_loss: 3.2743 - val_accuracy: 0.3483 - val_top-5-accuracy: 0.8256\n",
      "Epoch 54/60\n",
      "2010/2010 [==============================] - 378s 188ms/step - loss: 0.2687 - accuracy: 0.9085 - top-5-accuracy: 0.9984 - val_loss: 3.0032 - val_accuracy: 0.3824 - val_top-5-accuracy: 0.8386\n",
      "Epoch 55/60\n",
      "2010/2010 [==============================] - 378s 188ms/step - loss: 0.2523 - accuracy: 0.9188 - top-5-accuracy: 0.9980 - val_loss: 3.1803 - val_accuracy: 0.3756 - val_top-5-accuracy: 0.8324\n",
      "Epoch 56/60\n",
      "2010/2010 [==============================] - 378s 188ms/step - loss: 0.2347 - accuracy: 0.9225 - top-5-accuracy: 0.9990 - val_loss: 3.1807 - val_accuracy: 0.3858 - val_top-5-accuracy: 0.8222\n",
      "Epoch 57/60\n",
      "2010/2010 [==============================] - 377s 188ms/step - loss: 0.2189 - accuracy: 0.9265 - top-5-accuracy: 0.9992 - val_loss: 3.2364 - val_accuracy: 0.3716 - val_top-5-accuracy: 0.8233\n",
      "Epoch 58/60\n",
      "2010/2010 [==============================] - 377s 188ms/step - loss: 0.1963 - accuracy: 0.9372 - top-5-accuracy: 0.9993 - val_loss: 3.2008 - val_accuracy: 0.3676 - val_top-5-accuracy: 0.8244\n",
      "Epoch 59/60\n",
      "2010/2010 [==============================] - 377s 187ms/step - loss: 0.1999 - accuracy: 0.9353 - top-5-accuracy: 0.9992 - val_loss: 3.3094 - val_accuracy: 0.3693 - val_top-5-accuracy: 0.8273\n",
      "Epoch 60/60\n",
      "2010/2010 [==============================] - 376s 187ms/step - loss: 0.2081 - accuracy: 0.9320 - top-5-accuracy: 0.9991 - val_loss: 3.3339 - val_accuracy: 0.3716 - val_top-5-accuracy: 0.8290\n",
      "  2/270 [..............................] - ETA: 16s - loss: 2.8146 - accuracy: 0.2500 - top-5-accuracy: 0.9375"
     ]
    },
    {
     "name": "stderr",
     "output_type": "stream",
     "text": [
      "2023-04-20 21:50:10.379196: I tensorflow/core/common_runtime/executor.cc:1197] [/device:CPU:0] (DEBUG INFO) Executor start aborting (this does not indicate an error and you can ignore this message): INVALID_ARGUMENT: You must feed a value for placeholder tensor 'Placeholder/_1' with dtype int32 and shape [2160]\n",
      "\t [[{{node Placeholder/_1}}]]\n",
      "2023-04-20 21:50:10.379420: I tensorflow/core/common_runtime/executor.cc:1197] [/device:CPU:0] (DEBUG INFO) Executor start aborting (this does not indicate an error and you can ignore this message): INVALID_ARGUMENT: You must feed a value for placeholder tensor 'Placeholder/_1' with dtype int32 and shape [2160]\n",
      "\t [[{{node Placeholder/_1}}]]\n"
     ]
    },
    {
     "name": "stdout",
     "output_type": "stream",
     "text": [
      "270/270 [==============================] - 17s 63ms/step - loss: 3.3662 - accuracy: 0.3773 - top-5-accuracy: 0.8194\n",
      "Test accuracy: 37.73%\n",
      "Test top 5 accuracy: 81.94%\n"
     ]
    }
   ],
   "source": [
    "def run_experiment(model):\n",
    "    # Compile the model with the optimizer, loss function\n",
    "    # and the metrics.\n",
    "    optimizer = keras.optimizers.Adam(learning_rate=LEARNING_RATE)\n",
    "    model.compile(\n",
    "        optimizer=optimizer,\n",
    "        loss=\"sparse_categorical_crossentropy\",\n",
    "        metrics=[\n",
    "            keras.metrics.SparseCategoricalAccuracy(name=\"accuracy\"),\n",
    "            keras.metrics.SparseTopKCategoricalAccuracy(5, name=\"top-5-accuracy\"),\n",
    "        ],\n",
    "    )\n",
    "\n",
    "    # Train the model.\n",
    "    _ = model.fit(trainloader, epochs=EPOCHS, validation_data=validloader)\n",
    "\n",
    "    _, accuracy, top_5_accuracy = model.evaluate(testloader)\n",
    "    print(f\"Test accuracy: {round(accuracy * 100, 2)}%\")\n",
    "    print(f\"Test top 5 accuracy: {round(top_5_accuracy * 100, 2)}%\")\n",
    "\n",
    "    return model\n",
    "\n",
    "\n",
    "model = run_experiment(model)"
   ]
  },
  {
   "cell_type": "code",
   "execution_count": 24,
   "id": "9c803624-fc39-48a6-854d-c18d50e18706",
   "metadata": {},
   "outputs": [],
   "source": [
    "model.save(save_model_path)"
   ]
  },
  {
   "cell_type": "code",
   "execution_count": null,
   "id": "7036877f-fc72-4456-adc2-3d625229919b",
   "metadata": {},
   "outputs": [],
   "source": []
  }
 ],
 "metadata": {
  "kernelspec": {
   "display_name": "Python 3 (ipykernel)",
   "language": "python",
   "name": "python3"
  },
  "language_info": {
   "codemirror_mode": {
    "name": "ipython",
    "version": 3
   },
   "file_extension": ".py",
   "mimetype": "text/x-python",
   "name": "python",
   "nbconvert_exporter": "python",
   "pygments_lexer": "ipython3",
   "version": "3.9.1"
  }
 },
 "nbformat": 4,
 "nbformat_minor": 5
}
