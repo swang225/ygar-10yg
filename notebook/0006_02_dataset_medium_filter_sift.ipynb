{
 "cells": [
  {
   "cell_type": "code",
   "execution_count": 1,
   "id": "41689ce4-5d32-4ee6-9438-e02fea09d601",
   "metadata": {},
   "outputs": [],
   "source": [
    "import cv2\n",
    "import os\n",
    "import os.path as osp\n",
    "import matplotlib.pyplot as plt\n",
    "import numpy as np\n",
    "import pickle\n",
    "import pandas as pd\n",
    "from skimage.morphology import skeletonize\n",
    "from skimage.util import invert\n",
    "from nebula.common import to_scale_one, write_pickle, read_pickle, to_pca\n",
    "from nebula.data.yg_ar.setup_data_image_hard import split_ar_anim_df\n",
    "from sklearn.decomposition import PCA"
   ]
  },
  {
   "cell_type": "code",
   "execution_count": 6,
   "id": "94e0b044-b609-4a7f-b7ca-362b02ecc2e2",
   "metadata": {},
   "outputs": [],
   "source": [
    "image_pickle_path = '/home/ubuntu/data/yg_ar/image_medium_df_sift_amiya.pkl'"
   ]
  },
  {
   "cell_type": "code",
   "execution_count": 7,
   "id": "b0482a66-e1f3-4927-9717-8063d8b95083",
   "metadata": {},
   "outputs": [],
   "source": [
    "df = read_pickle(image_pickle_path)"
   ]
  },
  {
   "cell_type": "code",
   "execution_count": 11,
   "id": "c61eeb94-eb8a-448e-8d21-64520ba05cf7",
   "metadata": {},
   "outputs": [],
   "source": [
    "random_seed = 1\n",
    "train_df, test_df, valid_df = split_ar_anim_df(df, random_seed)\n",
    "train_df = train_df.sample(frac=1, random_state=random_seed)  # randomize train_df"
   ]
  },
  {
   "cell_type": "code",
   "execution_count": 12,
   "id": "252bd688-b23d-47b1-8d80-f13635fb0004",
   "metadata": {},
   "outputs": [],
   "source": [
    "data_path = '/home/ubuntu/data/yg_ar/image_medium_ds_sift_amiya.pkl'\n",
    "write_pickle(data_path, (df, train_df, test_df, valid_df))"
   ]
  },
  {
   "cell_type": "code",
   "execution_count": 13,
   "id": "4ffdb348-2341-4f6f-a561-30e6f87e1e0d",
   "metadata": {},
   "outputs": [
    {
     "name": "stdout",
     "output_type": "stream",
     "text": [
      "image        [1, 5, 2, 0, 2, 0, 1, 1, 0, 2, 2, 1, 0, 0, 2, ...\n",
      "label_a                                                  camel\n",
      "label_at                                               camel_1\n",
      "file_name    camel_1_hair_0_cloth_0_pants_2_Z1005_XOP5_YOP1...\n",
      "Name: 0, dtype: object\n"
     ]
    }
   ],
   "source": [
    "print(df.loc[0])"
   ]
  },
  {
   "cell_type": "code",
   "execution_count": null,
   "id": "72b31d48-18b0-4038-8865-8e95db34a48e",
   "metadata": {},
   "outputs": [],
   "source": []
  }
 ],
 "metadata": {
  "kernelspec": {
   "display_name": "Python 3 (ipykernel)",
   "language": "python",
   "name": "python3"
  },
  "language_info": {
   "codemirror_mode": {
    "name": "ipython",
    "version": 3
   },
   "file_extension": ".py",
   "mimetype": "text/x-python",
   "name": "python",
   "nbconvert_exporter": "python",
   "pygments_lexer": "ipython3",
   "version": "3.9.1"
  }
 },
 "nbformat": 4,
 "nbformat_minor": 5
}
