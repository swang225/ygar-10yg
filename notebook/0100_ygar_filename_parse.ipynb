{
 "cells": [
  {
   "cell_type": "code",
   "execution_count": 2,
   "id": "23d8c258-f4d3-4c6b-8b7e-a01fedab79f2",
   "metadata": {},
   "outputs": [],
   "source": [
    "def parse_filename(filename):\n",
    "    words = filename.split(\"_\")\n",
    "    \n",
    "    yangle = words[-1]\n",
    "    yangle_val = float(yangle[3:]) / 10\n",
    "    if yangle[2] == \"N\":\n",
    "        yangle_val = -yangle_val\n",
    "        \n",
    "    xangle = words[-2]\n",
    "    xangle_val = float(xangle[3:]) / 10\n",
    "    if xangle[2] == \"N\":\n",
    "        xangle_val = -xangle_val\n",
    "        \n",
    "    yoffset = words[-3]\n",
    "    yoffset_val = float(yoffset[3:]) / 10\n",
    "    if yoffset[2] == \"N\":\n",
    "        yoffset_val = -yoffset_val\n",
    "    \n",
    "    xoffset = words[-4]\n",
    "    xoffset_val = float(xoffset[3:]) / 10\n",
    "    if xoffset[2] == \"N\":\n",
    "        xoffset_val = -xoffset_val\n",
    "        \n",
    "    zoom = words[-5]\n",
    "    zoom_val = float(zoom[1:]) / 10\n",
    "    \n",
    "    pants_type = words[-6]\n",
    "    cloth_type = words[-8]\n",
    "    hair_type = words[-10]\n",
    "    \n",
    "    action_type = words[-12]\n",
    "    \n",
    "    action = \"_\".join(words[:-12])\n",
    "    \n",
    "    return action, action_type, hair_type, cloth_type, pants_type, zoom_val, xoffset_val, yoffset_val, xangle_val, yangle_val\n",
    "    \n",
    "    "
   ]
  },
  {
   "cell_type": "code",
   "execution_count": 5,
   "id": "e0c0a239-7138-4301-8ea1-fdfeadc3b3b9",
   "metadata": {},
   "outputs": [],
   "source": [
    "name1 = \"camel_1_hair_0_cloth_0_pants_0_Z1031_XON17_YON18_XAP85_YAN32\"\n",
    "name2 = \"warrior_II_3_hair_3_cloth_1_pants_3_Z755_XON5_YON3_XAP165_YAN223\""
   ]
  },
  {
   "cell_type": "code",
   "execution_count": 6,
   "id": "8f5221ec-73f7-45de-a2cb-903e50b52fe6",
   "metadata": {},
   "outputs": [
    {
     "name": "stdout",
     "output_type": "stream",
     "text": [
      "('camel', '1', '0', '0', '0', 103.1, -1.7, -1.8, 8.5, -3.2)\n"
     ]
    }
   ],
   "source": [
    "print(parse_filename(name1))"
   ]
  },
  {
   "cell_type": "code",
   "execution_count": 7,
   "id": "9b4e2d55-d919-4b25-8711-b6b6b1c2f942",
   "metadata": {},
   "outputs": [
    {
     "name": "stdout",
     "output_type": "stream",
     "text": [
      "('warrior_II', '3', '3', '1', '3', 75.5, -0.5, -0.3, 16.5, -22.3)\n"
     ]
    }
   ],
   "source": [
    "print(parse_filename(name2))"
   ]
  },
  {
   "cell_type": "code",
   "execution_count": null,
   "id": "24e9424c-034a-4fe7-9381-1f31589514fa",
   "metadata": {},
   "outputs": [],
   "source": []
  }
 ],
 "metadata": {
  "kernelspec": {
   "display_name": "Python 3 (ipykernel)",
   "language": "python",
   "name": "python3"
  },
  "language_info": {
   "codemirror_mode": {
    "name": "ipython",
    "version": 3
   },
   "file_extension": ".py",
   "mimetype": "text/x-python",
   "name": "python",
   "nbconvert_exporter": "python",
   "pygments_lexer": "ipython3",
   "version": "3.9.1"
  }
 },
 "nbformat": 4,
 "nbformat_minor": 5
}
